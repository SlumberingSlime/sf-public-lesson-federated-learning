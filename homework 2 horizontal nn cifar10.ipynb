{
 "cells": [
  {
   "cell_type": "markdown",
   "id": "1ee75511-a1e5-47ab-af84-6008818f6002",
   "metadata": {
    "libroFormatter": "formatter-string"
   },
   "source": [
    "单机版本"
   ]
  },
  {
   "cell_type": "code",
   "execution_count": 6,
   "id": "4d62412d-f4e3-4d44-ad83-cda1884320f4",
   "metadata": {
    "execution": {
     "parties": "[\"alice\"]",
     "shell.execute_reply.end": "2024-08-05T09:28:45.980866Z",
     "shell.execute_reply.started": "2024-08-05T09:28:45.970016Z",
     "to_execute": "2024-08-05T09:28:45.946Z"
    },
    "libroFormatter": "formatter-string"
   },
   "outputs": [],
   "source": [
    "import ssl\n",
    "ssl._create_default_https_context=ssl._create_unverified_context"
   ]
  },
  {
   "cell_type": "code",
   "execution_count": 7,
   "id": "05611ebd-5835-4e9d-a266-5c6b1cd53291",
   "metadata": {
    "execution": {
     "parties": "[\"alice\"]",
     "shell.execute_reply.end": "2024-08-05T09:28:49.345011Z",
     "shell.execute_reply.started": "2024-08-05T09:28:45.984799Z",
     "to_execute": "2024-08-05T09:28:45.948Z"
    },
    "libroFormatter": "formatter-string"
   },
   "outputs": [],
   "source": [
    "from keras.utils import to_categorical\n",
    "import tensorflow as tf\n",
    "from tensorflow import keras\n",
    "\n",
    "(x_train, y_train), (x_test, y_test) = tf.keras.datasets.cifar10.load_data()\n",
    "# nomalize\n",
    "x_train, x_test = x_train / 255, x_test / 255\n",
    "y_train_ohe = to_categorical(y_train, num_classes=10)\n",
    "y_test_ohe = to_categorical(y_test, num_classes=10)\n"
   ]
  },
  {
   "cell_type": "code",
   "execution_count": 8,
   "id": "fbaf0330-f073-4d95-aad6-a5ac6db02c4d",
   "metadata": {
    "execution": {
     "parties": "[\"alice\"]",
     "shell.execute_reply.end": "2024-08-05T09:28:49.352645Z",
     "shell.execute_reply.started": "2024-08-05T09:28:49.347030Z",
     "to_execute": "2024-08-05T09:28:45.948Z"
    },
    "libroFormatter": "formatter-string"
   },
   "outputs": [],
   "source": [
    "def cifar10_model(input_shape, num_classes):\n",
    "    model = keras.Sequential(\n",
    "        [\n",
    "            tf.keras.Input(shape=input_shape),\n",
    "            tf.keras.layers.Conv2D(32, kernel_size=(3, 3), activation=\"relu\"),\n",
    "            tf.keras.layers.MaxPooling2D(pool_size=(2, 2)),\n",
    "            tf.keras.layers.Conv2D(64, kernel_size=(3, 3), activation=\"relu\"),\n",
    "            tf.keras.layers.MaxPooling2D(pool_size=(2, 2)),\n",
    "            tf.keras.layers.Flatten(),\n",
    "            tf.keras.layers.Dropout(0.5),\n",
    "            tf.keras.layers.Dense(num_classes, activation=\"softmax\"),\n",
    "        ]\n",
    "    )\n",
    "    # Compile model\n",
    "    model.compile(\n",
    "        loss=\"categorical_crossentropy\", optimizer=\"adam\", metrics=[\"accuracy\"]\n",
    "    )\n",
    "    return model\n"
   ]
  },
  {
   "cell_type": "code",
   "execution_count": 9,
   "id": "18d4cb9b-106e-4f83-b2f3-cb40c9000e57",
   "metadata": {
    "execution": {
     "parties": "[\"alice\"]",
     "shell.execute_reply.end": "2024-08-05T09:29:57.277199Z",
     "shell.execute_reply.started": "2024-08-05T09:28:49.355553Z",
     "to_execute": "2024-08-05T09:28:45.949Z"
    },
    "libroFormatter": "formatter-string"
   },
   "outputs": [
    {
     "name": "stdout",
     "output_type": "stream",
     "text": [
      "Epoch 1/5\n",
      "782/782 [==============================] - 14s 18ms/step - loss: 1.6226 - categorical_accuracy: 0.4148 - val_loss: 1.3994 - val_categorical_accuracy: 0.5085\n",
      "Epoch 2/5\n",
      "782/782 [==============================] - 14s 17ms/step - loss: 1.3298 - categorical_accuracy: 0.5301 - val_loss: 1.1970 - val_categorical_accuracy: 0.5857\n",
      "Epoch 3/5\n",
      "782/782 [==============================] - 14s 18ms/step - loss: 1.2123 - categorical_accuracy: 0.5760 - val_loss: 1.1684 - val_categorical_accuracy: 0.5982\n",
      "Epoch 4/5\n",
      "782/782 [==============================] - 13s 17ms/step - loss: 1.1365 - categorical_accuracy: 0.6022 - val_loss: 1.0285 - val_categorical_accuracy: 0.6500\n",
      "Epoch 5/5\n",
      "782/782 [==============================] - 12s 15ms/step - loss: 1.0892 - categorical_accuracy: 0.6203 - val_loss: 1.0119 - val_categorical_accuracy: 0.6535\n"
     ]
    },
    {
     "data": {
      "text/plain": [
       "<keras.callbacks.History at 0x7f13b4d3abc0>"
      ]
     },
     "execution_count": 9,
     "metadata": {},
     "output_type": "execute_result"
    }
   ],
   "source": [
    "model = cifar10_model(input_shape=(32, 32, 3), num_classes=10)\n",
    "model.compile(\n",
    "    optimizer=\"adam\", loss=\"categorical_crossentropy\", metrics=[\"categorical_accuracy\"]\n",
    ")\n",
    "model.fit(\n",
    "    x_train, y_train_ohe, validation_data=(x_test, y_test_ohe), batch_size=64, epochs=5\n",
    ")\n"
   ]
  },
  {
   "cell_type": "code",
   "execution_count": 10,
   "id": "6b314280-2d2c-4e41-82e4-9a10f7f53ccb",
   "metadata": {
    "execution": {
     "parties": "[\"alice\"]",
     "shell.execute_reply.end": "2024-08-05T09:30:02.763167Z",
     "shell.execute_reply.started": "2024-08-05T09:29:57.280538Z",
     "to_execute": "2024-08-05T09:28:45.949Z"
    },
    "libroFormatter": "formatter-string"
   },
   "outputs": [
    {
     "name": "stderr",
     "output_type": "stream",
     "text": [
      "/usr/local/lib/python3.10/subprocess.py:1796: RuntimeWarning: os.fork() was called. os.fork() is incompatible with multithreaded code, and JAX is multithreaded, so this will likely lead to a deadlock.\n",
      "  self.pid = _posixsubprocess.fork_exec(\n",
      "2024-08-05 09:30:00,587\tWARNING services.py:1996 -- WARNING: The object store is using /tmp instead of /dev/shm because /dev/shm has only 67108864 bytes available. This will harm performance! You may be able to free up space by deleting files in /dev/shm. If you are inside a Docker container, you can increase /dev/shm size by passing '--shm-size=3.14gb' to 'docker run' (or add it to the run_options list in a Ray cluster config). Make sure to set this to more than 30% of available RAM.\n",
      "2024-08-05 09:30:01,765\tINFO worker.py:1724 -- Started a local Ray instance.\n"
     ]
    }
   ],
   "source": [
    "import secretflow as sf\n",
    "sf.shutdown()\n",
    "sf.init(['alice','bob'],address='local')\n",
    "alice,bob = sf.PYU('alice'),sf.PYU('bob')\n"
   ]
  },
  {
   "cell_type": "markdown",
   "id": "33cf35ea-99a7-4a13-9662-6c56fad72cfb",
   "metadata": {
    "libroCellType": "markdown",
    "libroFormatter": "formatter-string"
   },
   "source": [
    "有两种数据导入的方式，一种是create_ndarray，还有一种是普通save/load（文件读入）"
   ]
  },
  {
   "cell_type": "code",
   "execution_count": 11,
   "id": "d509db4d-79a1-46a0-b06f-84bf8eb22db3",
   "metadata": {
    "execution": {
     "parties": "[\"alice\"]",
     "shell.execute_reply.end": "2024-08-05T09:30:28.770194Z",
     "shell.execute_reply.started": "2024-08-05T09:30:02.769267Z",
     "to_execute": "2024-08-05T09:28:45.949Z"
    },
    "libroFormatter": "formatter-string"
   },
   "outputs": [],
   "source": [
    "# create ndarray\n",
    "from secretflow.utils.simulation.data.ndarray import create_ndarray\n",
    "\n",
    "(x_train, y_train), (x_test, y_test) = tf.keras.datasets.cifar10.load_data()\n",
    "# normalized x:\n",
    "x_train = x_train / 255\n",
    "x_test = x_test / 255\n",
    "y_train = to_categorical(y_train, num_classes=10)\n",
    "y_test = to_categorical(y_test, num_classes=10)\n",
    "parts = {alice: 0.5, bob: 0.5}\n",
    "fed_train_x = create_ndarray(x_train, parts=parts, axis=0)\n",
    "fed_train_y = create_ndarray(y_train, parts=parts, axis=0)\n",
    "fed_test_x = create_ndarray(x_test, parts=parts, axis=0)\n",
    "fed_test_y = create_ndarray(y_test, parts=parts, axis=0)\n"
   ]
  },
  {
   "cell_type": "code",
   "execution_count": 12,
   "id": "6a17bdc3-241a-4e65-b973-173d0be191bc",
   "metadata": {
    "execution": {
     "parties": "[\"alice\"]",
     "shell.execute_reply.end": "2024-08-05T09:30:29.722464Z",
     "shell.execute_reply.started": "2024-08-05T09:30:28.780106Z",
     "to_execute": "2024-08-05T09:28:45.950Z"
    },
    "libroFormatter": "formatter-string"
   },
   "outputs": [
    {
     "data": {
      "text/plain": [
       "{PYURuntime(alice): (25000, 32, 32, 3), PYURuntime(bob): (25000, 32, 32, 3)}"
      ]
     },
     "execution_count": 12,
     "metadata": {},
     "output_type": "execute_result"
    }
   ],
   "source": [
    "fed_train_x.partition_shape()"
   ]
  },
  {
   "cell_type": "code",
   "execution_count": 13,
   "id": "32cd4b12-e93a-4449-b061-e1cfdc603e31",
   "metadata": {
    "execution": {
     "parties": "[\"alice\"]",
     "shell.execute_reply.end": "2024-08-05T09:30:31.298455Z",
     "shell.execute_reply.started": "2024-08-05T09:30:29.724138Z",
     "to_execute": "2024-08-05T09:28:45.950Z"
    },
    "libroFormatter": "formatter-string"
   },
   "outputs": [
    {
     "data": {
      "text/plain": [
       "{PYURuntime(alice): (25000, 10), PYURuntime(bob): (25000, 10)}"
      ]
     },
     "execution_count": 13,
     "metadata": {},
     "output_type": "execute_result"
    }
   ],
   "source": [
    "fed_train_y.partition_shape()"
   ]
  },
  {
   "cell_type": "code",
   "execution_count": 14,
   "id": "374dbc0b-c04b-4833-bc69-a42b953f444d",
   "metadata": {
    "execution": {
     "parties": "[\"alice\"]",
     "shell.execute_reply.end": "2024-08-05T09:30:33.230945Z",
     "shell.execute_reply.started": "2024-08-05T09:30:31.301550Z",
     "to_execute": "2024-08-05T09:28:45.950Z"
    },
    "libroFormatter": "formatter-string"
   },
   "outputs": [],
   "source": [
    "# 文件读取\n",
    "import numpy as np\n",
    "from secretflow.data.ndarray import load\n",
    "\n",
    "(x_train, y_train), (x_test, y_test) = tf.keras.datasets.cifar10.load_data()\n",
    "y_train = to_categorical(y_train, num_classes=10)\n",
    "y_test = to_categorical(y_test, num_classes=10)\n",
    "alice_train_x = x_train[:25000]\n",
    "alice_train_y = y_train[:25000]\n",
    "bob_train_x = x_train[25000:]\n",
    "bob_train_y = y_train[25000:]\n",
    "np.savez(\n",
    "    \"alice.npz\",\n",
    "    train_x=alice_train_x,\n",
    "    train_y=alice_train_y,\n",
    "    test_x=x_test,\n",
    "    test_y=y_test,\n",
    ")\n",
    "np.savez(\n",
    "    \"bob.npz\", train_x=bob_train_x, train_y=bob_train_y, test_x=x_test, test_y=y_test\n",
    ")\n",
    "fed_npz = load(\n",
    "    {alice: \"./alice.npz\", bob: \"./bob.npz\"},\n",
    "    partition_way=sf.data.ndarray.PartitionWay.HORIZONTAL,\n",
    ")\n",
    "fed_train_x, fed_train_y, fed_test_x, fed_test_y = (\n",
    "    fed_npz[\"train_x\"],\n",
    "    fed_npz[\"train_y\"],\n",
    "    fed_npz[\"test_x\"],\n",
    "    fed_npz[\"test_y\"],\n",
    ")\n"
   ]
  },
  {
   "cell_type": "code",
   "execution_count": 15,
   "id": "2b7f74b5-671b-4b6b-9656-367e6c0435fa",
   "metadata": {
    "execution": {
     "parties": "[\"alice\"]",
     "shell.execute_reply.end": "2024-08-05T09:30:33.243546Z",
     "shell.execute_reply.started": "2024-08-05T09:30:33.235395Z",
     "to_execute": "2024-08-05T09:28:45.951Z"
    },
    "libroFormatter": "formatter-string"
   },
   "outputs": [
    {
     "data": {
      "text/plain": [
       "{'train_x': FedNdarray(partitions={PYURuntime(alice): <secretflow.device.device.pyu.PYUObject object at 0x7f127fa00fa0>, PYURuntime(bob): <secretflow.device.device.pyu.PYUObject object at 0x7f127fa027a0>}, partition_way=<PartitionWay.HORIZONTAL: 'horizontal'>),\n",
       " 'train_y': FedNdarray(partitions={PYURuntime(alice): <secretflow.device.device.pyu.PYUObject object at 0x7f127fa026b0>, PYURuntime(bob): <secretflow.device.device.pyu.PYUObject object at 0x7f127fa00760>}, partition_way=<PartitionWay.HORIZONTAL: 'horizontal'>),\n",
       " 'test_x': FedNdarray(partitions={PYURuntime(alice): <secretflow.device.device.pyu.PYUObject object at 0x7f127fa00640>, PYURuntime(bob): <secretflow.device.device.pyu.PYUObject object at 0x7f127fa00400>}, partition_way=<PartitionWay.HORIZONTAL: 'horizontal'>),\n",
       " 'test_y': FedNdarray(partitions={PYURuntime(alice): <secretflow.device.device.pyu.PYUObject object at 0x7f127fa00040>, PYURuntime(bob): <secretflow.device.device.pyu.PYUObject object at 0x7f127fa01930>}, partition_way=<PartitionWay.HORIZONTAL: 'horizontal'>)}"
      ]
     },
     "execution_count": 15,
     "metadata": {},
     "output_type": "execute_result"
    }
   ],
   "source": [
    "fed_npz # 是个字典"
   ]
  },
  {
   "cell_type": "code",
   "execution_count": 16,
   "id": "cadaad8d-e0ee-4c8e-9b9e-410727290d75",
   "metadata": {
    "execution": {
     "parties": "[\"alice\"]",
     "shell.execute_reply.end": "2024-08-05T09:30:33.399498Z",
     "shell.execute_reply.started": "2024-08-05T09:30:33.246680Z",
     "to_execute": "2024-08-05T09:28:45.951Z"
    },
    "libroFormatter": "formatter-string"
   },
   "outputs": [
    {
     "data": {
      "text/plain": [
       "({PYURuntime(alice): (25000, 10), PYURuntime(bob): (25000, 10)},\n",
       " {PYURuntime(alice): (25000, 32, 32, 3), PYURuntime(bob): (25000, 32, 32, 3)})"
      ]
     },
     "execution_count": 16,
     "metadata": {},
     "output_type": "execute_result"
    }
   ],
   "source": [
    "fed_train_y.partition_shape(), fed_train_x.partition_shape()"
   ]
  },
  {
   "cell_type": "code",
   "execution_count": 17,
   "id": "ce81fb53-575c-48dd-b09c-05944d85c740",
   "metadata": {
    "execution": {
     "parties": "[\"alice\"]",
     "shell.execute_reply.end": "2024-08-05T09:30:33.413095Z",
     "shell.execute_reply.started": "2024-08-05T09:30:33.404866Z",
     "to_execute": "2024-08-05T09:28:45.951Z"
    },
    "libroFormatter": "formatter-string"
   },
   "outputs": [],
   "source": [
    "# 定义模型\n",
    "def create_model(input_shape,num_class):\n",
    "    def be_wrapped_model():\n",
    "        return cifar10_model(input_shape,num_class)\n",
    "    return be_wrapped_model"
   ]
  },
  {
   "cell_type": "code",
   "execution_count": 18,
   "id": "39668393-cabf-4a91-b37b-5ef35671c5e2",
   "metadata": {
    "execution": {
     "parties": "[\"alice\"]",
     "shell.execute_reply.end": "2024-08-05T09:30:36.517478Z",
     "shell.execute_reply.started": "2024-08-05T09:30:33.419380Z",
     "to_execute": "2024-08-05T09:28:45.952Z"
    },
    "libroFormatter": "formatter-string"
   },
   "outputs": [
    {
     "name": "stderr",
     "output_type": "stream",
     "text": [
      "INFO:root:Create proxy actor <class 'secretflow.security.aggregation.secure_aggregator._Masker'> with party alice.\n",
      "INFO:root:Create proxy actor <class 'secretflow.security.aggregation.secure_aggregator._Masker'> with party bob.\n",
      "INFO:root:Create proxy actor <class 'secretflow.ml.nn.fl.backend.tensorflow.strategy.fed_avg_w.PYUFedAvgW'> with party alice.\n",
      "INFO:root:Create proxy actor <class 'secretflow.ml.nn.fl.backend.tensorflow.strategy.fed_avg_w.PYUFedAvgW'> with party bob.\n"
     ]
    }
   ],
   "source": [
    "from secretflow.ml.nn import FLModel\n",
    "from secretflow.security.aggregation import SecureAggregator\n",
    "\n",
    "fl_model = FLModel(\n",
    "    device_list=[alice, bob],\n",
    "    model=create_model(input_shape=(32, 32, 3), num_class=10),\n",
    "    aggregator=SecureAggregator(bob, [alice, bob]),\n",
    "    strategy=\"fed_avg_w\",\n",
    "    backend=\"tensorflow\",\n",
    ")\n"
   ]
  },
  {
   "cell_type": "code",
   "execution_count": 19,
   "id": "192a11f4-b830-4904-9fbb-c918bcd02d9f",
   "metadata": {
    "execution": {
     "parties": "[\"alice\"]",
     "shell.execute_reply.end": "2024-08-05T09:32:50.486273Z",
     "shell.execute_reply.started": "2024-08-05T09:30:36.525382Z",
     "to_execute": "2024-08-05T09:28:45.952Z"
    },
    "libroFormatter": "formatter-string"
   },
   "outputs": [
    {
     "name": "stderr",
     "output_type": "stream",
     "text": [
      "INFO:root:FL Train Params: {'x': FedNdarray(partitions={PYURuntime(alice): <secretflow.device.device.pyu.PYUObject object at 0x7f127fa00fa0>, PYURuntime(bob): <secretflow.device.device.pyu.PYUObject object at 0x7f127fa027a0>}, partition_way=<PartitionWay.HORIZONTAL: 'horizontal'>), 'y': FedNdarray(partitions={PYURuntime(alice): <secretflow.device.device.pyu.PYUObject object at 0x7f127fa026b0>, PYURuntime(bob): <secretflow.device.device.pyu.PYUObject object at 0x7f127fa00760>}, partition_way=<PartitionWay.HORIZONTAL: 'horizontal'>), 'batch_size': 64, 'batch_sampling_rate': None, 'epochs': 5, 'verbose': 1, 'callbacks': None, 'validation_data': (FedNdarray(partitions={PYURuntime(alice): <secretflow.device.device.pyu.PYUObject object at 0x7f127fa00640>, PYURuntime(bob): <secretflow.device.device.pyu.PYUObject object at 0x7f127fa00400>}, partition_way=<PartitionWay.HORIZONTAL: 'horizontal'>), FedNdarray(partitions={PYURuntime(alice): <secretflow.device.device.pyu.PYUObject object at 0x7f127fa00040>, PYURuntime(bob): <secretflow.device.device.pyu.PYUObject object at 0x7f127fa01930>}, partition_way=<PartitionWay.HORIZONTAL: 'horizontal'>)), 'shuffle': False, 'class_weight': None, 'sample_weight': None, 'validation_freq': 1, 'aggregate_freq': 10, 'label_decoder': None, 'max_batch_size': 20000, 'prefetch_buffer_size': None, 'sampler_method': 'batch', 'random_seed': 53505, 'dp_spent_step_freq': None, 'audit_log_dir': None, 'dataset_builder': None, 'wait_steps': 100, 'self': <secretflow.ml.nn.fl.fl_model.FLModel object at 0x7f127fbaa7a0>}\n",
      "Train Processing: :   0%|          | 0/391 [00:00<?, ?it/s]"
     ]
    },
    {
     "name": "stdout",
     "output_type": "stream",
     "text": [
      "Epoch 1/5\n"
     ]
    },
    {
     "name": "stderr",
     "output_type": "stream",
     "text": [
      "Train Processing: : 100%|█████████▉| 390/391 [00:26<00:00, 14.84it/s, {'loss': 2.2304354, 'accuracy': 0.2492, 'val_loss': 1.660353, 'val_accuracy': 0.405}]\n",
      "Train Processing: :   0%|          | 0/391 [00:00<?, ?it/s]"
     ]
    },
    {
     "name": "stdout",
     "output_type": "stream",
     "text": [
      "Epoch 2/5\n"
     ]
    },
    {
     "name": "stderr",
     "output_type": "stream",
     "text": [
      "Train Processing: : 100%|█████████▉| 390/391 [00:24<00:00, 15.83it/s, {'loss': 1.6354717, 'accuracy': 0.4116, 'val_loss': 1.4303129, 'val_accuracy': 0.5051}]\n",
      "Train Processing: :   0%|          | 0/391 [00:00<?, ?it/s]"
     ]
    },
    {
     "name": "stdout",
     "output_type": "stream",
     "text": [
      "Epoch 3/5\n"
     ]
    },
    {
     "name": "stderr",
     "output_type": "stream",
     "text": [
      "Train Processing: : 100%|█████████▉| 390/391 [00:25<00:00, 15.17it/s, {'loss': 1.4619344, 'accuracy': 0.48272857, 'val_loss': 1.2868077, 'val_accuracy': 0.5528}]\n",
      "Train Processing: :   0%|          | 0/391 [00:00<?, ?it/s]"
     ]
    },
    {
     "name": "stdout",
     "output_type": "stream",
     "text": [
      "Epoch 4/5\n"
     ]
    },
    {
     "name": "stderr",
     "output_type": "stream",
     "text": [
      "Train Processing: : 100%|█████████▉| 390/391 [00:25<00:00, 15.58it/s, {'loss': 1.3500277, 'accuracy': 0.5243, 'val_loss': 1.1805264, 'val_accuracy': 0.5914}]\n",
      "Train Processing: :   0%|          | 0/391 [00:00<?, ?it/s]"
     ]
    },
    {
     "name": "stdout",
     "output_type": "stream",
     "text": [
      "Epoch 5/5\n"
     ]
    },
    {
     "name": "stderr",
     "output_type": "stream",
     "text": [
      "Train Processing: : 100%|█████████▉| 390/391 [00:24<00:00, 15.70it/s, {'loss': 1.2742547, 'accuracy': 0.55394286, 'val_loss': 1.1391653, 'val_accuracy': 0.6128}]\n"
     ]
    },
    {
     "data": {
      "text/plain": [
       "{'global_history': {'loss': [2.2304354,\n",
       "   1.6354717,\n",
       "   1.4619344,\n",
       "   1.3500277,\n",
       "   1.2742547],\n",
       "  'accuracy': [0.2492, 0.4116, 0.48272857, 0.5243, 0.55394286],\n",
       "  'val_loss': [1.660353, 1.4303129, 1.2868077, 1.1805264, 1.1391653],\n",
       "  'val_accuracy': [0.405, 0.5051, 0.5528, 0.5914, 0.6128]},\n",
       " 'local_history': {'alice_loss': [2.2307498,\n",
       "   1.6318861,\n",
       "   1.4576604,\n",
       "   1.3438071,\n",
       "   1.26877],\n",
       "  'alice_accuracy': [0.24756, 0.41145715, 0.4836857, 0.52625716, 0.55634284],\n",
       "  'alice_val_loss': [1.660353, 1.4303129, 1.2868077, 1.1805264, 1.1391653],\n",
       "  'alice_val_accuracy': [0.405, 0.5051, 0.5528, 0.5914, 0.6128],\n",
       "  'bob_loss': [2.230121, 1.6390573, 1.4662086, 1.3562481, 1.2797395],\n",
       "  'bob_accuracy': [0.25084, 0.41174287, 0.48177144, 0.52234286, 0.5515429],\n",
       "  'bob_val_loss': [1.660353, 1.4303129, 1.2868077, 1.1805264, 1.1391653],\n",
       "  'bob_val_accuracy': [0.405, 0.5051, 0.5528, 0.5914, 0.6128]}}"
      ]
     },
     "execution_count": 19,
     "metadata": {},
     "output_type": "execute_result"
    }
   ],
   "source": [
    "fl_model.fit(\n",
    "    fed_train_x,\n",
    "    fed_train_y,\n",
    "    validation_data=(fed_test_x, fed_test_y),\n",
    "    epochs=5,\n",
    "    aggregate_freq=10,\n",
    "    batch_size=64,\n",
    ")\n"
   ]
  },
  {
   "cell_type": "code",
   "execution_count": 20,
   "id": "2daec65e-d5dc-4cc6-b4c5-592a5757b4f5",
   "metadata": {
    "execution": {
     "parties": "[\"alice\"]",
     "shell.execute_reply.end": "2024-08-05T09:32:55.680496Z",
     "shell.execute_reply.started": "2024-08-05T09:32:50.490304Z",
     "to_execute": "2024-08-05T09:28:45.952Z"
    },
    "libroFormatter": "formatter-string"
   },
   "outputs": [
    {
     "name": "stdout",
     "output_type": "stream",
     "text": [
      "val_loss tf.Tensor(1.1391659, shape=(), dtype=float32)\n",
      "val_accuracy tf.Tensor(0.6128, shape=(), dtype=float32)\n"
     ]
    }
   ],
   "source": [
    "global_eval, local_eval = fl_model.evaluate(fed_test_x, fed_test_y)\n",
    "for e in global_eval:\n",
    "    print(e.name, e.result())\n"
   ]
  },
  {
   "cell_type": "code",
   "execution_count": 21,
   "id": "f9844627-2442-4b28-b481-fc81bba75d7d",
   "metadata": {
    "execution": {
     "parties": "[\"alice\"]",
     "shell.execute_reply.end": "2024-08-05T09:33:01.161578Z",
     "shell.execute_reply.started": "2024-08-05T09:32:55.683908Z",
     "to_execute": "2024-08-05T09:28:45.952Z"
    },
    "libroFormatter": "formatter-string"
   },
   "outputs": [],
   "source": [
    "pred_y = fl_model.predict(fed_test_x, batch_size=32)\n",
    "model_path = {alice: \"./alice_model\", bob: \"./bob_model\"}\n",
    "fl_model.save_model(model_path)\n"
   ]
  },
  {
   "cell_type": "code",
   "execution_count": 22,
   "id": "7782911e-576c-424a-98da-b0546343ff2e",
   "metadata": {
    "execution": {
     "parties": "[\"alice\"]",
     "shell.execute_reply.end": "2024-08-05T09:33:05.582247Z",
     "shell.execute_reply.started": "2024-08-05T09:33:01.164302Z",
     "to_execute": "2024-08-05T09:28:45.952Z"
    },
    "libroFormatter": "formatter-string"
   },
   "outputs": [
    {
     "name": "stderr",
     "output_type": "stream",
     "text": [
      "INFO:root:Create proxy actor <class 'secretflow.security.aggregation.secure_aggregator._Masker'> with party alice.\n",
      "INFO:root:Create proxy actor <class 'secretflow.security.aggregation.secure_aggregator._Masker'> with party bob.\n",
      "INFO:root:Create proxy actor <class 'secretflow.ml.nn.fl.backend.tensorflow.strategy.fed_avg_g.PYUFedAvgG'> with party alice.\n",
      "INFO:root:Create proxy actor <class 'secretflow.ml.nn.fl.backend.tensorflow.strategy.fed_avg_g.PYUFedAvgG'> with party bob.\n",
      "INFO:root:load model success\n"
     ]
    }
   ],
   "source": [
    "new_fl_model=FLModel(\n",
    "device_list=[alice,bob],\n",
    "model=create_model(input_shape=(32,32,3),num_class=10),\n",
    "aggregator=SecureAggregator(bob,[alice,bob]),\n",
    "strategy=\"fed_avg_g\",\n",
    "backend=\"tensorflow\"\n",
    ")\n",
    "new_fl_model.load_model(model_path)"
   ]
  },
  {
   "cell_type": "code",
   "execution_count": 23,
   "id": "db924080-b514-4ca9-928d-9cfa6e1032ba",
   "metadata": {
    "execution": {
     "parties": "[\"alice\"]",
     "shell.execute_reply.end": "2024-08-05T09:33:10.898059Z",
     "shell.execute_reply.started": "2024-08-05T09:33:05.585489Z",
     "to_execute": "2024-08-05T09:28:45.952Z"
    },
    "libroFormatter": "formatter-string"
   },
   "outputs": [
    {
     "data": {
      "text/plain": [
       "([Mean(name='loss', total=22783.318, count=20000.0),\n",
       "  Mean(name='accuracy', total=12256.0, count=20000.0)],\n",
       " {'alice': [Mean(name='loss', total=11391.659, count=10000.0),\n",
       "   Mean(name='accuracy', total=6128.0, count=10000.0)],\n",
       "  'bob': [Mean(name='loss', total=11391.659, count=10000.0),\n",
       "   Mean(name='accuracy', total=6128.0, count=10000.0)]})"
      ]
     },
     "execution_count": 23,
     "metadata": {},
     "output_type": "execute_result"
    }
   ],
   "source": [
    "new_fl_model.evaluate(fed_test_x,fed_test_y)"
   ]
  },
  {
   "cell_type": "code",
   "execution_count": 25,
   "id": "a2708903-aa55-4eb3-b5d0-16b335ba27ca",
   "metadata": {
    "execution": {
     "parties": "[\"alice\"]",
     "shell.execute_reply.end": "2024-08-05T09:37:04.043249Z",
     "shell.execute_reply.started": "2024-08-05T09:37:04.036527Z",
     "to_execute": "2024-08-05T09:37:04.027Z"
    },
    "libroFormatter": "formatter-string"
   },
   "outputs": [
    {
     "data": {
      "text/plain": [
       "(secretflow.data.ndarray.ndarray.FedNdarray,\n",
       " secretflow.data.ndarray.ndarray.FedNdarray)"
      ]
     },
     "execution_count": 25,
     "metadata": {},
     "output_type": "execute_result"
    }
   ],
   "source": [
    "type(fed_test_x), type(fed_test_y)"
   ]
  },
  {
   "cell_type": "code",
   "execution_count": 4,
   "id": "59cf3398-073f-4c12-b22d-9700813182ba",
   "metadata": {
    "execution": {
     "parties": "[\"alice\"]",
     "shell.execute_reply.end": "2024-08-06T06:27:52.687618Z",
     "shell.execute_reply.started": "2024-08-06T06:27:52.685050Z",
     "to_execute": "2024-08-06T06:27:52.681Z"
    },
    "libroFormatter": "formatter-string"
   },
   "outputs": [],
   "source": [
    "# new_fl_model.fit(fed_train_x,fed_train_y)"
   ]
  }
 ],
 "metadata": {},
 "nbformat": 4,
 "nbformat_minor": 5
}
