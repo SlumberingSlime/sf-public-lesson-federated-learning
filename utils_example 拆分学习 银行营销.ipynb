{
 "cells": [
  {
   "cell_type": "markdown",
   "id": "fd02c04f-e004-42c7-a6da-817bafa30f0f",
   "metadata": {
    "libroCellType": "markdown",
    "libroFormatter": "formatter-string"
   },
   "source": [
    "# 0. 数据下载"
   ]
  },
  {
   "cell_type": "code",
   "execution_count": 1,
   "id": "b49ceea5-d878-469f-aa5b-c8533323ea88",
   "metadata": {
    "execution": {
     "parties": "[\"alice\"]",
     "shell.execute_reply.end": "2024-08-06T09:04:55.272424Z",
     "shell.execute_reply.started": "2024-08-06T09:04:54.579361Z",
     "to_execute": "2024-08-06T09:04:54.575Z"
    },
    "libroFormatter": "formatter-string"
   },
   "outputs": [
    {
     "name": "stdout",
     "output_type": "stream",
     "text": [
      "mkdir: cannot create directory ‘datasets’: File exists\n",
      "  % Total    % Received % Xferd  Average Speed   Time    Time     Time  Current\n",
      "                                 Dload  Upload   Total   Spent    Left  Speed\n",
      "100  450k  100  450k    0     0  1592k      0 --:--:-- --:--:-- --:--:-- 1592k\n"
     ]
    }
   ],
   "source": [
    "!mkdir datasets\n",
    "!curl -o /home/secretnote/workspace/datasets/bank.csv https://secretflow-data.oss-accelerate.aliyuncs.com/datasets/bank_marketing/bank.csv"
   ]
  },
  {
   "cell_type": "code",
   "execution_count": 2,
   "id": "cb808fc7-cc7f-4243-827e-2ffb57b0ad6d",
   "metadata": {
    "execution": {
     "parties": "[\"alice\"]",
     "shell.execute_reply.end": "2024-08-06T09:04:55.651903Z",
     "shell.execute_reply.started": "2024-08-06T09:04:55.274743Z",
     "to_execute": "2024-08-06T09:04:54.576Z"
    },
    "libroFormatter": "formatter-string"
   },
   "outputs": [
    {
     "data": {
      "text/html": [
       "<div>\n",
       "<style scoped>\n",
       "    .dataframe tbody tr th:only-of-type {\n",
       "        vertical-align: middle;\n",
       "    }\n",
       "\n",
       "    .dataframe tbody tr th {\n",
       "        vertical-align: top;\n",
       "    }\n",
       "\n",
       "    .dataframe thead th {\n",
       "        text-align: right;\n",
       "    }\n",
       "</style>\n",
       "<table border=\"1\" class=\"dataframe\">\n",
       "  <thead>\n",
       "    <tr style=\"text-align: right;\">\n",
       "      <th></th>\n",
       "      <th>age</th>\n",
       "      <th>job</th>\n",
       "      <th>marital</th>\n",
       "      <th>education</th>\n",
       "      <th>default</th>\n",
       "      <th>balance</th>\n",
       "      <th>housing</th>\n",
       "      <th>loan</th>\n",
       "      <th>contact</th>\n",
       "      <th>day</th>\n",
       "      <th>month</th>\n",
       "      <th>duration</th>\n",
       "      <th>campaign</th>\n",
       "      <th>pdays</th>\n",
       "      <th>previous</th>\n",
       "      <th>poutcome</th>\n",
       "      <th>y</th>\n",
       "    </tr>\n",
       "  </thead>\n",
       "  <tbody>\n",
       "    <tr>\n",
       "      <th>0</th>\n",
       "      <td>30</td>\n",
       "      <td>unemployed</td>\n",
       "      <td>married</td>\n",
       "      <td>primary</td>\n",
       "      <td>no</td>\n",
       "      <td>1787</td>\n",
       "      <td>no</td>\n",
       "      <td>no</td>\n",
       "      <td>cellular</td>\n",
       "      <td>19</td>\n",
       "      <td>oct</td>\n",
       "      <td>79</td>\n",
       "      <td>1</td>\n",
       "      <td>-1</td>\n",
       "      <td>0</td>\n",
       "      <td>unknown</td>\n",
       "      <td>no</td>\n",
       "    </tr>\n",
       "    <tr>\n",
       "      <th>1</th>\n",
       "      <td>33</td>\n",
       "      <td>services</td>\n",
       "      <td>married</td>\n",
       "      <td>secondary</td>\n",
       "      <td>no</td>\n",
       "      <td>4789</td>\n",
       "      <td>yes</td>\n",
       "      <td>yes</td>\n",
       "      <td>cellular</td>\n",
       "      <td>11</td>\n",
       "      <td>may</td>\n",
       "      <td>220</td>\n",
       "      <td>1</td>\n",
       "      <td>339</td>\n",
       "      <td>4</td>\n",
       "      <td>failure</td>\n",
       "      <td>no</td>\n",
       "    </tr>\n",
       "    <tr>\n",
       "      <th>2</th>\n",
       "      <td>35</td>\n",
       "      <td>management</td>\n",
       "      <td>single</td>\n",
       "      <td>tertiary</td>\n",
       "      <td>no</td>\n",
       "      <td>1350</td>\n",
       "      <td>yes</td>\n",
       "      <td>no</td>\n",
       "      <td>cellular</td>\n",
       "      <td>16</td>\n",
       "      <td>apr</td>\n",
       "      <td>185</td>\n",
       "      <td>1</td>\n",
       "      <td>330</td>\n",
       "      <td>1</td>\n",
       "      <td>failure</td>\n",
       "      <td>no</td>\n",
       "    </tr>\n",
       "    <tr>\n",
       "      <th>3</th>\n",
       "      <td>30</td>\n",
       "      <td>management</td>\n",
       "      <td>married</td>\n",
       "      <td>tertiary</td>\n",
       "      <td>no</td>\n",
       "      <td>1476</td>\n",
       "      <td>yes</td>\n",
       "      <td>yes</td>\n",
       "      <td>unknown</td>\n",
       "      <td>3</td>\n",
       "      <td>jun</td>\n",
       "      <td>199</td>\n",
       "      <td>4</td>\n",
       "      <td>-1</td>\n",
       "      <td>0</td>\n",
       "      <td>unknown</td>\n",
       "      <td>no</td>\n",
       "    </tr>\n",
       "    <tr>\n",
       "      <th>4</th>\n",
       "      <td>59</td>\n",
       "      <td>blue-collar</td>\n",
       "      <td>married</td>\n",
       "      <td>secondary</td>\n",
       "      <td>no</td>\n",
       "      <td>0</td>\n",
       "      <td>yes</td>\n",
       "      <td>no</td>\n",
       "      <td>unknown</td>\n",
       "      <td>5</td>\n",
       "      <td>may</td>\n",
       "      <td>226</td>\n",
       "      <td>1</td>\n",
       "      <td>-1</td>\n",
       "      <td>0</td>\n",
       "      <td>unknown</td>\n",
       "      <td>no</td>\n",
       "    </tr>\n",
       "    <tr>\n",
       "      <th>...</th>\n",
       "      <td>...</td>\n",
       "      <td>...</td>\n",
       "      <td>...</td>\n",
       "      <td>...</td>\n",
       "      <td>...</td>\n",
       "      <td>...</td>\n",
       "      <td>...</td>\n",
       "      <td>...</td>\n",
       "      <td>...</td>\n",
       "      <td>...</td>\n",
       "      <td>...</td>\n",
       "      <td>...</td>\n",
       "      <td>...</td>\n",
       "      <td>...</td>\n",
       "      <td>...</td>\n",
       "      <td>...</td>\n",
       "      <td>...</td>\n",
       "    </tr>\n",
       "    <tr>\n",
       "      <th>4516</th>\n",
       "      <td>33</td>\n",
       "      <td>services</td>\n",
       "      <td>married</td>\n",
       "      <td>secondary</td>\n",
       "      <td>no</td>\n",
       "      <td>-333</td>\n",
       "      <td>yes</td>\n",
       "      <td>no</td>\n",
       "      <td>cellular</td>\n",
       "      <td>30</td>\n",
       "      <td>jul</td>\n",
       "      <td>329</td>\n",
       "      <td>5</td>\n",
       "      <td>-1</td>\n",
       "      <td>0</td>\n",
       "      <td>unknown</td>\n",
       "      <td>no</td>\n",
       "    </tr>\n",
       "    <tr>\n",
       "      <th>4517</th>\n",
       "      <td>57</td>\n",
       "      <td>self-employed</td>\n",
       "      <td>married</td>\n",
       "      <td>tertiary</td>\n",
       "      <td>yes</td>\n",
       "      <td>-3313</td>\n",
       "      <td>yes</td>\n",
       "      <td>yes</td>\n",
       "      <td>unknown</td>\n",
       "      <td>9</td>\n",
       "      <td>may</td>\n",
       "      <td>153</td>\n",
       "      <td>1</td>\n",
       "      <td>-1</td>\n",
       "      <td>0</td>\n",
       "      <td>unknown</td>\n",
       "      <td>no</td>\n",
       "    </tr>\n",
       "    <tr>\n",
       "      <th>4518</th>\n",
       "      <td>57</td>\n",
       "      <td>technician</td>\n",
       "      <td>married</td>\n",
       "      <td>secondary</td>\n",
       "      <td>no</td>\n",
       "      <td>295</td>\n",
       "      <td>no</td>\n",
       "      <td>no</td>\n",
       "      <td>cellular</td>\n",
       "      <td>19</td>\n",
       "      <td>aug</td>\n",
       "      <td>151</td>\n",
       "      <td>11</td>\n",
       "      <td>-1</td>\n",
       "      <td>0</td>\n",
       "      <td>unknown</td>\n",
       "      <td>no</td>\n",
       "    </tr>\n",
       "    <tr>\n",
       "      <th>4519</th>\n",
       "      <td>28</td>\n",
       "      <td>blue-collar</td>\n",
       "      <td>married</td>\n",
       "      <td>secondary</td>\n",
       "      <td>no</td>\n",
       "      <td>1137</td>\n",
       "      <td>no</td>\n",
       "      <td>no</td>\n",
       "      <td>cellular</td>\n",
       "      <td>6</td>\n",
       "      <td>feb</td>\n",
       "      <td>129</td>\n",
       "      <td>4</td>\n",
       "      <td>211</td>\n",
       "      <td>3</td>\n",
       "      <td>other</td>\n",
       "      <td>no</td>\n",
       "    </tr>\n",
       "    <tr>\n",
       "      <th>4520</th>\n",
       "      <td>44</td>\n",
       "      <td>entrepreneur</td>\n",
       "      <td>single</td>\n",
       "      <td>tertiary</td>\n",
       "      <td>no</td>\n",
       "      <td>1136</td>\n",
       "      <td>yes</td>\n",
       "      <td>yes</td>\n",
       "      <td>cellular</td>\n",
       "      <td>3</td>\n",
       "      <td>apr</td>\n",
       "      <td>345</td>\n",
       "      <td>2</td>\n",
       "      <td>249</td>\n",
       "      <td>7</td>\n",
       "      <td>other</td>\n",
       "      <td>no</td>\n",
       "    </tr>\n",
       "  </tbody>\n",
       "</table>\n",
       "<p>4521 rows × 17 columns</p>\n",
       "</div>"
      ],
      "text/plain": [
       "      age            job  marital  education default  balance housing loan  \\\n",
       "0      30     unemployed  married    primary      no     1787      no   no   \n",
       "1      33       services  married  secondary      no     4789     yes  yes   \n",
       "2      35     management   single   tertiary      no     1350     yes   no   \n",
       "3      30     management  married   tertiary      no     1476     yes  yes   \n",
       "4      59    blue-collar  married  secondary      no        0     yes   no   \n",
       "...   ...            ...      ...        ...     ...      ...     ...  ...   \n",
       "4516   33       services  married  secondary      no     -333     yes   no   \n",
       "4517   57  self-employed  married   tertiary     yes    -3313     yes  yes   \n",
       "4518   57     technician  married  secondary      no      295      no   no   \n",
       "4519   28    blue-collar  married  secondary      no     1137      no   no   \n",
       "4520   44   entrepreneur   single   tertiary      no     1136     yes  yes   \n",
       "\n",
       "       contact  day month  duration  campaign  pdays  previous poutcome   y  \n",
       "0     cellular   19   oct        79         1     -1         0  unknown  no  \n",
       "1     cellular   11   may       220         1    339         4  failure  no  \n",
       "2     cellular   16   apr       185         1    330         1  failure  no  \n",
       "3      unknown    3   jun       199         4     -1         0  unknown  no  \n",
       "4      unknown    5   may       226         1     -1         0  unknown  no  \n",
       "...        ...  ...   ...       ...       ...    ...       ...      ...  ..  \n",
       "4516  cellular   30   jul       329         5     -1         0  unknown  no  \n",
       "4517   unknown    9   may       153         1     -1         0  unknown  no  \n",
       "4518  cellular   19   aug       151        11     -1         0  unknown  no  \n",
       "4519  cellular    6   feb       129         4    211         3    other  no  \n",
       "4520  cellular    3   apr       345         2    249         7    other  no  \n",
       "\n",
       "[4521 rows x 17 columns]"
      ]
     },
     "execution_count": 2,
     "metadata": {},
     "output_type": "execute_result"
    }
   ],
   "source": [
    "import warnings\n",
    "import pandas as pd\n",
    "warnings.filterwarnings(\"ignore\",category=DeprecationWarning)\n",
    "pd.options.mode.chained_assignment = None # default='warn'\n",
    "df = pd.read_csv(\"~/workspace/datasets/bank.csv\", sep=';')\n",
    "df"
   ]
  },
  {
   "cell_type": "code",
   "execution_count": 3,
   "id": "3df5f8b9-c6f2-438a-91e5-0c2fd5f455dd",
   "metadata": {
    "execution": {
     "parties": "[\"alice\"]",
     "shell.execute_reply.end": "2024-08-06T09:04:55.660455Z",
     "shell.execute_reply.started": "2024-08-06T09:04:55.653379Z",
     "to_execute": "2024-08-06T09:04:54.576Z"
    },
    "libroFormatter": "formatter-string"
   },
   "outputs": [
    {
     "data": {
      "text/html": [
       "<div>\n",
       "<style scoped>\n",
       "    .dataframe tbody tr th:only-of-type {\n",
       "        vertical-align: middle;\n",
       "    }\n",
       "\n",
       "    .dataframe tbody tr th {\n",
       "        vertical-align: top;\n",
       "    }\n",
       "\n",
       "    .dataframe thead th {\n",
       "        text-align: right;\n",
       "    }\n",
       "</style>\n",
       "<table border=\"1\" class=\"dataframe\">\n",
       "  <thead>\n",
       "    <tr style=\"text-align: right;\">\n",
       "      <th></th>\n",
       "      <th>age</th>\n",
       "      <th>job</th>\n",
       "      <th>marital</th>\n",
       "      <th>education</th>\n",
       "      <th>y</th>\n",
       "    </tr>\n",
       "  </thead>\n",
       "  <tbody>\n",
       "    <tr>\n",
       "      <th>0</th>\n",
       "      <td>30</td>\n",
       "      <td>unemployed</td>\n",
       "      <td>married</td>\n",
       "      <td>primary</td>\n",
       "      <td>no</td>\n",
       "    </tr>\n",
       "    <tr>\n",
       "      <th>1</th>\n",
       "      <td>33</td>\n",
       "      <td>services</td>\n",
       "      <td>married</td>\n",
       "      <td>secondary</td>\n",
       "      <td>no</td>\n",
       "    </tr>\n",
       "    <tr>\n",
       "      <th>2</th>\n",
       "      <td>35</td>\n",
       "      <td>management</td>\n",
       "      <td>single</td>\n",
       "      <td>tertiary</td>\n",
       "      <td>no</td>\n",
       "    </tr>\n",
       "    <tr>\n",
       "      <th>3</th>\n",
       "      <td>30</td>\n",
       "      <td>management</td>\n",
       "      <td>married</td>\n",
       "      <td>tertiary</td>\n",
       "      <td>no</td>\n",
       "    </tr>\n",
       "    <tr>\n",
       "      <th>4</th>\n",
       "      <td>59</td>\n",
       "      <td>blue-collar</td>\n",
       "      <td>married</td>\n",
       "      <td>secondary</td>\n",
       "      <td>no</td>\n",
       "    </tr>\n",
       "    <tr>\n",
       "      <th>...</th>\n",
       "      <td>...</td>\n",
       "      <td>...</td>\n",
       "      <td>...</td>\n",
       "      <td>...</td>\n",
       "      <td>...</td>\n",
       "    </tr>\n",
       "    <tr>\n",
       "      <th>4516</th>\n",
       "      <td>33</td>\n",
       "      <td>services</td>\n",
       "      <td>married</td>\n",
       "      <td>secondary</td>\n",
       "      <td>no</td>\n",
       "    </tr>\n",
       "    <tr>\n",
       "      <th>4517</th>\n",
       "      <td>57</td>\n",
       "      <td>self-employed</td>\n",
       "      <td>married</td>\n",
       "      <td>tertiary</td>\n",
       "      <td>no</td>\n",
       "    </tr>\n",
       "    <tr>\n",
       "      <th>4518</th>\n",
       "      <td>57</td>\n",
       "      <td>technician</td>\n",
       "      <td>married</td>\n",
       "      <td>secondary</td>\n",
       "      <td>no</td>\n",
       "    </tr>\n",
       "    <tr>\n",
       "      <th>4519</th>\n",
       "      <td>28</td>\n",
       "      <td>blue-collar</td>\n",
       "      <td>married</td>\n",
       "      <td>secondary</td>\n",
       "      <td>no</td>\n",
       "    </tr>\n",
       "    <tr>\n",
       "      <th>4520</th>\n",
       "      <td>44</td>\n",
       "      <td>entrepreneur</td>\n",
       "      <td>single</td>\n",
       "      <td>tertiary</td>\n",
       "      <td>no</td>\n",
       "    </tr>\n",
       "  </tbody>\n",
       "</table>\n",
       "<p>4521 rows × 5 columns</p>\n",
       "</div>"
      ],
      "text/plain": [
       "      age            job  marital  education   y\n",
       "0      30     unemployed  married    primary  no\n",
       "1      33       services  married  secondary  no\n",
       "2      35     management   single   tertiary  no\n",
       "3      30     management  married   tertiary  no\n",
       "4      59    blue-collar  married  secondary  no\n",
       "...   ...            ...      ...        ...  ..\n",
       "4516   33       services  married  secondary  no\n",
       "4517   57  self-employed  married   tertiary  no\n",
       "4518   57     technician  married  secondary  no\n",
       "4519   28    blue-collar  married  secondary  no\n",
       "4520   44   entrepreneur   single   tertiary  no\n",
       "\n",
       "[4521 rows x 5 columns]"
      ]
     },
     "execution_count": 3,
     "metadata": {},
     "output_type": "execute_result"
    }
   ],
   "source": [
    "alice_data = df[[\"age\",\"job\",\"marital\",\"education\",\"y\"]]\n",
    "alice_data"
   ]
  },
  {
   "cell_type": "code",
   "execution_count": 4,
   "id": "cbbf2c98-e3e0-4ace-94a1-bcd52cd89a59",
   "metadata": {
    "execution": {
     "parties": "[\"alice\"]",
     "shell.execute_reply.end": "2024-08-06T09:04:55.672582Z",
     "shell.execute_reply.started": "2024-08-06T09:04:55.661947Z",
     "to_execute": "2024-08-06T09:04:54.576Z"
    },
    "libroFormatter": "formatter-string"
   },
   "outputs": [
    {
     "data": {
      "text/html": [
       "<div>\n",
       "<style scoped>\n",
       "    .dataframe tbody tr th:only-of-type {\n",
       "        vertical-align: middle;\n",
       "    }\n",
       "\n",
       "    .dataframe tbody tr th {\n",
       "        vertical-align: top;\n",
       "    }\n",
       "\n",
       "    .dataframe thead th {\n",
       "        text-align: right;\n",
       "    }\n",
       "</style>\n",
       "<table border=\"1\" class=\"dataframe\">\n",
       "  <thead>\n",
       "    <tr style=\"text-align: right;\">\n",
       "      <th></th>\n",
       "      <th>default</th>\n",
       "      <th>balance</th>\n",
       "      <th>housing</th>\n",
       "      <th>loan</th>\n",
       "      <th>contact</th>\n",
       "      <th>day</th>\n",
       "      <th>month</th>\n",
       "      <th>duration</th>\n",
       "      <th>campaign</th>\n",
       "      <th>pdays</th>\n",
       "      <th>previous</th>\n",
       "      <th>poutcome</th>\n",
       "    </tr>\n",
       "  </thead>\n",
       "  <tbody>\n",
       "    <tr>\n",
       "      <th>0</th>\n",
       "      <td>no</td>\n",
       "      <td>1787</td>\n",
       "      <td>no</td>\n",
       "      <td>no</td>\n",
       "      <td>cellular</td>\n",
       "      <td>19</td>\n",
       "      <td>oct</td>\n",
       "      <td>79</td>\n",
       "      <td>1</td>\n",
       "      <td>-1</td>\n",
       "      <td>0</td>\n",
       "      <td>unknown</td>\n",
       "    </tr>\n",
       "    <tr>\n",
       "      <th>1</th>\n",
       "      <td>no</td>\n",
       "      <td>4789</td>\n",
       "      <td>yes</td>\n",
       "      <td>yes</td>\n",
       "      <td>cellular</td>\n",
       "      <td>11</td>\n",
       "      <td>may</td>\n",
       "      <td>220</td>\n",
       "      <td>1</td>\n",
       "      <td>339</td>\n",
       "      <td>4</td>\n",
       "      <td>failure</td>\n",
       "    </tr>\n",
       "    <tr>\n",
       "      <th>2</th>\n",
       "      <td>no</td>\n",
       "      <td>1350</td>\n",
       "      <td>yes</td>\n",
       "      <td>no</td>\n",
       "      <td>cellular</td>\n",
       "      <td>16</td>\n",
       "      <td>apr</td>\n",
       "      <td>185</td>\n",
       "      <td>1</td>\n",
       "      <td>330</td>\n",
       "      <td>1</td>\n",
       "      <td>failure</td>\n",
       "    </tr>\n",
       "    <tr>\n",
       "      <th>3</th>\n",
       "      <td>no</td>\n",
       "      <td>1476</td>\n",
       "      <td>yes</td>\n",
       "      <td>yes</td>\n",
       "      <td>unknown</td>\n",
       "      <td>3</td>\n",
       "      <td>jun</td>\n",
       "      <td>199</td>\n",
       "      <td>4</td>\n",
       "      <td>-1</td>\n",
       "      <td>0</td>\n",
       "      <td>unknown</td>\n",
       "    </tr>\n",
       "    <tr>\n",
       "      <th>4</th>\n",
       "      <td>no</td>\n",
       "      <td>0</td>\n",
       "      <td>yes</td>\n",
       "      <td>no</td>\n",
       "      <td>unknown</td>\n",
       "      <td>5</td>\n",
       "      <td>may</td>\n",
       "      <td>226</td>\n",
       "      <td>1</td>\n",
       "      <td>-1</td>\n",
       "      <td>0</td>\n",
       "      <td>unknown</td>\n",
       "    </tr>\n",
       "    <tr>\n",
       "      <th>...</th>\n",
       "      <td>...</td>\n",
       "      <td>...</td>\n",
       "      <td>...</td>\n",
       "      <td>...</td>\n",
       "      <td>...</td>\n",
       "      <td>...</td>\n",
       "      <td>...</td>\n",
       "      <td>...</td>\n",
       "      <td>...</td>\n",
       "      <td>...</td>\n",
       "      <td>...</td>\n",
       "      <td>...</td>\n",
       "    </tr>\n",
       "    <tr>\n",
       "      <th>4516</th>\n",
       "      <td>no</td>\n",
       "      <td>-333</td>\n",
       "      <td>yes</td>\n",
       "      <td>no</td>\n",
       "      <td>cellular</td>\n",
       "      <td>30</td>\n",
       "      <td>jul</td>\n",
       "      <td>329</td>\n",
       "      <td>5</td>\n",
       "      <td>-1</td>\n",
       "      <td>0</td>\n",
       "      <td>unknown</td>\n",
       "    </tr>\n",
       "    <tr>\n",
       "      <th>4517</th>\n",
       "      <td>yes</td>\n",
       "      <td>-3313</td>\n",
       "      <td>yes</td>\n",
       "      <td>yes</td>\n",
       "      <td>unknown</td>\n",
       "      <td>9</td>\n",
       "      <td>may</td>\n",
       "      <td>153</td>\n",
       "      <td>1</td>\n",
       "      <td>-1</td>\n",
       "      <td>0</td>\n",
       "      <td>unknown</td>\n",
       "    </tr>\n",
       "    <tr>\n",
       "      <th>4518</th>\n",
       "      <td>no</td>\n",
       "      <td>295</td>\n",
       "      <td>no</td>\n",
       "      <td>no</td>\n",
       "      <td>cellular</td>\n",
       "      <td>19</td>\n",
       "      <td>aug</td>\n",
       "      <td>151</td>\n",
       "      <td>11</td>\n",
       "      <td>-1</td>\n",
       "      <td>0</td>\n",
       "      <td>unknown</td>\n",
       "    </tr>\n",
       "    <tr>\n",
       "      <th>4519</th>\n",
       "      <td>no</td>\n",
       "      <td>1137</td>\n",
       "      <td>no</td>\n",
       "      <td>no</td>\n",
       "      <td>cellular</td>\n",
       "      <td>6</td>\n",
       "      <td>feb</td>\n",
       "      <td>129</td>\n",
       "      <td>4</td>\n",
       "      <td>211</td>\n",
       "      <td>3</td>\n",
       "      <td>other</td>\n",
       "    </tr>\n",
       "    <tr>\n",
       "      <th>4520</th>\n",
       "      <td>no</td>\n",
       "      <td>1136</td>\n",
       "      <td>yes</td>\n",
       "      <td>yes</td>\n",
       "      <td>cellular</td>\n",
       "      <td>3</td>\n",
       "      <td>apr</td>\n",
       "      <td>345</td>\n",
       "      <td>2</td>\n",
       "      <td>249</td>\n",
       "      <td>7</td>\n",
       "      <td>other</td>\n",
       "    </tr>\n",
       "  </tbody>\n",
       "</table>\n",
       "<p>4521 rows × 12 columns</p>\n",
       "</div>"
      ],
      "text/plain": [
       "     default  balance housing loan   contact  day month  duration  campaign  \\\n",
       "0         no     1787      no   no  cellular   19   oct        79         1   \n",
       "1         no     4789     yes  yes  cellular   11   may       220         1   \n",
       "2         no     1350     yes   no  cellular   16   apr       185         1   \n",
       "3         no     1476     yes  yes   unknown    3   jun       199         4   \n",
       "4         no        0     yes   no   unknown    5   may       226         1   \n",
       "...      ...      ...     ...  ...       ...  ...   ...       ...       ...   \n",
       "4516      no     -333     yes   no  cellular   30   jul       329         5   \n",
       "4517     yes    -3313     yes  yes   unknown    9   may       153         1   \n",
       "4518      no      295      no   no  cellular   19   aug       151        11   \n",
       "4519      no     1137      no   no  cellular    6   feb       129         4   \n",
       "4520      no     1136     yes  yes  cellular    3   apr       345         2   \n",
       "\n",
       "      pdays  previous poutcome  \n",
       "0        -1         0  unknown  \n",
       "1       339         4  failure  \n",
       "2       330         1  failure  \n",
       "3        -1         0  unknown  \n",
       "4        -1         0  unknown  \n",
       "...     ...       ...      ...  \n",
       "4516     -1         0  unknown  \n",
       "4517     -1         0  unknown  \n",
       "4518     -1         0  unknown  \n",
       "4519    211         3    other  \n",
       "4520    249         7    other  \n",
       "\n",
       "[4521 rows x 12 columns]"
      ]
     },
     "execution_count": 4,
     "metadata": {},
     "output_type": "execute_result"
    }
   ],
   "source": [
    "bob_data = df[\n",
    "    [\n",
    "        \"default\",\n",
    "        \"balance\",\n",
    "        \"housing\",\n",
    "        \"loan\",\n",
    "        \"contact\",\n",
    "        \"day\",\n",
    "        \"month\",\n",
    "        \"duration\",\n",
    "        \"campaign\",\n",
    "        \"pdays\" ,\n",
    "        \"previous\",\n",
    "        'poutcome'\n",
    "    ]\n",
    "]\n",
    "\n",
    "bob_data"
   ]
  },
  {
   "cell_type": "markdown",
   "id": "ebf0bb5c-8d33-4bc7-a0f7-610eafe57b99",
   "metadata": {
    "libroCellType": "markdown",
    "libroFormatter": "formatter-string"
   },
   "source": [
    "# 1. 数据处理"
   ]
  },
  {
   "cell_type": "code",
   "execution_count": 5,
   "id": "62667112-ec16-4808-9347-cc12f051b2d6",
   "metadata": {
    "execution": {
     "parties": "[\"alice\"]",
     "shell.execute_reply.end": "2024-08-06T09:04:56.133017Z",
     "shell.execute_reply.started": "2024-08-06T09:04:55.675439Z",
     "to_execute": "2024-08-06T09:04:54.576Z"
    },
    "libroFormatter": "formatter-string"
   },
   "outputs": [],
   "source": [
    "import pandas as pd\n",
    "from sklearn.model_selection import train_test_split\n",
    "from sklearn.preprocessing import MinMaxScaler\n",
    "from sklearn.preprocessing import LabelEncoder\n",
    "\n",
    "encoder = LabelEncoder()\n",
    "alice_data.loc[:,'job']= encoder.fit_transform(alice_data['job'])\n",
    "alice_data.loc[:,'marital']= encoder.fit_transform(alice_data['marital'])\n",
    "alice_data.loc[:,'education']=encoder.fit_transform(alice_data['education'])\n",
    "bob_data.loc[:,'default']=encoder.fit_transform(bob_data['default'])\n",
    "bob_data.loc[:,'housing']= encoder.fit_transform(bob_data['housing'])\n",
    "bob_data.loc[:,'loan']=encoder.fit_transform(bob_data['loan'])\n",
    "bob_data.loc[:,'contact']=encoder.fit_transform(bob_data['contact'])\n",
    "bob_data.loc[:,'poutcome']= encoder.fit_transform(bob_data['poutcome'])\n",
    "bob_data.loc[:,'month']= encoder.fit_transform(bob_data['month'])\n",
    "train_label=encoder.fit_transform(alice_data['y'])\n",
    "alice_data.drop(columns=[\"y\"],inplace=True)\n",
    "scaler = MinMaxScaler()\n",
    "alice_data=scaler.fit_transform(alice_data)\n",
    "bob_data=scaler.fit_transform(bob_data)"
   ]
  },
  {
   "cell_type": "code",
   "execution_count": 6,
   "id": "65fcbeac-c9ff-4169-8b20-f27751b68eef",
   "metadata": {
    "execution": {
     "parties": "[\"alice\"]",
     "shell.execute_reply.end": "2024-08-06T09:04:56.137968Z",
     "shell.execute_reply.started": "2024-08-06T09:04:56.134694Z",
     "to_execute": "2024-08-06T09:04:54.576Z"
    },
    "libroFormatter": "formatter-string"
   },
   "outputs": [
    {
     "data": {
      "text/plain": [
       "array([[0.16176471, 0.90909091, 0.5       , 0.        ],\n",
       "       [0.20588235, 0.63636364, 0.5       , 0.33333333],\n",
       "       [0.23529412, 0.36363636, 1.        , 0.66666667],\n",
       "       ...,\n",
       "       [0.55882353, 0.81818182, 0.5       , 0.33333333],\n",
       "       [0.13235294, 0.09090909, 0.5       , 0.33333333],\n",
       "       [0.36764706, 0.18181818, 1.        , 0.66666667]])"
      ]
     },
     "execution_count": 6,
     "metadata": {},
     "output_type": "execute_result"
    }
   ],
   "source": [
    "alice_data"
   ]
  },
  {
   "cell_type": "markdown",
   "id": "48759013-3602-4c49-963e-15a58ca9648e",
   "metadata": {
    "libroCellType": "markdown",
    "libroFormatter": "formatter-string"
   },
   "source": [
    "# 2. 本地模拟"
   ]
  },
  {
   "cell_type": "markdown",
   "id": "7a8c1e61-2d4a-4cf1-9e3c-b61118d924d1",
   "metadata": {
    "libroFormatter": "formatter-string"
   },
   "source": [
    "## 2.1 明文模型搭建"
   ]
  },
  {
   "cell_type": "code",
   "execution_count": 7,
   "id": "a9b3b5a4-1f88-4d18-949b-8b933cb9897a",
   "metadata": {
    "execution": {
     "parties": "[\"alice\"]",
     "shell.execute_reply.end": "2024-08-06T09:04:59.937865Z",
     "shell.execute_reply.started": "2024-08-06T09:04:56.139699Z",
     "to_execute": "2024-08-06T09:04:54.577Z"
    },
    "libroFormatter": "formatter-string"
   },
   "outputs": [
    {
     "name": "stderr",
     "output_type": "stream",
     "text": [
      "2024-08-06 09:04:56.287240: I tensorflow/core/util/port.cc:110] oneDNN custom operations are on. You may see slightly different numerical results due to floating-point round-off errors from different computation orders. To turn them off, set the environment variable `TF_ENABLE_ONEDNN_OPTS=0`.\n",
      "2024-08-06 09:04:56.288714: I tensorflow/tsl/cuda/cudart_stub.cc:28] Could not find cuda drivers on your machine, GPU will not be used.\n",
      "2024-08-06 09:04:56.314608: I tensorflow/tsl/cuda/cudart_stub.cc:28] Could not find cuda drivers on your machine, GPU will not be used.\n",
      "2024-08-06 09:04:56.315587: I tensorflow/core/platform/cpu_feature_guard.cc:182] This TensorFlow binary is optimized to use available CPU instructions in performance-critical operations.\n",
      "To enable the following instructions: AVX2 AVX_VNNI FMA, in other operations, rebuild TensorFlow with the appropriate compiler flags.\n",
      "2024-08-06 09:04:57.065160: W tensorflow/compiler/tf2tensorrt/utils/py_utils.cc:38] TF-TRT Warning: Could not find TensorRT\n"
     ]
    },
    {
     "name": "stdout",
     "output_type": "stream",
     "text": [
      "Epoch 1/10\n"
     ]
    },
    {
     "name": "stderr",
     "output_type": "stream",
     "text": [
      "2024-08-06 09:04:58.318199: I tensorflow/core/common_runtime/executor.cc:1197] [/device:CPU:0] (DEBUG INFO) Executor start aborting (this does not indicate an error and you can ignore this message): INVALID_ARGUMENT: You must feed a value for placeholder tensor 'Placeholder/_2' with dtype int64 and shape [4521]\n",
      "\t [[{{node Placeholder/_2}}]]\n"
     ]
    },
    {
     "name": "stdout",
     "output_type": "stream",
     "text": [
      "71/71 [==============================] - 1s 2ms/step - loss: 0.3936 - auc: 0.5684\n",
      "Epoch 2/10\n",
      "71/71 [==============================] - 0s 1ms/step - loss: 0.3222 - auc: 0.7421\n",
      "Epoch 3/10\n",
      "71/71 [==============================] - 0s 1ms/step - loss: 0.2894 - auc: 0.8191\n",
      "Epoch 4/10\n",
      "71/71 [==============================] - 0s 1ms/step - loss: 0.2639 - auc: 0.8555\n",
      "Epoch 5/10\n",
      "71/71 [==============================] - 0s 1ms/step - loss: 0.2557 - auc: 0.8659\n",
      "Epoch 6/10\n",
      "71/71 [==============================] - 0s 1ms/step - loss: 0.2518 - auc: 0.8708\n",
      "Epoch 7/10\n",
      "71/71 [==============================] - 0s 1ms/step - loss: 0.2488 - auc: 0.8750\n",
      "Epoch 8/10\n",
      "71/71 [==============================] - 0s 2ms/step - loss: 0.2462 - auc: 0.8782\n",
      "Epoch 9/10\n",
      "71/71 [==============================] - 0s 1ms/step - loss: 0.2441 - auc: 0.8810\n",
      "Epoch 10/10\n",
      "71/71 [==============================] - 0s 1ms/step - loss: 0.2421 - auc: 0.8831\n"
     ]
    },
    {
     "data": {
      "text/plain": [
       "<keras.callbacks.History at 0x7f2bd75ab730>"
      ]
     },
     "execution_count": 7,
     "metadata": {},
     "output_type": "execute_result"
    }
   ],
   "source": [
    "from tensorflow import keras\n",
    "from tensorflow.keras import layers\n",
    "import tensorflow as tf\n",
    "from sklearn.model_selection import train_test_split\n",
    "\n",
    "class SplitMLP(tf.keras.Model):\n",
    "    def __init__ (self):\n",
    "        super(SplitMLP,self).__init__()\n",
    "        self.alice_model= keras.Sequential(\n",
    "            [\n",
    "                layers.Dense(100,activation=\"relu\"),\n",
    "                layers.Dense(32,activation=\"relu\")\n",
    "            ]\n",
    "        )\n",
    "        self.bob_model=keras.Sequential(\n",
    "            [\n",
    "                layers.Dense(100, activation=\"relu\"),\n",
    "                layers.Dense(32,activation=\"relu\")\n",
    "            ]\n",
    "        )\n",
    "        self.fuse_layer=layers.Dense(64,activation='relu')\n",
    "        self.output_layer= layers.Dense(1,activation='sigmoid')\n",
    "    def __call__(self,inputs):\n",
    "        alice_feature = inputs['alice_feature']\n",
    "        bob_feature = inputs['bob_feature']\n",
    "        # hiddens\n",
    "        h_alice=self.alice_model(alice_feature)\n",
    "        h_bob= self.bob_model(bob_feature)\n",
    "        merged_layer=layers.concatenate([h_alice,h_bob])\n",
    "        fuse_layer_out=self.fuse_layer(merged_layer)\n",
    "        output=self.output_layer(fuse_layer_out)\n",
    "        return output\n",
    "# Assuming you have imported alice_data, bob_data, and train_label properly\n",
    "# Convert Pandas DataFrame to NumPy arrays\n",
    "# Define the input layers\n",
    "alice_input= tf.keras.Input(shape=(4,),name='alice_feature')\n",
    "bob_input =tf.keras.Input(shape=(12,),name='bob_feature')\n",
    "split_mlp=SplitMLP()\n",
    "logits= split_mlp({'alice_feature': alice_input, 'bob_feature': bob_input})\n",
    "model= tf.keras.Model(\n",
    "    inputs=[alice_input, bob_input],\n",
    "    outputs=logits\n",
    ")\n",
    "model.compile(\n",
    "    loss=\"binary_crossentropy\",\n",
    "    optimizer='adam',\n",
    "    metrics=[tf.keras.metrics.AUC()]\n",
    ")\n",
    "train_dataset=tf.data.Dataset.from_tensor_slices(\n",
    "    (\n",
    "        {\n",
    "            \"alice_feature\": alice_data,\n",
    "            \"bob_feature\": bob_data\n",
    "        },\n",
    "        train_label,\n",
    "    )\n",
    ").batch(64)\n",
    "model.fit(train_dataset,epochs=10)"
   ]
  },
  {
   "cell_type": "code",
   "execution_count": 8,
   "id": "c293f0e2-27c6-44ec-8c76-fa5bf78468fd",
   "metadata": {
    "execution": {
     "parties": "[\"alice\"]",
     "shell.execute_reply.end": "2024-08-06T09:05:02.693423Z",
     "shell.execute_reply.started": "2024-08-06T09:04:59.939282Z",
     "to_execute": "2024-08-06T09:04:54.577Z"
    },
    "libroFormatter": "formatter-string"
   },
   "outputs": [
    {
     "name": "stderr",
     "output_type": "stream",
     "text": [
      "/usr/local/lib/python3.10/subprocess.py:1796: RuntimeWarning: os.fork() was called. os.fork() is incompatible with multithreaded code, and JAX is multithreaded, so this will likely lead to a deadlock.\n",
      "  self.pid = _posixsubprocess.fork_exec(\n",
      "2024-08-06 09:05:01,858\tWARNING services.py:1996 -- WARNING: The object store is using /tmp instead of /dev/shm because /dev/shm has only 67108864 bytes available. This will harm performance! You may be able to free up space by deleting files in /dev/shm. If you are inside a Docker container, you can increase /dev/shm size by passing '--shm-size=4.23gb' to 'docker run' (or add it to the run_options list in a Ray cluster config). Make sure to set this to more than 30% of available RAM.\n",
      "2024-08-06 09:05:01,992\tINFO worker.py:1724 -- Started a local Ray instance.\n"
     ]
    }
   ],
   "source": [
    "import secretflow as sf\n",
    "sf.shutdown( )\n",
    "sf.init(['alice','bob'],address='local')\n",
    "alice,bob=sf.PYU('alice'),sf.PYU('bob')"
   ]
  },
  {
   "cell_type": "code",
   "execution_count": 9,
   "id": "3de3642c-6ce9-4986-a3dd-c0c0c6bae85e",
   "metadata": {
    "execution": {
     "parties": "[\"alice\"]",
     "shell.execute_reply.end": "2024-08-06T09:05:02.713050Z",
     "shell.execute_reply.started": "2024-08-06T09:05:02.695254Z",
     "to_execute": "2024-08-06T09:04:54.577Z"
    },
    "libroFormatter": "formatter-string"
   },
   "outputs": [],
   "source": [
    "from secretflow.data.split import train_test_split\n",
    "from secretflow.ml.nn import SLModel"
   ]
  },
  {
   "cell_type": "markdown",
   "id": "aa8fd548-2113-4df3-92f9-479341fd13d0",
   "metadata": {
    "libroCellType": "markdown",
    "libroFormatter": "formatter-string"
   },
   "source": [
    "## 2.2 创建联邦表"
   ]
  },
  {
   "cell_type": "code",
   "execution_count": 10,
   "id": "036d7084-e7bd-4590-a456-e9f165794c72",
   "metadata": {
    "execution": {
     "parties": "[\"alice\"]",
     "shell.execute_reply.end": "2024-08-06T09:05:03.284296Z",
     "shell.execute_reply.started": "2024-08-06T09:05:02.714980Z",
     "to_execute": "2024-08-06T09:04:54.577Z"
    },
    "libroFormatter": "formatter-string"
   },
   "outputs": [
    {
     "name": "stderr",
     "output_type": "stream",
     "text": [
      "INFO:root:Create proxy actor <class 'secretflow.data.core.agent.PartitionAgent'> with party alice.\n",
      "INFO:root:Create proxy actor <class 'secretflow.data.core.agent.PartitionAgent'> with party bob.\n",
      "INFO:root:Create proxy actor <class 'secretflow.data.core.agent.PartitionAgent'> with party alice.\n"
     ]
    }
   ],
   "source": [
    "spu=sf.SPU(sf.utils.testing.cluster_def(['alice','bob']))\n",
    "from secretflow.utils.simulation.datasets import load_bank_marketing\n",
    "# Alice has the first four features,\n",
    "# while bob has the left features\n",
    "# data是联邦表\n",
    "data =load_bank_marketing(parts={alice:(0,4),bob:(4,16)},axis=1)\n",
    "# Alice holds the label.\n",
    "label = load_bank_marketing(parts={alice:(16,17)},axis=1)"
   ]
  },
  {
   "cell_type": "markdown",
   "id": "4f95015b-533a-4b61-9e4f-b60e6e038a1f",
   "metadata": {
    "libroCellType": "markdown",
    "libroFormatter": "formatter-string"
   },
   "source": [
    "## 2.3 联邦表数据处理"
   ]
  },
  {
   "cell_type": "code",
   "execution_count": 11,
   "id": "d672e4f4-896f-4a35-87c4-f0fb4cb9cb96",
   "metadata": {
    "execution": {
     "parties": "[\"alice\"]",
     "shell.execute_reply.end": "2024-08-06T09:05:05.288527Z",
     "shell.execute_reply.started": "2024-08-06T09:05:03.286399Z",
     "to_execute": "2024-08-06T09:04:54.577Z"
    },
    "libroFormatter": "formatter-string"
   },
   "outputs": [
    {
     "name": "stdout",
     "output_type": "stream",
     "text": [
      "label= <class 'secretflow.data.vertical.dataframe.VDataFrame'>,\n",
      "data = <class 'secretflow.data.vertical.dataframe.VDataFrame'>\n"
     ]
    }
   ],
   "source": [
    "from secretflow.preprocessing.scaler import MinMaxScaler\n",
    "from secretflow.preprocessing.encoder import LabelEncoder\n",
    "encoder = LabelEncoder()\n",
    "data['job']=encoder.fit_transform(data['job'])\n",
    "data['marital']=encoder.fit_transform(data['marital'])\n",
    "data['education']= encoder.fit_transform(data['education'])\n",
    "data['default']= encoder.fit_transform(data['default'])\n",
    "data['housing']= encoder.fit_transform(data['housing'])\n",
    "data['loan']=encoder.fit_transform(data['loan'])\n",
    "data['contact']=encoder.fit_transform(data['contact'])\n",
    "data['poutcome']= encoder.fit_transform(data['poutcome'])\n",
    "data['month']=encoder.fit_transform(data['month'])\n",
    "label = encoder.fit_transform(label)\n",
    "print(f\"label= {type(label)},\\ndata = {type(data)}\")"
   ]
  },
  {
   "cell_type": "code",
   "execution_count": 12,
   "id": "b0e11168-f531-43da-ae3a-ae7810bfdd3b",
   "metadata": {
    "execution": {
     "parties": "[\"alice\"]",
     "shell.execute_reply.end": "2024-08-06T09:05:05.357071Z",
     "shell.execute_reply.started": "2024-08-06T09:05:05.289996Z",
     "to_execute": "2024-08-06T09:04:54.577Z"
    },
    "libroFormatter": "formatter-string"
   },
   "outputs": [],
   "source": [
    "from secretflow.data.split import train_test_split\n",
    "random_state=1234\n",
    "train_data,test_data=train_test_split(\n",
    "    data,train_size=0.8,random_state=random_state\n",
    ")\n",
    "train_label,test_label= train_test_split(\n",
    "    label,train_size=0.8,random_state=random_state\n",
    ")"
   ]
  },
  {
   "cell_type": "markdown",
   "id": "205bf4e4-61cf-42e4-a648-46e70aa6ba0c",
   "metadata": {
    "libroCellType": "markdown",
    "libroFormatter": "formatter-string"
   },
   "source": [
    "# 3 联邦模型"
   ]
  },
  {
   "cell_type": "markdown",
   "id": "5367eaf1-cf69-457f-a38b-e39f7b705f4f",
   "metadata": {
    "libroFormatter": "formatter-string"
   },
   "source": [
    "## 3.1 基础模型创建"
   ]
  },
  {
   "cell_type": "code",
   "execution_count": 13,
   "id": "86e0dba2-e9ca-40e8-8a11-8ad96b1005d5",
   "metadata": {
    "execution": {
     "parties": "[\"alice\"]",
     "shell.execute_reply.end": "2024-08-06T09:05:05.361910Z",
     "shell.execute_reply.started": "2024-08-06T09:05:05.358697Z",
     "to_execute": "2024-08-06T09:04:54.577Z"
    },
    "libroFormatter": "formatter-string"
   },
   "outputs": [],
   "source": [
    "def create_base_model(input_dim, output_dim, name='base_model'):\n",
    "    #Create model\n",
    "    def create_model():\n",
    "        from tensorflow import keras\n",
    "        from tensorflow.keras import layers\n",
    "        import tensorflow as tf\n",
    "        # base model config\n",
    "        model = keras.Sequential(\n",
    "            [\n",
    "                keras.Input(shape=input_dim),\n",
    "                layers.Dense(100,activation=\"relu\"),\n",
    "                layers.Dense(output_dim, activation=\"relu\")\n",
    "            ]\n",
    "        )\n",
    "        # Compile model\n",
    "        model.summary()\n",
    "        model.compile(\n",
    "            # 模型分布在各方，需要compile才能前向后向传播\n",
    "            loss='binary_crossentropy',\n",
    "            optimizer='adam',\n",
    "            metrics=[\"accuracy\",tf.keras.metrics.AUC()]\n",
    "        )\n",
    "        return model\n",
    "    return create_model"
   ]
  },
  {
   "cell_type": "code",
   "execution_count": 14,
   "id": "3e0ededc-8fbf-4f07-ae69-5cb9681e5675",
   "metadata": {
    "execution": {
     "parties": "[\"alice\"]",
     "shell.execute_reply.end": "2024-08-06T09:05:05.425371Z",
     "shell.execute_reply.started": "2024-08-06T09:05:05.365074Z",
     "to_execute": "2024-08-06T09:04:54.577Z"
    },
    "libroFormatter": "formatter-string"
   },
   "outputs": [
    {
     "name": "stdout",
     "output_type": "stream",
     "text": [
      "Model: \"sequential_2\"\n",
      "_________________________________________________________________\n",
      " Layer (type)                Output Shape              Param #   \n",
      "=================================================================\n",
      " dense_6 (Dense)             (None, 100)               500       \n",
      "                                                                 \n",
      " dense_7 (Dense)             (None, 32)                3232      \n",
      "                                                                 \n",
      "=================================================================\n",
      "Total params: 3,732\n",
      "Trainable params: 3,732\n",
      "Non-trainable params: 0\n",
      "_________________________________________________________________\n",
      "Model: \"sequential_3\"\n",
      "_________________________________________________________________\n",
      " Layer (type)                Output Shape              Param #   \n",
      "=================================================================\n",
      " dense_8 (Dense)             (None, 100)               1300      \n",
      "                                                                 \n",
      " dense_9 (Dense)             (None, 32)                3232      \n",
      "                                                                 \n",
      "=================================================================\n",
      "Total params: 4,532\n",
      "Trainable params: 4,532\n",
      "Non-trainable params: 0\n",
      "_________________________________________________________________\n"
     ]
    },
    {
     "data": {
      "text/plain": [
       "<keras.engine.sequential.Sequential at 0x7f2b54377a90>"
      ]
     },
     "execution_count": 14,
     "metadata": {},
     "output_type": "execute_result"
    }
   ],
   "source": [
    "# prepare model\n",
    "hidden_size = 32\n",
    "model_base_alice=create_base_model(4,hidden_size)\n",
    "model_base_bob =create_base_model(12,hidden_size)\n",
    "model_base_alice()\n",
    "model_base_bob()"
   ]
  },
  {
   "cell_type": "code",
   "execution_count": 15,
   "id": "406165ae-6b74-4436-865d-c4fe0d6bbd28",
   "metadata": {
    "execution": {
     "parties": "[\"alice\"]",
     "shell.execute_reply.end": "2024-08-06T09:05:05.430707Z",
     "shell.execute_reply.started": "2024-08-06T09:05:05.426874Z",
     "to_execute": "2024-08-06T09:04:54.578Z"
    },
    "libroFormatter": "formatter-string"
   },
   "outputs": [],
   "source": [
    "def create_fuse_model(input_dim, output_dim, party_nums, name='fuse_model'):\n",
    "    def create_model():\n",
    "        from tensorflow import keras\n",
    "        from tensorflow.keras import layers\n",
    "        import tensorflow as tf\n",
    "        # input\n",
    "        input_layers =[]\n",
    "        for i in range(party_nums):\n",
    "            input_layers.append(\n",
    "                keras.Input(\n",
    "                    input_dim,\n",
    "                )\n",
    "            )\n",
    "        merged_layer= layers.concatenate(input_layers)\n",
    "        fuse_layer = layers.Dense(64,activation='relu')(merged_layer)\n",
    "        output =layers.Dense(output_dim,activation='sigmoid')(fuse_layer)\n",
    "        model = keras.Model(inputs=input_layers, outputs=output)\n",
    "        model.summary()\n",
    "        model.compile(\n",
    "            loss='binary_crossentropy',\n",
    "            optimizer='adam',\n",
    "            metrics=[tf.keras.metrics.AUC()]\n",
    "        )\n",
    "        return model\n",
    "\n",
    "    return create_model"
   ]
  },
  {
   "cell_type": "code",
   "execution_count": 16,
   "id": "4e266572-a712-4815-aa68-793d19a01a90",
   "metadata": {
    "execution": {
     "parties": "[\"alice\"]",
     "shell.execute_reply.end": "2024-08-06T09:05:05.464558Z",
     "shell.execute_reply.started": "2024-08-06T09:05:05.432454Z",
     "to_execute": "2024-08-06T09:04:54.578Z"
    },
    "libroFormatter": "formatter-string"
   },
   "outputs": [
    {
     "name": "stdout",
     "output_type": "stream",
     "text": [
      "Model: \"model_1\"\n",
      "__________________________________________________________________________________________________\n",
      " Layer (type)                   Output Shape         Param #     Connected to                     \n",
      "==================================================================================================\n",
      " input_3 (InputLayer)           [(None, 32)]         0           []                               \n",
      "                                                                                                  \n",
      " input_4 (InputLayer)           [(None, 32)]         0           []                               \n",
      "                                                                                                  \n",
      " concatenate_1 (Concatenate)    (None, 64)           0           ['input_3[0][0]',                \n",
      "                                                                  'input_4[0][0]']                \n",
      "                                                                                                  \n",
      " dense_10 (Dense)               (None, 64)           4160        ['concatenate_1[0][0]']          \n",
      "                                                                                                  \n",
      " dense_11 (Dense)               (None, 1)            65          ['dense_10[0][0]']               \n",
      "                                                                                                  \n",
      "==================================================================================================\n",
      "Total params: 4,225\n",
      "Trainable params: 4,225\n",
      "Non-trainable params: 0\n",
      "__________________________________________________________________________________________________\n"
     ]
    },
    {
     "data": {
      "text/plain": [
       "<keras.engine.functional.Functional at 0x7f2bd75ae860>"
      ]
     },
     "execution_count": 16,
     "metadata": {},
     "output_type": "execute_result"
    }
   ],
   "source": [
    "model_fuse=create_fuse_model(input_dim=hidden_size, party_nums=2,output_dim=1)\n",
    "model_fuse()"
   ]
  },
  {
   "cell_type": "markdown",
   "id": "6e5f6427-6c56-4ec4-973a-367c6758f867",
   "metadata": {
    "libroCellType": "markdown",
    "libroFormatter": "formatter-string"
   },
   "source": [
    "## 3.2 创建拆分模型"
   ]
  },
  {
   "cell_type": "code",
   "execution_count": 17,
   "id": "280dc848-a35b-465b-9819-ef75b02e06b4",
   "metadata": {
    "execution": {
     "parties": "[\"alice\"]",
     "shell.execute_reply.end": "2024-08-06T09:05:05.468440Z",
     "shell.execute_reply.started": "2024-08-06T09:05:05.466215Z",
     "to_execute": "2024-08-06T09:04:54.578Z"
    },
    "libroFormatter": "formatter-string"
   },
   "outputs": [],
   "source": [
    "base_model_dict ={alice: model_base_alice, bob: model_base_bob}"
   ]
  },
  {
   "cell_type": "code",
   "execution_count": 18,
   "id": "c852bf1f-caa9-42b1-b658-e46103a30838",
   "metadata": {
    "execution": {
     "parties": "[\"alice\"]",
     "shell.execute_reply.end": "2024-08-06T09:05:06.203502Z",
     "shell.execute_reply.started": "2024-08-06T09:05:05.470478Z",
     "to_execute": "2024-08-06T09:04:54.578Z"
    },
    "libroFormatter": "formatter-string"
   },
   "outputs": [],
   "source": [
    "from secretflow.security.privacy import DPStrategy, LabelDP\n",
    "from secretflow.security.privacy.mechanism.tensorflow import GaussianEmbeddingDP\n",
    "\n",
    "# Define DP operations\n",
    "train_batch_size = 128\n",
    "gaussian_embedding_dp = GaussianEmbeddingDP(\n",
    "    noise_multiplier=0.5,\n",
    "    l2_norm_clip=1.0,\n",
    "    batch_size=train_batch_size,\n",
    "    num_samples=train_data.values.partition_shape()[alice][0],\n",
    "    is_secure_generator=False,\n",
    ")\n",
    "label_dp = LabelDP(eps=64.0)\n",
    "dp_strategy_alice = DPStrategy(label_dp=label_dp)\n",
    "dp_strategy_bob = DPStrategy(embedding_dp=gaussian_embedding_dp)\n",
    "dp_strategy_dict = {alice: dp_strategy_alice, bob: dp_strategy_bob}\n",
    "dp_spent_step_freq = 10"
   ]
  },
  {
   "cell_type": "code",
   "execution_count": 19,
   "id": "991a83fe-6caa-40af-9d8f-675d325f639c",
   "metadata": {
    "execution": {
     "parties": "[\"alice\"]",
     "shell.execute_reply.end": "2024-08-06T09:05:06.441504Z",
     "shell.execute_reply.started": "2024-08-06T09:05:06.205132Z",
     "to_execute": "2024-08-06T09:04:54.578Z"
    },
    "libroFormatter": "formatter-string"
   },
   "outputs": [
    {
     "name": "stderr",
     "output_type": "stream",
     "text": [
      "INFO:root:Create proxy actor <class 'secretflow.ml.nn.sl.backend.tensorflow.sl_base.PYUSLTFModel'> with party alice.\n",
      "INFO:root:Create proxy actor <class 'secretflow.ml.nn.sl.backend.tensorflow.sl_base.PYUSLTFModel'> with party bob.\n"
     ]
    }
   ],
   "source": [
    "sl_model = SLModel(\n",
    "    base_model_dict=base_model_dict,\n",
    "    device_y=alice,\n",
    "    model_fuse=model_fuse,\n",
    "    dp_strategy_dict=dp_strategy_dict\n",
    ")"
   ]
  },
  {
   "cell_type": "code",
   "execution_count": 20,
   "id": "4e0d70c4-ad75-4a7b-880c-3ccf1dc76bcb",
   "metadata": {
    "execution": {
     "parties": "[\"alice\"]",
     "shell.execute_reply.end": "2024-08-06T09:05:06.451955Z",
     "shell.execute_reply.started": "2024-08-06T09:05:06.443433Z",
     "to_execute": "2024-08-06T09:04:54.578Z"
    },
    "libroFormatter": "formatter-string"
   },
   "outputs": [
    {
     "data": {
      "text/html": [
       "<div>\n",
       "<style scoped>\n",
       "    .dataframe tbody tr th:only-of-type {\n",
       "        vertical-align: middle;\n",
       "    }\n",
       "\n",
       "    .dataframe tbody tr th {\n",
       "        vertical-align: top;\n",
       "    }\n",
       "\n",
       "    .dataframe thead th {\n",
       "        text-align: right;\n",
       "    }\n",
       "</style>\n",
       "<table border=\"1\" class=\"dataframe\">\n",
       "  <thead>\n",
       "    <tr style=\"text-align: right;\">\n",
       "      <th></th>\n",
       "      <th>age</th>\n",
       "      <th>job</th>\n",
       "      <th>marital</th>\n",
       "      <th>education</th>\n",
       "    </tr>\n",
       "  </thead>\n",
       "  <tbody>\n",
       "    <tr>\n",
       "      <th>1426</th>\n",
       "      <td>38</td>\n",
       "      <td>2</td>\n",
       "      <td>1</td>\n",
       "      <td>1</td>\n",
       "    </tr>\n",
       "    <tr>\n",
       "      <th>416</th>\n",
       "      <td>31</td>\n",
       "      <td>7</td>\n",
       "      <td>2</td>\n",
       "      <td>1</td>\n",
       "    </tr>\n",
       "    <tr>\n",
       "      <th>3977</th>\n",
       "      <td>37</td>\n",
       "      <td>0</td>\n",
       "      <td>1</td>\n",
       "      <td>2</td>\n",
       "    </tr>\n",
       "    <tr>\n",
       "      <th>2291</th>\n",
       "      <td>42</td>\n",
       "      <td>0</td>\n",
       "      <td>1</td>\n",
       "      <td>1</td>\n",
       "    </tr>\n",
       "    <tr>\n",
       "      <th>257</th>\n",
       "      <td>28</td>\n",
       "      <td>10</td>\n",
       "      <td>2</td>\n",
       "      <td>1</td>\n",
       "    </tr>\n",
       "    <tr>\n",
       "      <th>...</th>\n",
       "      <td>...</td>\n",
       "      <td>...</td>\n",
       "      <td>...</td>\n",
       "      <td>...</td>\n",
       "    </tr>\n",
       "    <tr>\n",
       "      <th>1508</th>\n",
       "      <td>37</td>\n",
       "      <td>9</td>\n",
       "      <td>2</td>\n",
       "      <td>1</td>\n",
       "    </tr>\n",
       "    <tr>\n",
       "      <th>979</th>\n",
       "      <td>56</td>\n",
       "      <td>1</td>\n",
       "      <td>0</td>\n",
       "      <td>0</td>\n",
       "    </tr>\n",
       "    <tr>\n",
       "      <th>3494</th>\n",
       "      <td>50</td>\n",
       "      <td>1</td>\n",
       "      <td>1</td>\n",
       "      <td>0</td>\n",
       "    </tr>\n",
       "    <tr>\n",
       "      <th>42</th>\n",
       "      <td>52</td>\n",
       "      <td>1</td>\n",
       "      <td>1</td>\n",
       "      <td>1</td>\n",
       "    </tr>\n",
       "    <tr>\n",
       "      <th>1386</th>\n",
       "      <td>50</td>\n",
       "      <td>7</td>\n",
       "      <td>1</td>\n",
       "      <td>1</td>\n",
       "    </tr>\n",
       "  </tbody>\n",
       "</table>\n",
       "<p>905 rows × 4 columns</p>\n",
       "</div>"
      ],
      "text/plain": [
       "      age  job  marital  education\n",
       "1426   38    2        1          1\n",
       "416    31    7        2          1\n",
       "3977   37    0        1          2\n",
       "2291   42    0        1          1\n",
       "257    28   10        2          1\n",
       "...   ...  ...      ...        ...\n",
       "1508   37    9        2          1\n",
       "979    56    1        0          0\n",
       "3494   50    1        1          0\n",
       "42     52    1        1          1\n",
       "1386   50    7        1          1\n",
       "\n",
       "[905 rows x 4 columns]"
      ]
     },
     "execution_count": 20,
     "metadata": {},
     "output_type": "execute_result"
    }
   ],
   "source": [
    "sf.reveal(test_data.partitions[alice].data)"
   ]
  },
  {
   "cell_type": "code",
   "execution_count": 21,
   "id": "77cf933f-187e-4178-bbc5-da0322227f7b",
   "metadata": {
    "execution": {
     "parties": "[\"alice\"]",
     "shell.execute_reply.end": "2024-08-06T09:05:06.462008Z",
     "shell.execute_reply.started": "2024-08-06T09:05:06.453874Z",
     "to_execute": "2024-08-06T09:04:54.578Z"
    },
    "libroFormatter": "formatter-string"
   },
   "outputs": [
    {
     "data": {
      "text/html": [
       "<div>\n",
       "<style scoped>\n",
       "    .dataframe tbody tr th:only-of-type {\n",
       "        vertical-align: middle;\n",
       "    }\n",
       "\n",
       "    .dataframe tbody tr th {\n",
       "        vertical-align: top;\n",
       "    }\n",
       "\n",
       "    .dataframe thead th {\n",
       "        text-align: right;\n",
       "    }\n",
       "</style>\n",
       "<table border=\"1\" class=\"dataframe\">\n",
       "  <thead>\n",
       "    <tr style=\"text-align: right;\">\n",
       "      <th></th>\n",
       "      <th>y</th>\n",
       "    </tr>\n",
       "  </thead>\n",
       "  <tbody>\n",
       "    <tr>\n",
       "      <th>1426</th>\n",
       "      <td>0</td>\n",
       "    </tr>\n",
       "    <tr>\n",
       "      <th>416</th>\n",
       "      <td>0</td>\n",
       "    </tr>\n",
       "    <tr>\n",
       "      <th>3977</th>\n",
       "      <td>0</td>\n",
       "    </tr>\n",
       "    <tr>\n",
       "      <th>2291</th>\n",
       "      <td>0</td>\n",
       "    </tr>\n",
       "    <tr>\n",
       "      <th>257</th>\n",
       "      <td>0</td>\n",
       "    </tr>\n",
       "    <tr>\n",
       "      <th>...</th>\n",
       "      <td>...</td>\n",
       "    </tr>\n",
       "    <tr>\n",
       "      <th>1508</th>\n",
       "      <td>0</td>\n",
       "    </tr>\n",
       "    <tr>\n",
       "      <th>979</th>\n",
       "      <td>0</td>\n",
       "    </tr>\n",
       "    <tr>\n",
       "      <th>3494</th>\n",
       "      <td>0</td>\n",
       "    </tr>\n",
       "    <tr>\n",
       "      <th>42</th>\n",
       "      <td>0</td>\n",
       "    </tr>\n",
       "    <tr>\n",
       "      <th>1386</th>\n",
       "      <td>0</td>\n",
       "    </tr>\n",
       "  </tbody>\n",
       "</table>\n",
       "<p>905 rows × 1 columns</p>\n",
       "</div>"
      ],
      "text/plain": [
       "      y\n",
       "1426  0\n",
       "416   0\n",
       "3977  0\n",
       "2291  0\n",
       "257   0\n",
       "...  ..\n",
       "1508  0\n",
       "979   0\n",
       "3494  0\n",
       "42    0\n",
       "1386  0\n",
       "\n",
       "[905 rows x 1 columns]"
      ]
     },
     "execution_count": 21,
     "metadata": {},
     "output_type": "execute_result"
    }
   ],
   "source": [
    "sf.reveal(test_label.partitions[alice].data)\n"
   ]
  },
  {
   "cell_type": "code",
   "execution_count": 22,
   "id": "6ebf4166-6187-4c83-b42d-3a00acf4b53b",
   "metadata": {
    "execution": {
     "parties": "[\"alice\"]",
     "shell.execute_reply.end": "2024-08-06T09:05:18.933048Z",
     "shell.execute_reply.started": "2024-08-06T09:05:06.463711Z",
     "to_execute": "2024-08-06T09:04:54.578Z"
    },
    "libroFormatter": "formatter-string"
   },
   "outputs": [
    {
     "name": "stderr",
     "output_type": "stream",
     "text": [
      "INFO:root:SL Train Params: {'self': <secretflow.ml.nn.sl.sl_model.SLModel object at 0x7f2bd7f443a0>, 'x': VDataFrame(partitions={PYURuntime(alice): <secretflow.data.core.partition.Partition object at 0x7f2b542e3790>, PYURuntime(bob): <secretflow.data.core.partition.Partition object at 0x7f2b54377040>}, aligned=True), 'y': VDataFrame(partitions={PYURuntime(alice): <secretflow.data.core.partition.Partition object at 0x7f2b54377e50>}, aligned=True), 'batch_size': 128, 'epochs': 10, 'verbose': 1, 'callbacks': None, 'validation_data': (VDataFrame(partitions={PYURuntime(alice): <secretflow.data.core.partition.Partition object at 0x7f2b54376e60>, PYURuntime(bob): <secretflow.data.core.partition.Partition object at 0x7f2b54377cd0>}, aligned=True), VDataFrame(partitions={PYURuntime(alice): <secretflow.data.core.partition.Partition object at 0x7f2b54376590>}, aligned=True)), 'shuffle': True, 'sample_weight': None, 'validation_freq': 1, 'dp_spent_step_freq': 10, 'dataset_builder': None, 'audit_log_params': {}, 'early_stopping_batch_step': 0, 'early_stopping_warmup_step': 0, 'random_seed': 16230, 'audit_log_dir': None}\n",
      "Train Processing: :   0%|          | 0/29 [00:00<?, ?it/s]"
     ]
    },
    {
     "name": "stdout",
     "output_type": "stream",
     "text": [
      "Epoch 1/10\n"
     ]
    },
    {
     "name": "stderr",
     "output_type": "stream",
     "text": [
      "Train Processing: :  97%|█████████▋| 28/29 [00:02<00:00, 10.56it/s, {'train_loss': 0.37547848, 'train_auc_1': 0.46505654, 'val_loss': 0.39987063, 'val_auc_1': 0.5043203}]\n",
      "Train Processing: :   7%|▋         | 2/29 [00:00<00:02, 13.19it/s]"
     ]
    },
    {
     "name": "stdout",
     "output_type": "stream",
     "text": [
      "Epoch 2/10\n"
     ]
    },
    {
     "name": "stderr",
     "output_type": "stream",
     "text": [
      "Train Processing: :  97%|█████████▋| 28/29 [00:01<00:00, 26.54it/s, {'train_loss': 0.37245098, 'train_auc_1': 0.49313715, 'val_loss': 0.4191487, 'val_auc_1': 0.48602092}]\n",
      "Train Processing: :  10%|█         | 3/29 [00:00<00:01, 20.13it/s]"
     ]
    },
    {
     "name": "stdout",
     "output_type": "stream",
     "text": [
      "Epoch 3/10\n"
     ]
    },
    {
     "name": "stderr",
     "output_type": "stream",
     "text": [
      "Train Processing: :  97%|█████████▋| 28/29 [00:00<00:00, 37.63it/s, {'train_loss': 0.3697796, 'train_auc_1': 0.5346283, 'val_loss': 0.3828912, 'val_auc_1': 0.5607815}]\n",
      "Train Processing: :  14%|█▍        | 4/29 [00:00<00:01, 24.76it/s]"
     ]
    },
    {
     "name": "stdout",
     "output_type": "stream",
     "text": [
      "Epoch 4/10\n"
     ]
    },
    {
     "name": "stderr",
     "output_type": "stream",
     "text": [
      "Train Processing: :  97%|█████████▋| 28/29 [00:00<00:00, 36.44it/s, {'train_loss': 0.35201517, 'train_auc_1': 0.5577681, 'val_loss': 0.39677745, 'val_auc_1': 0.54577327}]\n",
      "Train Processing: :  14%|█▍        | 4/29 [00:00<00:00, 38.12it/s]"
     ]
    },
    {
     "name": "stdout",
     "output_type": "stream",
     "text": [
      "Epoch 5/10\n"
     ]
    },
    {
     "name": "stderr",
     "output_type": "stream",
     "text": [
      "Train Processing: :  97%|█████████▋| 28/29 [00:00<00:00, 37.27it/s, {'train_loss': 0.35508478, 'train_auc_1': 0.5668554, 'val_loss': 0.39743474, 'val_auc_1': 0.5458503}]\n",
      "Train Processing: :  10%|█         | 3/29 [00:00<00:00, 26.77it/s]"
     ]
    },
    {
     "name": "stdout",
     "output_type": "stream",
     "text": [
      "Epoch 6/10\n"
     ]
    },
    {
     "name": "stderr",
     "output_type": "stream",
     "text": [
      "Train Processing: :  97%|█████████▋| 28/29 [00:00<00:00, 35.98it/s, {'train_loss': 0.3478175, 'train_auc_1': 0.6261383, 'val_loss': 0.3750295, 'val_auc_1': 0.63249314}]\n",
      "Train Processing: :  14%|█▍        | 4/29 [00:00<00:00, 34.64it/s]"
     ]
    },
    {
     "name": "stdout",
     "output_type": "stream",
     "text": [
      "Epoch 7/10\n"
     ]
    },
    {
     "name": "stderr",
     "output_type": "stream",
     "text": [
      "Train Processing: :  97%|█████████▋| 28/29 [00:01<00:00, 22.29it/s, {'train_loss': 0.3316687, 'train_auc_1': 0.64604867, 'val_loss': 0.3730932, 'val_auc_1': 0.6250963}]\n",
      "Train Processing: :  14%|█▍        | 4/29 [00:00<00:00, 35.92it/s]"
     ]
    },
    {
     "name": "stdout",
     "output_type": "stream",
     "text": [
      "Epoch 8/10\n"
     ]
    },
    {
     "name": "stderr",
     "output_type": "stream",
     "text": [
      "Train Processing: :  97%|█████████▋| 28/29 [00:00<00:00, 37.34it/s, {'train_loss': 0.32118312, 'train_auc_1': 0.65444744, 'val_loss': 0.3792616, 'val_auc_1': 0.62992847}]\n",
      "Train Processing: :  14%|█▍        | 4/29 [00:00<00:00, 35.00it/s]"
     ]
    },
    {
     "name": "stdout",
     "output_type": "stream",
     "text": [
      "Epoch 9/10\n"
     ]
    },
    {
     "name": "stderr",
     "output_type": "stream",
     "text": [
      "Train Processing: :  97%|█████████▋| 28/29 [00:00<00:00, 37.47it/s, {'train_loss': 0.31770352, 'train_auc_1': 0.6740375, 'val_loss': 0.36787373, 'val_auc_1': 0.66410017}]\n",
      "Train Processing: :  14%|█▍        | 4/29 [00:00<00:00, 37.41it/s]"
     ]
    },
    {
     "name": "stdout",
     "output_type": "stream",
     "text": [
      "Epoch 10/10\n"
     ]
    },
    {
     "name": "stderr",
     "output_type": "stream",
     "text": [
      "Train Processing: :  97%|█████████▋| 28/29 [00:00<00:00, 41.62it/s, {'train_loss': 0.3254059, 'train_auc_1': 0.7217264, 'val_loss': 0.3530417, 'val_auc_1': 0.705366}]\n"
     ]
    }
   ],
   "source": [
    "history = sl_model.fit(\n",
    "    train_data,\n",
    "    train_label,\n",
    "    validation_data=(test_data, test_label),\n",
    "    epochs=10,\n",
    "    batch_size=train_batch_size,\n",
    "    shuffle=True,\n",
    "    verbose=1,\n",
    "    validation_freq=1,\n",
    "    dp_spent_step_freq=dp_spent_step_freq,\n",
    ")"
   ]
  },
  {
   "cell_type": "code",
   "execution_count": 23,
   "id": "26126960-9fb1-4fd8-9bcd-7fc725279348",
   "metadata": {
    "execution": {
     "parties": "[\"alice\"]",
     "shell.execute_reply.end": "2024-08-06T09:05:18.991727Z",
     "shell.execute_reply.started": "2024-08-06T09:05:18.934697Z",
     "to_execute": "2024-08-06T09:04:54.578Z"
    },
    "libroFormatter": "formatter-string"
   },
   "outputs": [
    {
     "name": "stderr",
     "output_type": "stream",
     "text": [
      "Evaluate Processing: :  88%|████████▊ | 7/8 [00:00<00:00, 154.92it/s, loss=0.359, auc_1=0.686]\n"
     ]
    }
   ],
   "source": [
    "global_metric = sl_model.evaluate(test_data, test_label, batch_size=128)"
   ]
  },
  {
   "cell_type": "code",
   "execution_count": 24,
   "id": "ba22a848-0640-4ad5-8700-5529307e94d8",
   "metadata": {
    "execution": {
     "parties": "[\"alice\"]",
     "shell.execute_reply.end": "2024-08-06T09:05:19.558414Z",
     "shell.execute_reply.started": "2024-08-06T09:05:18.993476Z",
     "to_execute": "2024-08-06T09:04:54.579Z"
    },
    "libroFormatter": "formatter-string"
   },
   "outputs": [],
   "source": [
    "base_model_path={\n",
    "    alice:\"./alice_base_model\",\n",
    "    bob:\"./bob_base_model\"\n",
    "}\n",
    "fuse_model_path='./fuse_model'\n",
    "sl_model.save_model(\n",
    "    base_model_path=base_model_path,\n",
    "    fuse_model_path=fuse_model_path\n",
    ")"
   ]
  },
  {
   "cell_type": "code",
   "execution_count": 25,
   "id": "a91b107b-5501-400e-81b5-31e2a96d02d3",
   "metadata": {
    "execution": {
     "parties": "[\"alice\"]",
     "shell.execute_reply.end": "2024-08-06T09:05:22.361112Z",
     "shell.execute_reply.started": "2024-08-06T09:05:19.560073Z",
     "to_execute": "2024-08-06T09:04:54.579Z"
    },
    "libroFormatter": "formatter-string"
   },
   "outputs": [
    {
     "name": "stderr",
     "output_type": "stream",
     "text": [
      "INFO:root:Create proxy actor <class 'secretflow.ml.nn.sl.backend.tensorflow.sl_base.PYUSLTFModel'> with party alice.\n",
      "INFO:root:Create proxy actor <class 'secretflow.ml.nn.sl.backend.tensorflow.sl_base.PYUSLTFModel'> with party bob.\n"
     ]
    }
   ],
   "source": [
    "reload_base_model_dict={\n",
    "    alice:None,\n",
    "    bob:None\n",
    "}\n",
    "\n",
    "reload_sl_model=SLModel(\n",
    "    base_model_dict=reload_base_model_dict,\n",
    "    device_y=alice\n",
    ")\n",
    "reload_sl_model.load_model(\n",
    "    base_model_path=base_model_path,\n",
    "    fuse_model_path=fuse_model_path\n",
    ")"
   ]
  },
  {
   "cell_type": "code",
   "execution_count": 26,
   "id": "4267aff5-88f6-4b30-8a06-c460406b287d",
   "metadata": {
    "execution": {
     "parties": "[\"alice\"]",
     "shell.execute_reply.end": "2024-08-06T09:05:22.824377Z",
     "shell.execute_reply.started": "2024-08-06T09:05:22.362721Z",
     "to_execute": "2024-08-06T09:04:54.579Z"
    },
    "libroFormatter": "formatter-string"
   },
   "outputs": [
    {
     "name": "stderr",
     "output_type": "stream",
     "text": [
      "Evaluate Processing: :  88%|████████▊ | 7/8 [00:00<00:00, 15.68it/s, loss=3.52, auc_1=0.753]\n"
     ]
    }
   ],
   "source": [
    "metrics=reload_sl_model.evaluate(test_data,test_label, batch_size=128)"
   ]
  },
  {
   "cell_type": "markdown",
   "id": "80a27e3e-9c01-4c74-8d35-939fb480864e",
   "metadata": {
    "libroCellType": "markdown",
    "libroFormatter": "formatter-string"
   },
   "source": [
    "# 4. 单方建模（对比）"
   ]
  },
  {
   "cell_type": "code",
   "execution_count": 27,
   "id": "d06c66ea-45d9-474f-a09c-001145ec17f2",
   "metadata": {
    "execution": {
     "parties": "[\"alice\"]",
     "shell.execute_reply.end": "2024-08-06T09:05:22.863126Z",
     "shell.execute_reply.started": "2024-08-06T09:05:22.826214Z",
     "to_execute": "2024-08-06T09:04:54.579Z"
    },
    "libroFormatter": "formatter-string"
   },
   "outputs": [],
   "source": [
    "def create_single_model():\n",
    "    model = keras.Sequential(\n",
    "        [\n",
    "            keras.Input(shape=4),\n",
    "            layers.Dense(100, activation=\"relu\"),\n",
    "            layers.Dense(64, activation='relu'),\n",
    "            layers.Dense(64, activation='relu'),\n",
    "            layers.Dense(1, activation='sigmoid'),\n",
    "        ]\n",
    "    )\n",
    "    model.compile(\n",
    "        loss='binary_crossentropy',\n",
    "        optimizer='adam',\n",
    "        metrics=[\"accuracy\", tf.keras.metrics.AUC()],\n",
    "    )\n",
    "    return model\n",
    "\n",
    "\n",
    "single_model = create_single_model()"
   ]
  },
  {
   "cell_type": "code",
   "execution_count": 28,
   "id": "1e0fe639-2227-4c3e-ab61-504961f3fda5",
   "metadata": {
    "execution": {
     "parties": "[\"alice\"]",
     "shell.execute_reply.end": "2024-08-06T09:05:22.868816Z",
     "shell.execute_reply.started": "2024-08-06T09:05:22.865195Z",
     "to_execute": "2024-08-06T09:04:54.579Z"
    },
    "libroFormatter": "formatter-string"
   },
   "outputs": [
    {
     "data": {
      "text/plain": [
       "numpy.ndarray"
      ]
     },
     "execution_count": 28,
     "metadata": {},
     "output_type": "execute_result"
    }
   ],
   "source": [
    "type(alice_data)"
   ]
  },
  {
   "cell_type": "code",
   "execution_count": 29,
   "id": "a35583e9-678a-4fe1-afc3-66dbf4296e45",
   "metadata": {
    "execution": {
     "parties": "[\"alice\"]",
     "shell.execute_reply.end": "2024-08-06T09:05:22.880454Z",
     "shell.execute_reply.started": "2024-08-06T09:05:22.870444Z",
     "to_execute": "2024-08-06T09:04:54.579Z"
    },
    "libroFormatter": "formatter-string"
   },
   "outputs": [
    {
     "name": "stdout",
     "output_type": "stream",
     "text": [
      "<class 'pandas.core.frame.DataFrame'>\n"
     ]
    }
   ],
   "source": [
    "import pandas as pd\n",
    "from sklearn.model_selection import train_test_split\n",
    "from sklearn.preprocessing import MinMaxScaler\n",
    "from sklearn.preprocessing import LabelEncoder\n",
    "\n",
    "encoder = LabelEncoder()\n",
    "alice_data = df[[\"age\",\"job\",\"marital\",\"education\",\"y\"]]\n",
    "print(type(alice_data))\n",
    "single_part_data = alice_data.copy()\n",
    "single_part_data.loc[:,'job'] = encoder.fit_transform(alice_data['job'])\n",
    "single_part_data.loc[:,'marital'] = encoder.fit_transform(alice_data['marital'])\n",
    "single_part_data.loc[:,'education'] = encoder.fit_transform(alice_data['education'])\n",
    "single_part_data.loc[:,'y'] = encoder.fit_transform(alice_data['y'])"
   ]
  },
  {
   "cell_type": "code",
   "execution_count": 30,
   "id": "d45fb595-9209-4613-8895-b7cca903976e",
   "metadata": {
    "execution": {
     "parties": "[\"alice\"]",
     "shell.execute_reply.end": "2024-08-06T09:05:22.885435Z",
     "shell.execute_reply.started": "2024-08-06T09:05:22.882383Z",
     "to_execute": "2024-08-06T09:04:54.579Z"
    },
    "libroFormatter": "formatter-string"
   },
   "outputs": [],
   "source": [
    "y = single_part_data['y']\n",
    "alice_data = single_part_data.drop(columns=['y'], inplace=False)"
   ]
  },
  {
   "cell_type": "code",
   "execution_count": 31,
   "id": "664e4629-53cf-428f-9d3c-79c190842cb7",
   "metadata": {
    "execution": {
     "parties": "[\"alice\"]",
     "shell.execute_reply.end": "2024-08-06T09:05:22.892541Z",
     "shell.execute_reply.started": "2024-08-06T09:05:22.887231Z",
     "to_execute": "2024-08-06T09:04:54.579Z"
    },
    "libroFormatter": "formatter-string"
   },
   "outputs": [],
   "source": [
    "scaler = MinMaxScaler()\n",
    "alice_data = scaler.fit_transform(alice_data)"
   ]
  },
  {
   "cell_type": "code",
   "execution_count": 32,
   "id": "a3b95935-13b1-423c-9a67-e74c9f51f060",
   "metadata": {
    "execution": {
     "parties": "[\"alice\"]",
     "shell.execute_reply.end": "2024-08-06T09:05:22.900384Z",
     "shell.execute_reply.started": "2024-08-06T09:05:22.894166Z",
     "to_execute": "2024-08-06T09:04:54.579Z"
    },
    "libroFormatter": "formatter-string"
   },
   "outputs": [],
   "source": [
    "train_data, test_data = train_test_split(\n",
    "    alice_data, train_size=0.8, random_state=random_state\n",
    ")\n",
    "train_label, test_label = train_test_split(y, train_size=0.8, random_state=random_state)"
   ]
  },
  {
   "cell_type": "code",
   "execution_count": 33,
   "id": "5f420e56-dbe3-4144-b7e3-588eef4f7d50",
   "metadata": {
    "execution": {
     "parties": "[\"alice\"]",
     "shell.execute_reply.end": "2024-08-06T09:05:22.906603Z",
     "shell.execute_reply.started": "2024-08-06T09:05:22.901905Z",
     "to_execute": "2024-08-06T09:04:54.579Z"
    },
    "libroFormatter": "formatter-string"
   },
   "outputs": [
    {
     "data": {
      "text/plain": [
       "(4521, 4)"
      ]
     },
     "execution_count": 33,
     "metadata": {},
     "output_type": "execute_result"
    }
   ],
   "source": [
    "alice_data.shape"
   ]
  },
  {
   "cell_type": "code",
   "execution_count": 34,
   "id": "0f138127-950b-4e1b-a712-b90672b0d20a",
   "metadata": {
    "execution": {
     "parties": "[\"alice\"]",
     "shell.execute_reply.end": "2024-08-06T09:05:24.309496Z",
     "shell.execute_reply.started": "2024-08-06T09:05:22.908804Z",
     "to_execute": "2024-08-06T09:04:54.579Z"
    },
    "libroFormatter": "formatter-string"
   },
   "outputs": [
    {
     "name": "stdout",
     "output_type": "stream",
     "text": [
      "Epoch 1/10\n",
      "29/29 [==============================] - 1s 8ms/step - loss: 0.5426 - accuracy: 0.8415 - auc_4: 0.4500 - val_loss: 0.4019 - val_accuracy: 0.8729 - val_auc_4: 0.4027\n",
      "Epoch 2/10\n",
      "29/29 [==============================] - 0s 3ms/step - loss: 0.3710 - accuracy: 0.8877 - auc_4: 0.4501 - val_loss: 0.3967 - val_accuracy: 0.8729 - val_auc_4: 0.3968\n",
      "Epoch 3/10\n",
      "29/29 [==============================] - 0s 2ms/step - loss: 0.3642 - accuracy: 0.8877 - auc_4: 0.4264 - val_loss: 0.3929 - val_accuracy: 0.8729 - val_auc_4: 0.4029\n",
      "Epoch 4/10\n",
      "29/29 [==============================] - 0s 2ms/step - loss: 0.3596 - accuracy: 0.8877 - auc_4: 0.4464 - val_loss: 0.3899 - val_accuracy: 0.8729 - val_auc_4: 0.4239\n",
      "Epoch 5/10\n",
      "29/29 [==============================] - 0s 2ms/step - loss: 0.3587 - accuracy: 0.8877 - auc_4: 0.4591 - val_loss: 0.3878 - val_accuracy: 0.8729 - val_auc_4: 0.4458\n",
      "Epoch 6/10\n",
      "29/29 [==============================] - 0s 2ms/step - loss: 0.3574 - accuracy: 0.8877 - auc_4: 0.4735 - val_loss: 0.3861 - val_accuracy: 0.8729 - val_auc_4: 0.4623\n",
      "Epoch 7/10\n",
      "29/29 [==============================] - 0s 2ms/step - loss: 0.3561 - accuracy: 0.8877 - auc_4: 0.4856 - val_loss: 0.3844 - val_accuracy: 0.8729 - val_auc_4: 0.4861\n",
      "Epoch 8/10\n",
      "29/29 [==============================] - 0s 2ms/step - loss: 0.3550 - accuracy: 0.8877 - auc_4: 0.5007 - val_loss: 0.3830 - val_accuracy: 0.8729 - val_auc_4: 0.4975\n",
      "Epoch 9/10\n",
      "29/29 [==============================] - 0s 2ms/step - loss: 0.3540 - accuracy: 0.8877 - auc_4: 0.5117 - val_loss: 0.3818 - val_accuracy: 0.8729 - val_auc_4: 0.5162\n",
      "Epoch 10/10\n",
      "29/29 [==============================] - 0s 2ms/step - loss: 0.3531 - accuracy: 0.8877 - auc_4: 0.5227 - val_loss: 0.3806 - val_accuracy: 0.8729 - val_auc_4: 0.5371\n"
     ]
    },
    {
     "data": {
      "text/plain": [
       "<keras.callbacks.History at 0x7f2bd4457040>"
      ]
     },
     "execution_count": 34,
     "metadata": {},
     "output_type": "execute_result"
    }
   ],
   "source": [
    "single_model.fit(\n",
    "    train_data,\n",
    "    train_label,\n",
    "    validation_data=(test_data, test_label),\n",
    "    batch_size=128,\n",
    "    epochs=10,\n",
    "    shuffle=False,\n",
    ")"
   ]
  },
  {
   "cell_type": "code",
   "execution_count": 35,
   "id": "1f6e02e4-b644-4de1-8dcb-5aea4209475c",
   "metadata": {
    "execution": {
     "parties": "[\"alice\"]",
     "shell.execute_reply.end": "2024-08-06T09:05:24.385323Z",
     "shell.execute_reply.started": "2024-08-06T09:05:24.310915Z",
     "to_execute": "2024-08-06T09:04:54.580Z"
    },
    "libroFormatter": "formatter-string"
   },
   "outputs": [
    {
     "name": "stdout",
     "output_type": "stream",
     "text": [
      "8/8 [==============================] - 0s 2ms/step - loss: 0.3806 - accuracy: 0.8729 - auc_4: 0.5371\n"
     ]
    },
    {
     "data": {
      "text/plain": [
       "[0.38060322403907776, 0.8729282021522522, 0.5370941162109375]"
      ]
     },
     "execution_count": 35,
     "metadata": {},
     "output_type": "execute_result"
    }
   ],
   "source": [
    "single_model.evaluate(test_data, test_label, batch_size=128)"
   ]
  }
 ],
 "metadata": {},
 "nbformat": 4,
 "nbformat_minor": 5
}
