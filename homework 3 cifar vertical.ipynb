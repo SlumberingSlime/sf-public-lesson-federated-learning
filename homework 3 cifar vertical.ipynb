{
 "cells": [
  {
   "cell_type": "code",
   "execution_count": 3,
   "id": "4d62412d-f4e3-4d44-ad83-cda1884320f4",
   "metadata": {
    "execution": {
     "parties": "[\"alice\"]",
     "shell.execute_reply.end": "2024-08-06T14:36:03.261090Z",
     "shell.execute_reply.started": "2024-08-06T14:36:03.258800Z",
     "to_execute": "2024-08-06T14:36:03.254Z"
    },
    "libroFormatter": "formatter-string"
   },
   "outputs": [],
   "source": [
    "import ssl\n",
    "ssl._create_default_https_context=ssl._create_unverified_context"
   ]
  },
  {
   "cell_type": "code",
   "execution_count": 4,
   "id": "05611ebd-5835-4e9d-a266-5c6b1cd53291",
   "metadata": {
    "execution": {
     "parties": "[\"alice\"]",
     "shell.execute_reply.end": "2024-08-06T14:37:00.441687Z",
     "shell.execute_reply.started": "2024-08-06T14:36:03.264884Z",
     "to_execute": "2024-08-06T14:36:03.254Z"
    },
    "libroFormatter": "formatter-string"
   },
   "outputs": [
    {
     "name": "stdout",
     "output_type": "stream",
     "text": [
      "Downloading data from https://www.cs.toronto.edu/~kriz/cifar-10-python.tar.gz\n",
      "170498071/170498071 [==============================] - 54s 0us/step\n"
     ]
    }
   ],
   "source": [
    "from keras.utils import to_categorical\n",
    "import tensorflow as tf\n",
    "from tensorflow import keras\n",
    "\n",
    "(x_train, y_train), (x_test, y_test) = tf.keras.datasets.cifar10.load_data()\n",
    "# nomalize\n",
    "x_train, x_test = x_train / 255, x_test / 255\n",
    "y_train_ohe = to_categorical(y_train, num_classes=10)\n",
    "y_test_ohe = to_categorical(y_test, num_classes=10)\n",
    "\n",
    "# type(x_train) # numpy.ndarray,\n",
    "# x_train.shape # (50000, 32, 32, 3)"
   ]
  },
  {
   "cell_type": "code",
   "execution_count": 5,
   "id": "4a168086-1a2f-48f1-8ca4-b08fadf0364d",
   "metadata": {
    "execution": {
     "parties": "[\"alice\"]",
     "shell.execute_reply.end": "2024-08-06T14:37:00.446922Z",
     "shell.execute_reply.started": "2024-08-06T14:37:00.444119Z",
     "to_execute": "2024-08-06T14:36:03.254Z"
    },
    "libroFormatter": "formatter-string"
   },
   "outputs": [],
   "source": [
    "alice_x_train=x_train[:, :16]\n",
    "alice_x_test=x_test[:,:16]\n",
    "bob_x_train=x_train[:,16:]\n",
    "bob_x_test=x_test[:,16:]"
   ]
  },
  {
   "cell_type": "code",
   "execution_count": 6,
   "id": "37aee7b4-7b57-4159-81a0-6ba830189a21",
   "metadata": {
    "execution": {
     "parties": "[\"alice\"]",
     "shell.execute_reply.end": "2024-08-06T14:37:00.451331Z",
     "shell.execute_reply.started": "2024-08-06T14:37:00.448933Z",
     "to_execute": "2024-08-06T14:36:03.254Z"
    },
    "libroFormatter": "formatter-string"
   },
   "outputs": [
    {
     "name": "stdout",
     "output_type": "stream",
     "text": [
      "alice train dataset size:(50000, 16, 32, 3), \n",
      "bob train dataset size: (50000, 16, 32, 3),\n",
      "alice test dataset size: (10000, 16, 32, 3),\n",
      "label train dataset size: (50000, 10)\n"
     ]
    }
   ],
   "source": [
    "print(f\"alice train dataset size:{alice_x_train.shape}, \\n\\\n",
    "bob train dataset size: {bob_x_train.shape},\\n\\\n",
    "alice test dataset size: {alice_x_test.shape},\\n\\\n",
    "label train dataset size: {y_train_ohe.shape}\")\n"
   ]
  },
  {
   "cell_type": "code",
   "execution_count": 7,
   "id": "331e9a35-938a-41d7-8f7d-f4a9ca9c87a5",
   "metadata": {
    "execution": {
     "parties": "[\"alice\"]",
     "shell.execute_reply.end": "2024-08-06T14:37:18.807387Z",
     "shell.execute_reply.started": "2024-08-06T14:37:00.453477Z",
     "to_execute": "2024-08-06T14:36:03.255Z"
    },
    "libroFormatter": "formatter-string"
   },
   "outputs": [
    {
     "name": "stderr",
     "output_type": "stream",
     "text": [
      "2024-08-06 14:37:03,263\tWARNING services.py:1996 -- WARNING: The object store is using /tmp instead of /dev/shm because /dev/shm has only 67108864 bytes available. This will harm performance! You may be able to free up space by deleting files in /dev/shm. If you are inside a Docker container, you can increase /dev/shm size by passing '--shm-size=3.92gb' to 'docker run' (or add it to the run_options list in a Ray cluster config). Make sure to set this to more than 30% of available RAM.\n",
      "2024-08-06 14:37:03,386\tINFO worker.py:1724 -- Started a local Ray instance.\n",
      "\u001b[36m(raylet)\u001b[0m Spilled 4696 MiB, 8 objects, write throughput 1054 MiB/s. Set RAY_verbose_spill_logs=0 to disable this message.\n",
      "\u001b[36m(raylet)\u001b[0m Spilled 6339 MiB, 12 objects, write throughput 1074 MiB/s.\n"
     ]
    },
    {
     "data": {
      "text/plain": [
       "{'train_x': FedNdarray(partitions={PYURuntime(alice): <secretflow.device.device.pyu.PYUObject object at 0x7f8849532440>, PYURuntime(bob): <secretflow.device.device.pyu.PYUObject object at 0x7f8a32a966b0>}, partition_way=<PartitionWay.VERTICAL: 'vertical'>),\n",
       " 'train_y': FedNdarray(partitions={PYURuntime(alice): <secretflow.device.device.pyu.PYUObject object at 0x7f8849704880>, PYURuntime(bob): <secretflow.device.device.pyu.PYUObject object at 0x7f8849e7d2d0>}, partition_way=<PartitionWay.VERTICAL: 'vertical'>),\n",
       " 'test_x': FedNdarray(partitions={PYURuntime(alice): <secretflow.device.device.pyu.PYUObject object at 0x7f8849e767d0>, PYURuntime(bob): <secretflow.device.device.pyu.PYUObject object at 0x7f8a4b06d420>}, partition_way=<PartitionWay.VERTICAL: 'vertical'>),\n",
       " 'test_y': FedNdarray(partitions={PYURuntime(alice): <secretflow.device.device.pyu.PYUObject object at 0x7f8849e76080>, PYURuntime(bob): <secretflow.device.device.pyu.PYUObject object at 0x7f8849530040>}, partition_way=<PartitionWay.VERTICAL: 'vertical'>)}"
      ]
     },
     "execution_count": 7,
     "metadata": {},
     "output_type": "execute_result"
    }
   ],
   "source": [
    "import numpy as np\n",
    "from secretflow.data.ndarray import load\n",
    "import secretflow as sf\n",
    "from secretflow.ml.nn import SLModel\n",
    "\n",
    "sf.shutdown( )\n",
    "sf.init(['alice','bob'],address='local')\n",
    "alice,bob=sf.PYU('alice'),sf.PYU('bob')\n",
    "\n",
    "np.savez(\n",
    "    \"alice.npz\",\n",
    "    train_x=alice_x_train,\n",
    "    train_y=y_train_ohe,\n",
    "    test_x=alice_x_test,\n",
    "    test_y=y_test_ohe\n",
    ")\n",
    "np.savez(\n",
    "    \"bob.npz\",\n",
    "    train_x=bob_x_train,\n",
    "    train_y=None,\n",
    "    test_x=bob_x_test,\n",
    "    test_y=None\n",
    ")\n",
    "fed_npz = load(\n",
    "    {alice: \"./alice.npz\", bob: \"./bob.npz\"},\n",
    "    partition_way=sf.data.ndarray.PartitionWay.VERTICAL,\n",
    "    allow_pickle=True\n",
    ")\n",
    "fed_train_x, fed_train_y, fed_test_x, fed_test_y = (\n",
    "    fed_npz[\"train_x\"],\n",
    "    fed_npz[\"train_y\"],\n",
    "    fed_npz[\"test_x\"],\n",
    "    fed_npz[\"test_y\"],\n",
    ")\n",
    "fed_npz\n"
   ]
  },
  {
   "cell_type": "markdown",
   "id": "0af388ef-2964-49fb-bc49-38cc3acbd6b6",
   "metadata": {
    "libroCellType": "markdown",
    "libroFormatter": "formatter-string"
   },
   "source": [
    "# 明文模型"
   ]
  },
  {
   "cell_type": "code",
   "execution_count": 8,
   "id": "251afe9a-2f34-4d80-8bd2-dbe03a45e31c",
   "metadata": {
    "execution": {
     "parties": "[\"alice\"]",
     "shell.execute_reply.end": "2024-08-06T14:37:18.889612Z",
     "shell.execute_reply.started": "2024-08-06T14:37:18.809672Z",
     "to_execute": "2024-08-06T14:36:03.255Z"
    },
    "libroFormatter": "formatter-string"
   },
   "outputs": [],
   "source": [
    "from tensorflow import keras\n",
    "from tensorflow.keras import layers\n",
    "import tensorflow as tf\n",
    "from sklearn.model_selection import train_test_split\n",
    "\n",
    "class SplitMLP(tf.keras.Model):\n",
    "    def __init__ (self):\n",
    "        super(SplitMLP,self).__init__()\n",
    "        self.alice_model= keras.Sequential(\n",
    "            [\n",
    "                layers.Flatten(),\n",
    "                layers.Dense(100,activation=\"relu\"),\n",
    "                layers.Dense(32,activation=\"relu\")\n",
    "            ]\n",
    "        )\n",
    "        self.bob_model=keras.Sequential(\n",
    "            [\n",
    "                layers.Flatten(),\n",
    "                layers.Dense(100, activation=\"relu\"),\n",
    "                layers.Dense(32,activation=\"relu\")\n",
    "            ]\n",
    "        )\n",
    "        self.fuse_layer=layers.Dense(64,activation='relu')\n",
    "        self.output_layer= layers.Dense(10,activation='softmax')\n",
    "    def __call__(self,inputs):\n",
    "        alice_feature = inputs['alice_feature']\n",
    "        bob_feature = inputs['bob_feature']\n",
    "        # hiddens\n",
    "        h_alice=self.alice_model(alice_feature)\n",
    "        h_bob= self.bob_model(bob_feature)\n",
    "        merged_layer=layers.concatenate([h_alice,h_bob])\n",
    "        fuse_layer_out=self.fuse_layer(merged_layer)\n",
    "        output=self.output_layer(fuse_layer_out)\n",
    "        return output"
   ]
  },
  {
   "cell_type": "code",
   "execution_count": 9,
   "id": "292c80eb-4d86-49d6-93e3-919d5e714533",
   "metadata": {
    "execution": {
     "parties": "[\"alice\"]",
     "shell.execute_reply.end": "2024-08-06T14:37:35.304686Z",
     "shell.execute_reply.started": "2024-08-06T14:37:18.891001Z",
     "to_execute": "2024-08-06T14:36:03.255Z"
    },
    "libroFormatter": "formatter-string"
   },
   "outputs": [
    {
     "name": "stdout",
     "output_type": "stream",
     "text": [
      "Epoch 1/3\n",
      "1563/1563 [==============================] - 5s 3ms/step - loss: 0.2806 - auc: 0.7805\n",
      "Epoch 2/3\n",
      "1563/1563 [==============================] - 5s 3ms/step - loss: 0.2511 - auc: 0.8365\n",
      "Epoch 3/3\n",
      "1563/1563 [==============================] - 5s 3ms/step - loss: 0.2407 - auc: 0.8526\n"
     ]
    },
    {
     "data": {
      "text/plain": [
       "<keras.callbacks.History at 0x7f88b4383ca0>"
      ]
     },
     "execution_count": 9,
     "metadata": {},
     "output_type": "execute_result"
    }
   ],
   "source": [
    "alice_input= tf.keras.Input(shape=(16,32,3),name='alice_feature')\n",
    "bob_input =tf.keras.Input(shape=(16,32,3),name='bob_feature')\n",
    "split_mlp=SplitMLP()\n",
    "logits= split_mlp({'alice_feature': alice_input, 'bob_feature': bob_input})\n",
    "model= tf.keras.Model(\n",
    "    inputs=[alice_input, bob_input],\n",
    "    outputs=logits\n",
    ")\n",
    "model.compile(\n",
    "    loss=\"binary_crossentropy\",\n",
    "    optimizer='adam',\n",
    "    metrics=[tf.keras.metrics.AUC()]\n",
    ")\n",
    "train_dataset=tf.data.Dataset.from_tensor_slices(\n",
    "    (\n",
    "        {\n",
    "            \"alice_feature\": alice_x_train,\n",
    "            \"bob_feature\": bob_x_train\n",
    "        },\n",
    "        y_train_ohe,\n",
    "    )\n",
    ").batch(32)\n",
    "model.fit(train_dataset,epochs=3)"
   ]
  },
  {
   "cell_type": "markdown",
   "id": "b512e530-222f-440c-b04f-6c6cbeb0efcd",
   "metadata": {
    "libroCellType": "markdown",
    "libroFormatter": "formatter-string"
   },
   "source": [
    "# 密文模型\n",
    "\n",
    "## 1. 基础模型创建"
   ]
  },
  {
   "cell_type": "code",
   "execution_count": 10,
   "id": "e3d47d94-1988-4252-a5a6-9509ca01ece1",
   "metadata": {
    "execution": {
     "parties": "[\"alice\"]",
     "shell.execute_reply.end": "2024-08-06T14:37:35.310926Z",
     "shell.execute_reply.started": "2024-08-06T14:37:35.306744Z",
     "to_execute": "2024-08-06T14:36:03.255Z"
    },
    "libroFormatter": "formatter-string"
   },
   "outputs": [],
   "source": [
    "def create_base_model(input_dim, output_dim, name='base_model'):\n",
    "    #Create model\n",
    "    def create_model():\n",
    "        from tensorflow import keras\n",
    "        from tensorflow.keras import layers\n",
    "        import tensorflow as tf\n",
    "        # base model config\n",
    "        model = keras.Sequential(\n",
    "            [\n",
    "                keras.Input(shape=input_dim),\n",
    "                layers.Flatten(),\n",
    "                layers.Dense(100,activation=\"relu\"),\n",
    "                layers.Dense(output_dim, activation=\"relu\")\n",
    "            ]\n",
    "        )\n",
    "        # Compile model\n",
    "        model.summary()\n",
    "        model.compile(\n",
    "            # 模型分布在各方，需要compile才能前向后向传播\n",
    "            loss='binary_crossentropy',\n",
    "            optimizer='adam',\n",
    "            metrics=[\"accuracy\",tf.keras.metrics.AUC()]\n",
    "        )\n",
    "        return model\n",
    "    return create_model"
   ]
  },
  {
   "cell_type": "code",
   "execution_count": 11,
   "id": "3e43189b-32d9-44b1-86b3-6d7520b6b827",
   "metadata": {
    "execution": {
     "parties": "[\"alice\"]",
     "shell.execute_reply.end": "2024-08-06T14:37:35.373284Z",
     "shell.execute_reply.started": "2024-08-06T14:37:35.312284Z",
     "to_execute": "2024-08-06T14:36:03.255Z"
    },
    "libroFormatter": "formatter-string"
   },
   "outputs": [
    {
     "name": "stdout",
     "output_type": "stream",
     "text": [
      "Model: \"sequential_2\"\n",
      "_________________________________________________________________\n",
      " Layer (type)                Output Shape              Param #   \n",
      "=================================================================\n",
      " flatten_2 (Flatten)         (None, 1536)              0         \n",
      "                                                                 \n",
      " dense_6 (Dense)             (None, 100)               153700    \n",
      "                                                                 \n",
      " dense_7 (Dense)             (None, 32)                3232      \n",
      "                                                                 \n",
      "=================================================================\n",
      "Total params: 156,932\n",
      "Trainable params: 156,932\n",
      "Non-trainable params: 0\n",
      "_________________________________________________________________\n",
      "Model: \"sequential_3\"\n",
      "_________________________________________________________________\n",
      " Layer (type)                Output Shape              Param #   \n",
      "=================================================================\n",
      " flatten_3 (Flatten)         (None, 1536)              0         \n",
      "                                                                 \n",
      " dense_8 (Dense)             (None, 100)               153700    \n",
      "                                                                 \n",
      " dense_9 (Dense)             (None, 32)                3232      \n",
      "                                                                 \n",
      "=================================================================\n",
      "Total params: 156,932\n",
      "Trainable params: 156,932\n",
      "Non-trainable params: 0\n",
      "_________________________________________________________________\n"
     ]
    },
    {
     "data": {
      "text/plain": [
       "<keras.engine.sequential.Sequential at 0x7f88a4538cd0>"
      ]
     },
     "execution_count": 11,
     "metadata": {},
     "output_type": "execute_result"
    }
   ],
   "source": [
    "# prepare model\n",
    "hidden_size = 32\n",
    "model_base_alice=create_base_model((16, 32, 3),hidden_size)\n",
    "model_base_bob =create_base_model((16, 32, 3),hidden_size)\n",
    "model_base_alice()\n",
    "model_base_bob()"
   ]
  },
  {
   "cell_type": "code",
   "execution_count": 12,
   "id": "fc0082de-051f-4d8a-965f-ed90901a9390",
   "metadata": {
    "execution": {
     "parties": "[\"alice\"]",
     "shell.execute_reply.end": "2024-08-06T14:37:35.378760Z",
     "shell.execute_reply.started": "2024-08-06T14:37:35.374982Z",
     "to_execute": "2024-08-06T14:36:03.255Z"
    },
    "libroFormatter": "formatter-string"
   },
   "outputs": [],
   "source": [
    "def create_fuse_model(input_dim, output_dim, party_nums, name='fuse_model'):\n",
    "    def create_model():\n",
    "        from tensorflow import keras\n",
    "        from tensorflow.keras import layers\n",
    "        import tensorflow as tf\n",
    "        # input\n",
    "        input_layers =[]\n",
    "        for i in range(party_nums):\n",
    "            input_layers.append(\n",
    "                keras.Input(\n",
    "                    input_dim,\n",
    "                )\n",
    "            )\n",
    "        merged_layer= layers.concatenate(input_layers)\n",
    "        fuse_layer = layers.Dense(64,activation='relu')(merged_layer)\n",
    "        output =layers.Dense(output_dim,activation='softmax')(fuse_layer)\n",
    "        model = keras.Model(inputs=input_layers, outputs=output)\n",
    "        model.summary()\n",
    "        model.compile(\n",
    "            loss='binary_crossentropy',\n",
    "            optimizer='adam',\n",
    "            metrics=[tf.keras.metrics.AUC()]\n",
    "        )\n",
    "        return model\n",
    "\n",
    "    return create_model"
   ]
  },
  {
   "cell_type": "code",
   "execution_count": 13,
   "id": "236411c9-bffd-45bb-9806-5384597b5971",
   "metadata": {
    "execution": {
     "parties": "[\"alice\"]",
     "shell.execute_reply.end": "2024-08-06T14:37:35.418262Z",
     "shell.execute_reply.started": "2024-08-06T14:37:35.381775Z",
     "to_execute": "2024-08-06T14:36:03.255Z"
    },
    "libroFormatter": "formatter-string"
   },
   "outputs": [
    {
     "name": "stdout",
     "output_type": "stream",
     "text": [
      "Model: \"model_1\"\n",
      "__________________________________________________________________________________________________\n",
      " Layer (type)                   Output Shape         Param #     Connected to                     \n",
      "==================================================================================================\n",
      " input_3 (InputLayer)           [(None, 32)]         0           []                               \n",
      "                                                                                                  \n",
      " input_4 (InputLayer)           [(None, 32)]         0           []                               \n",
      "                                                                                                  \n",
      " concatenate_1 (Concatenate)    (None, 64)           0           ['input_3[0][0]',                \n",
      "                                                                  'input_4[0][0]']                \n",
      "                                                                                                  \n",
      " dense_10 (Dense)               (None, 64)           4160        ['concatenate_1[0][0]']          \n",
      "                                                                                                  \n",
      " dense_11 (Dense)               (None, 10)           650         ['dense_10[0][0]']               \n",
      "                                                                                                  \n",
      "==================================================================================================\n",
      "Total params: 4,810\n",
      "Trainable params: 4,810\n",
      "Non-trainable params: 0\n",
      "__________________________________________________________________________________________________\n"
     ]
    },
    {
     "data": {
      "text/plain": [
       "<keras.engine.functional.Functional at 0x7f88a454ac20>"
      ]
     },
     "execution_count": 13,
     "metadata": {},
     "output_type": "execute_result"
    }
   ],
   "source": [
    "model_fuse=create_fuse_model(input_dim=hidden_size, party_nums=2,output_dim=10)\n",
    "model_fuse()"
   ]
  },
  {
   "cell_type": "markdown",
   "id": "3d80bdd8-7b3c-45d5-91ed-41733d1aab76",
   "metadata": {
    "libroCellType": "markdown",
    "libroFormatter": "formatter-string"
   },
   "source": [
    "## 2. 拆分模型创建"
   ]
  },
  {
   "cell_type": "code",
   "execution_count": 14,
   "id": "6eb29022-67a4-492e-b7a2-0f357b10b907",
   "metadata": {
    "execution": {
     "parties": "[\"alice\"]",
     "shell.execute_reply.end": "2024-08-06T14:37:35.422910Z",
     "shell.execute_reply.started": "2024-08-06T14:37:35.420238Z",
     "to_execute": "2024-08-06T14:36:03.255Z"
    },
    "libroFormatter": "formatter-string"
   },
   "outputs": [],
   "source": [
    "base_model_dict ={alice: model_base_alice, bob: model_base_bob}\n"
   ]
  },
  {
   "cell_type": "code",
   "execution_count": 15,
   "id": "a91a555e-057f-4201-a24c-9d23c4b546c5",
   "metadata": {
    "execution": {
     "parties": "[\"alice\"]",
     "shell.execute_reply.end": "2024-08-06T14:37:35.431683Z",
     "shell.execute_reply.started": "2024-08-06T14:37:35.424828Z",
     "to_execute": "2024-08-06T14:36:03.255Z"
    },
    "libroFormatter": "formatter-string"
   },
   "outputs": [],
   "source": [
    "from secretflow.security.privacy import DPStrategy, LabelDP\n",
    "from secretflow.security.privacy.mechanism.tensorflow import GaussianEmbeddingDP\n",
    "\n",
    "# Define DP operations\n",
    "train_batch_size = 128\n",
    "gaussian_embedding_dp = GaussianEmbeddingDP(\n",
    "    noise_multiplier=0.5,\n",
    "    l2_norm_clip=1.0,\n",
    "    batch_size=train_batch_size,\n",
    "    num_samples=1000,\n",
    "    is_secure_generator=False,\n",
    ")\n",
    "label_dp = LabelDP(eps=64.0)\n",
    "dp_strategy_alice = DPStrategy(label_dp=label_dp)\n",
    "dp_strategy_bob = DPStrategy(embedding_dp=gaussian_embedding_dp)\n",
    "dp_strategy_dict = {alice: dp_strategy_alice, bob: dp_strategy_bob}\n",
    "dp_spent_step_freq = 10"
   ]
  },
  {
   "cell_type": "code",
   "execution_count": 16,
   "id": "1d5ee54c-b803-4055-b4da-4e10d65e7be3",
   "metadata": {
    "execution": {
     "parties": "[\"alice\"]",
     "shell.execute_reply.end": "2024-08-06T14:37:35.713462Z",
     "shell.execute_reply.started": "2024-08-06T14:37:35.433613Z",
     "to_execute": "2024-08-06T14:36:03.256Z"
    },
    "libroFormatter": "formatter-string"
   },
   "outputs": [
    {
     "name": "stderr",
     "output_type": "stream",
     "text": [
      "INFO:root:Create proxy actor <class 'secretflow.ml.nn.sl.backend.tensorflow.sl_base.PYUSLTFModel'> with party alice.\n",
      "INFO:root:Create proxy actor <class 'secretflow.ml.nn.sl.backend.tensorflow.sl_base.PYUSLTFModel'> with party bob.\n"
     ]
    }
   ],
   "source": [
    "sl_model = SLModel(\n",
    "    base_model_dict=base_model_dict,\n",
    "    device_y=alice,\n",
    "    model_fuse=model_fuse,\n",
    "    dp_strategy_dict=dp_strategy_dict\n",
    ")"
   ]
  },
  {
   "cell_type": "code",
   "execution_count": 17,
   "id": "0952a5d9-a8b7-466d-8e49-93d91565e75d",
   "metadata": {
    "execution": {
     "parties": "[\"alice\"]",
     "shell.execute_reply.end": "2024-08-06T14:38:43.924666Z",
     "shell.execute_reply.started": "2024-08-06T14:37:35.715336Z",
     "to_execute": "2024-08-06T14:36:03.256Z"
    },
    "libroFormatter": "formatter-string"
   },
   "outputs": [
    {
     "name": "stderr",
     "output_type": "stream",
     "text": [
      "INFO:root:SL Train Params: {'self': <secretflow.ml.nn.sl.sl_model.SLModel object at 0x7f88a456dae0>, 'x': FedNdarray(partitions={PYURuntime(alice): <secretflow.device.device.pyu.PYUObject object at 0x7f8849532440>, PYURuntime(bob): <secretflow.device.device.pyu.PYUObject object at 0x7f8a32a966b0>}, partition_way=<PartitionWay.VERTICAL: 'vertical'>), 'y': FedNdarray(partitions={PYURuntime(alice): <secretflow.device.device.pyu.PYUObject object at 0x7f8849704880>, PYURuntime(bob): <secretflow.device.device.pyu.PYUObject object at 0x7f8849e7d2d0>}, partition_way=<PartitionWay.VERTICAL: 'vertical'>), 'batch_size': 128, 'epochs': 3, 'verbose': 1, 'callbacks': None, 'validation_data': (FedNdarray(partitions={PYURuntime(alice): <secretflow.device.device.pyu.PYUObject object at 0x7f8849e767d0>, PYURuntime(bob): <secretflow.device.device.pyu.PYUObject object at 0x7f8a4b06d420>}, partition_way=<PartitionWay.VERTICAL: 'vertical'>), FedNdarray(partitions={PYURuntime(alice): <secretflow.device.device.pyu.PYUObject object at 0x7f8849e76080>, PYURuntime(bob): <secretflow.device.device.pyu.PYUObject object at 0x7f8849530040>}, partition_way=<PartitionWay.VERTICAL: 'vertical'>)), 'shuffle': True, 'sample_weight': None, 'validation_freq': 1, 'dp_spent_step_freq': 10, 'dataset_builder': None, 'audit_log_params': {}, 'early_stopping_batch_step': 0, 'early_stopping_warmup_step': 0, 'random_seed': 55765, 'audit_log_dir': None}\n",
      "Train Processing: :   0%|          | 0/391 [00:00<?, ?it/s]"
     ]
    },
    {
     "name": "stdout",
     "output_type": "stream",
     "text": [
      "Epoch 1/3\n"
     ]
    },
    {
     "name": "stderr",
     "output_type": "stream",
     "text": [
      "Train Processing: : 100%|█████████▉| 390/391 [00:28<00:00, 13.87it/s, {'train_loss': 0.31960562, 'train_auc_1': 0.6815161, 'val_loss': 0.29201236, 'val_auc_1': 0.752602}]\n",
      "Train Processing: :   0%|          | 0/391 [00:00<?, ?it/s]"
     ]
    },
    {
     "name": "stdout",
     "output_type": "stream",
     "text": [
      "Epoch 2/3\n"
     ]
    },
    {
     "name": "stderr",
     "output_type": "stream",
     "text": [
      "Train Processing: : 100%|█████████▉| 390/391 [00:17<00:00, 22.37it/s, {'train_loss': 0.28178766, 'train_auc_1': 0.77875173, 'val_loss': 0.27466005, 'val_auc_1': 0.7937816}]\n",
      "Train Processing: :   0%|          | 0/391 [00:00<?, ?it/s]"
     ]
    },
    {
     "name": "stdout",
     "output_type": "stream",
     "text": [
      "Epoch 3/3\n"
     ]
    },
    {
     "name": "stderr",
     "output_type": "stream",
     "text": [
      "Train Processing: : 100%|█████████▉| 390/391 [00:16<00:00, 23.01it/s, {'train_loss': 0.27049786, 'train_auc_1': 0.8010061, 'val_loss': 0.2664643, 'val_auc_1': 0.80855715}]\n"
     ]
    }
   ],
   "source": [
    "history = sl_model.fit(\n",
    "    fed_train_x,\n",
    "    fed_train_y,\n",
    "    validation_data=(fed_test_x, fed_test_y),\n",
    "    epochs=3,\n",
    "    batch_size=train_batch_size,\n",
    "    shuffle=True,\n",
    "    verbose=1,\n",
    "    validation_freq=1,\n",
    "    dp_spent_step_freq=dp_spent_step_freq,\n",
    ")"
   ]
  },
  {
   "cell_type": "code",
   "execution_count": 18,
   "id": "ff177958-e350-48f9-b0ec-57c9644099d9",
   "metadata": {
    "execution": {
     "parties": "[\"alice\"]",
     "shell.execute_reply.end": "2024-08-06T14:38:44.973154Z",
     "shell.execute_reply.started": "2024-08-06T14:38:43.964881Z",
     "to_execute": "2024-08-06T14:36:03.256Z"
    },
    "libroFormatter": "formatter-string"
   },
   "outputs": [
    {
     "name": "stderr",
     "output_type": "stream",
     "text": [
      "Evaluate Processing: :  99%|█████████▊| 78/79 [00:00<00:00, 96.49it/s, loss=0.267, auc_1=0.806]\n"
     ]
    }
   ],
   "source": [
    "global_metric = sl_model.evaluate(fed_test_x, fed_test_y, batch_size=128)"
   ]
  }
 ],
 "metadata": {},
 "nbformat": 4,
 "nbformat_minor": 5
}
