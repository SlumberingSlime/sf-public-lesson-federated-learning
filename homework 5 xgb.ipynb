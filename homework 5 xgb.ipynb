{
 "cells": [
  {
   "cell_type": "code",
   "execution_count": 1,
   "id": "66936514-805f-4f48-9c89-270af35003ed",
   "metadata": {
    "execution": {
     "parties": "[\"alice\",\"bob\"]",
     "shell.execute_reply.end": "2024-08-08T05:31:25.042457Z",
     "shell.execute_reply.started": "2024-08-08T05:31:22.774162Z",
     "to_execute": "2024-08-08T05:31:22.770Z"
    },
    "libroFormatter": "formatter-string"
   },
   "outputs": [
    {
     "data": {
      "text/html": [
       "<h4>bob's Output:</h4>"
      ]
     },
     "metadata": {},
     "output_type": "display_data"
    },
    {
     "name": "stderr",
     "output_type": "stream",
     "text": [
      "2024-08-08 05:31:23,782\tINFO worker.py:1540 -- Connecting to existing Ray cluster at address: 172.19.0.2:6379...\n",
      "2024-08-08 05:31:23,789\tINFO worker.py:1724 -- Connected to Ray cluster.\n",
      "2024-08-08 05:31:23.805 INFO api.py:233 [bob] -- [Anonymous_job] Started rayfed with {'CLUSTER_ADDRESSES': {'alice': 'alice:8000', 'bob': 'bob:8000'}, 'CURRENT_PARTY_NAME': 'bob', 'TLS_CONFIG': {}}\n",
      "2024-08-08 05:31:24.424 INFO barriers.py:284 [bob] -- [Anonymous_job] Succeeded to create receiver proxy actor.\n",
      "\u001b[36m(ReceiverProxyActor pid=4388)\u001b[0m 2024-08-08 05:31:24.421 INFO grpc_proxy.py:359 [bob] -- [Anonymous_job] ReceiverProxy binding port 8000, options: (('grpc.enable_retries', 1), ('grpc.so_reuseport', 0), ('grpc.max_send_message_length', 524288000), ('grpc.max_receive_message_length', 524288000), ('grpc.service_config', '{\"methodConfig\": [{\"name\": [{\"service\": \"GrpcService\"}], \"retryPolicy\": {\"maxAttempts\": 5, \"initialBackoff\": \"5s\", \"maxBackoff\": \"30s\", \"backoffMultiplier\": 2, \"retryableStatusCodes\": [\"UNAVAILABLE\"]}}]}'))...\n",
      "\u001b[36m(ReceiverProxyActor pid=4388)\u001b[0m 2024-08-08 05:31:24.423 INFO grpc_proxy.py:379 [bob] -- [Anonymous_job] Successfully start Grpc service without credentials.\n",
      "2024-08-08 05:31:24.997 INFO barriers.py:333 [bob] -- [Anonymous_job] SenderProxyActor has successfully created.\n",
      "2024-08-08 05:31:24.998 INFO barriers.py:520 [bob] -- [Anonymous_job] Try ping ['alice'] at 0 attemp, up to 3600 attemps.\n"
     ]
    },
    {
     "data": {
      "text/html": [
       "<h4>alice's Output:</h4>"
      ]
     },
     "metadata": {},
     "output_type": "display_data"
    },
    {
     "name": "stderr",
     "output_type": "stream",
     "text": [
      "2024-08-08 05:31:23,798\tINFO worker.py:1540 -- Connecting to existing Ray cluster at address: 172.19.0.3:6379...\n",
      "2024-08-08 05:31:23,805\tINFO worker.py:1724 -- Connected to Ray cluster.\n",
      "2024-08-08 05:31:23.822 INFO api.py:233 [alice] -- [Anonymous_job] Started rayfed with {'CLUSTER_ADDRESSES': {'alice': 'alice:8000', 'bob': 'bob:8000'}, 'CURRENT_PARTY_NAME': 'alice', 'TLS_CONFIG': {}}\n",
      "2024-08-08 05:31:24.450 INFO barriers.py:284 [alice] -- [Anonymous_job] Succeeded to create receiver proxy actor.\n",
      "\u001b[36m(ReceiverProxyActor pid=5614)\u001b[0m 2024-08-08 05:31:24.446 INFO grpc_proxy.py:359 [alice] -- [Anonymous_job] ReceiverProxy binding port 8000, options: (('grpc.enable_retries', 1), ('grpc.so_reuseport', 0), ('grpc.max_send_message_length', 524288000), ('grpc.max_receive_message_length', 524288000), ('grpc.service_config', '{\"methodConfig\": [{\"name\": [{\"service\": \"GrpcService\"}], \"retryPolicy\": {\"maxAttempts\": 5, \"initialBackoff\": \"5s\", \"maxBackoff\": \"30s\", \"backoffMultiplier\": 2, \"retryableStatusCodes\": [\"UNAVAILABLE\"]}}]}'))...\n",
      "\u001b[36m(ReceiverProxyActor pid=5614)\u001b[0m 2024-08-08 05:31:24.449 INFO grpc_proxy.py:379 [alice] -- [Anonymous_job] Successfully start Grpc service without credentials.\n",
      "2024-08-08 05:31:25.032 INFO barriers.py:333 [alice] -- [Anonymous_job] SenderProxyActor has successfully created.\n",
      "2024-08-08 05:31:25.033 INFO barriers.py:520 [alice] -- [Anonymous_job] Try ping ['bob'] at 0 attemp, up to 3600 attemps.\n"
     ]
    }
   ],
   "source": [
    "import time\n",
    "import secretflow as sf\n",
    "import spu\n",
    "import os\n",
    "\n",
    "network_conf = {\n",
    "    \"parties\": {\n",
    "        \"alice\": {\n",
    "            \"address\": \"alice:8000\",\n",
    "        },\n",
    "        \"bob\": {\n",
    "            \"address\": \"bob:8000\",\n",
    "        },\n",
    "    },\n",
    "}\n",
    "\n",
    "party = os.getenv(\"SELF_PARTY\", \"alice\")\n",
    "sf.shutdown()\n",
    "sf.init(\n",
    "    address=\"127.0.0.1:6379\",\n",
    "    cluster_config={**network_conf, \"self_party\": party},\n",
    "    log_to_driver=True,\n",
    ")"
   ]
  },
  {
   "cell_type": "code",
   "execution_count": 2,
   "id": "e3ad42e5-e7d2-4179-bb96-1aac63a12077",
   "metadata": {
    "execution": {
     "parties": "[\"alice\",\"bob\"]",
     "shell.execute_reply.end": "2024-08-08T05:31:27.427926Z",
     "shell.execute_reply.started": "2024-08-08T05:31:25.009949Z",
     "to_execute": "2024-08-08T05:31:22.770Z"
    },
    "libroFormatter": "formatter-string"
   },
   "outputs": [],
   "source": [
    "alice, bob = sf.PYU(\"alice\"), sf.PYU(\"bob\")\n",
    "spu_conf = {\n",
    "    \"nodes\": [\n",
    "        {\n",
    "            \"party\": \"alice\",\n",
    "            \"address\": \"alice:8001\",\n",
    "            \"listen_addr\": \"alice:8001\",\n",
    "        },\n",
    "        {\n",
    "            \"party\": \"bob\",\n",
    "            \"address\": \"bob:8001\",\n",
    "            \"listen_addr\": \"bob:8001\",\n",
    "        },\n",
    "    ],\n",
    "    \"runtime_config\": {\n",
    "        \"protocol\": spu.spu_pb2.SEMI2K,\n",
    "        \"field\": spu.spu_pb2.FM128,\n",
    "        \"sigmoid_mode\": spu.spu_pb2.RuntimeConfig.SIGMOID_REAL,\n",
    "    },\n",
    "}\n",
    "\n",
    "heu_config = {\n",
    "    'sk_keeper': {'party': 'alice'},\n",
    "    'evaluators': [{'party': 'bob'}],\n",
    "    'mode': 'PHEU',\n",
    "    'he_parameters': {\n",
    "        # ou is a fast encryption schema that is as secure as paillier.\n",
    "        'schema': 'ou',\n",
    "        'key_pair': {\n",
    "            'generate': {\n",
    "                # bit size should be 2048 to provide sufficient security.\n",
    "                'bit_size': 2048,\n",
    "            },\n",
    "        },\n",
    "    },\n",
    "    'encoding': {\n",
    "        'cleartext_type': 'DT_I32',\n",
    "        'encoder': \"IntegerEncoder\",\n",
    "        'encoder_args': {\"scale\": 1},\n",
    "    },\n",
    "}\n",
    "heu = sf.HEU(heu_config, spu_conf['runtime_config']['field'])\n",
    "spu_device = sf.SPU(cluster_def=spu_conf)"
   ]
  },
  {
   "cell_type": "code",
   "execution_count": 3,
   "id": "5e506c96-2b3a-4017-aa62-1176f2b7add2",
   "metadata": {
    "execution": {
     "parties": "[\"alice\",\"bob\"]",
     "shell.execute_reply.end": "2024-08-08T05:31:28.696595Z",
     "shell.execute_reply.started": "2024-08-08T05:31:26.895387Z",
     "to_execute": "2024-08-08T05:31:22.770Z"
    },
    "libroFormatter": "formatter-string"
   },
   "outputs": [
    {
     "data": {
      "text/html": [
       "<h4>alice's Output:</h4>"
      ]
     },
     "metadata": {},
     "output_type": "display_data"
    },
    {
     "name": "stderr",
     "output_type": "stream",
     "text": [
      "2024-08-08 05:31:26.896 INFO proxy.py:180 [alice] -- [Anonymous_job] Create proxy actor <class 'secretflow.data.core.agent.PartitionAgent'> with party alice.\n",
      "2024-08-08 05:31:26.965 INFO proxy.py:180 [alice] -- [Anonymous_job] Create proxy actor <class 'secretflow.data.core.agent.PartitionAgent'> with party bob.\n",
      "2024-08-08 05:31:28.626 WARNING partition.py:53 [alice] -- [Anonymous_job] To create a Partitoin, we suggest to use function source.\n",
      "2024-08-08 05:31:28.627 INFO proxy.py:180 [alice] -- [Anonymous_job] Create proxy actor <class 'secretflow.data.core.agent.PartitionAgent'> with party alice.\n"
     ]
    },
    {
     "data": {
      "text/html": [
       "<h4>bob's Output:</h4>"
      ]
     },
     "metadata": {},
     "output_type": "display_data"
    },
    {
     "name": "stderr",
     "output_type": "stream",
     "text": [
      "2024-08-08 05:31:27.432 INFO proxy.py:180 [bob] -- [Anonymous_job] Create proxy actor <class 'secretflow.data.core.agent.PartitionAgent'> with party alice.\n",
      "2024-08-08 05:31:27.433 INFO proxy.py:180 [bob] -- [Anonymous_job] Create proxy actor <class 'secretflow.data.core.agent.PartitionAgent'> with party bob.\n",
      "2024-08-08 05:31:28.622 WARNING partition.py:53 [bob] -- [Anonymous_job] To create a Partitoin, we suggest to use function source.\n",
      "2024-08-08 05:31:28.622 INFO proxy.py:180 [bob] -- [Anonymous_job] Create proxy actor <class 'secretflow.data.core.agent.PartitionAgent'> with party alice.\n"
     ]
    }
   ],
   "source": [
    "import pandas as pd\n",
    "import os\n",
    "from secretflow.data.vertical import read_csv as v_read_csv, VDataFrame\n",
    "from secretflow.data.core import partition\n",
    "\n",
    "start = time.perf_counter()\n",
    "\n",
    "current_dir = os.getcwd()\n",
    "# load alice and bob data as a single vdataframe\n",
    "data = v_read_csv(\n",
    "    {alice: f\"{current_dir}/bank_0_8.csv\", bob: f\"{current_dir}/bank_8_16.csv\"},\n",
    "    keys=\"id\",\n",
    "    drop_keys=\"id\",\n",
    ")\n",
    "# load alice's label data\n",
    "alice_y_pyu_object = alice(lambda path: pd.read_csv(path, index_col = 0))(f\"{current_dir}/bank_y.csv\") \n",
    "label = VDataFrame(partitions={alice: partition(alice_y_pyu_object)})"
   ]
  },
  {
   "cell_type": "code",
   "execution_count": 4,
   "id": "e45c1d15-5fd7-422a-a24c-f00926779833",
   "metadata": {
    "execution": {
     "parties": "[\"alice\",\"bob\"]",
     "shell.execute_reply.end": "2024-08-08T05:31:28.712653Z",
     "shell.execute_reply.started": "2024-08-08T05:31:28.626271Z",
     "to_execute": "2024-08-08T05:31:22.770Z"
    },
    "libroFormatter": "formatter-string"
   },
   "outputs": [
    {
     "data": {
      "text/html": [
       "<h4>bob's Output:</h4>"
      ]
     },
     "metadata": {},
     "output_type": "display_data"
    },
    {
     "data": {
      "text/plain": [
       "['age',\n",
       " 'job',\n",
       " 'marital',\n",
       " 'education',\n",
       " 'default',\n",
       " 'balance',\n",
       " 'housing',\n",
       " 'loan',\n",
       " 'contact',\n",
       " 'day',\n",
       " 'month',\n",
       " 'duration',\n",
       " 'campaign',\n",
       " 'pdays',\n",
       " 'previous',\n",
       " 'poutcome']"
      ]
     },
     "execution_count": 4,
     "metadata": {},
     "output_type": "execute_result"
    },
    {
     "data": {
      "text/html": [
       "<h4>alice's Output:</h4>"
      ]
     },
     "metadata": {},
     "output_type": "display_data"
    },
    {
     "data": {
      "text/plain": [
       "['age',\n",
       " 'job',\n",
       " 'marital',\n",
       " 'education',\n",
       " 'default',\n",
       " 'balance',\n",
       " 'housing',\n",
       " 'loan',\n",
       " 'contact',\n",
       " 'day',\n",
       " 'month',\n",
       " 'duration',\n",
       " 'campaign',\n",
       " 'pdays',\n",
       " 'previous',\n",
       " 'poutcome']"
      ]
     },
     "execution_count": 4,
     "metadata": {},
     "output_type": "execute_result"
    }
   ],
   "source": [
    "data.columns"
   ]
  },
  {
   "cell_type": "code",
   "execution_count": 5,
   "id": "19fad207-4b75-4349-aac8-700155164838",
   "metadata": {
    "execution": {
     "parties": "[\"alice\",\"bob\"]",
     "shell.execute_reply.end": "2024-08-08T05:31:29.696163Z",
     "shell.execute_reply.started": "2024-08-08T05:31:28.714978Z",
     "to_execute": "2024-08-08T05:31:22.770Z"
    },
    "libroFormatter": "formatter-string"
   },
   "outputs": [
    {
     "data": {
      "text/html": [
       "<h4>alice's Output:</h4>"
      ]
     },
     "metadata": {},
     "output_type": "display_data"
    },
    {
     "data": {
      "text/plain": [
       "['y']"
      ]
     },
     "execution_count": 5,
     "metadata": {},
     "output_type": "execute_result"
    },
    {
     "data": {
      "text/html": [
       "<h4>bob's Output:</h4>"
      ]
     },
     "metadata": {},
     "output_type": "display_data"
    },
    {
     "data": {
      "text/plain": [
       "['y']"
      ]
     },
     "execution_count": 5,
     "metadata": {},
     "output_type": "execute_result"
    }
   ],
   "source": [
    "label.columns"
   ]
  },
  {
   "cell_type": "code",
   "execution_count": 6,
   "id": "cafb2ef4-8f29-434d-9ee9-f8fc8c3e36ca",
   "metadata": {
    "execution": {
     "parties": "[\"alice\",\"bob\"]",
     "shell.execute_reply.end": "2024-08-08T05:31:32.353550Z",
     "shell.execute_reply.started": "2024-08-08T05:31:29.695494Z",
     "to_execute": "2024-08-08T05:31:22.770Z"
    },
    "libroFormatter": "formatter-string"
   },
   "outputs": [],
   "source": [
    "# from data descryptions we know we need to encode data\n",
    "from secretflow.preprocessing import LabelEncoder\n",
    "encoder = LabelEncoder()\n",
    "data['job'] = encoder.fit_transform(data['job'])\n",
    "data['marital'] = encoder.fit_transform(data['marital'])\n",
    "data['education'] = encoder.fit_transform(data['education'])\n",
    "data['default'] = encoder.fit_transform(data['default'])\n",
    "data['housing'] = encoder.fit_transform(data['housing'])\n",
    "data['loan'] = encoder.fit_transform(data['loan'])\n",
    "data['contact'] = encoder.fit_transform(data['contact'])\n",
    "data['poutcome'] = encoder.fit_transform(data['poutcome'])\n",
    "data['month'] = encoder.fit_transform(data['month'])\n",
    "label = encoder.fit_transform(label)\n"
   ]
  },
  {
   "cell_type": "code",
   "execution_count": 7,
   "id": "0ef8c0d3-708a-49fb-bcee-0a9fcf776b4e",
   "metadata": {
    "execution": {
     "parties": "[\"alice\",\"bob\"]",
     "shell.execute_reply.end": "2024-08-08T05:31:32.373696Z",
     "shell.execute_reply.started": "2024-08-08T05:31:32.353791Z",
     "to_execute": "2024-08-08T05:31:22.771Z"
    },
    "libroFormatter": "formatter-string"
   },
   "outputs": [],
   "source": [
    "from secretflow.data.split import train_test_split as train_test_split_fed\n"
   ]
  },
  {
   "cell_type": "code",
   "execution_count": 8,
   "id": "49c2ce37-89f6-4f73-a3c0-aedb5e02e280",
   "metadata": {
    "execution": {
     "parties": "[\"alice\",\"bob\"]",
     "shell.execute_reply.end": "2024-08-08T05:31:32.435578Z",
     "shell.execute_reply.started": "2024-08-08T05:31:32.373918Z",
     "to_execute": "2024-08-08T05:31:22.771Z"
    },
    "libroFormatter": "formatter-string"
   },
   "outputs": [],
   "source": [
    "X_train_fed, X_test_fed = train_test_split_fed(data, test_size=0.2, random_state=94)\n"
   ]
  },
  {
   "cell_type": "code",
   "execution_count": 9,
   "id": "2358c6ad-e84d-4983-8e3a-487677adb2f7",
   "metadata": {
    "execution": {
     "parties": "[\"alice\",\"bob\"]",
     "shell.execute_reply.end": "2024-08-08T05:31:32.465693Z",
     "shell.execute_reply.started": "2024-08-08T05:31:32.433710Z",
     "to_execute": "2024-08-08T05:31:22.771Z"
    },
    "libroFormatter": "formatter-string"
   },
   "outputs": [],
   "source": [
    "y_train_fed, y_test_fed = train_test_split_fed(label, test_size=0.2, random_state=94)"
   ]
  },
  {
   "cell_type": "code",
   "execution_count": 10,
   "id": "0b3d3a5d-628f-4497-91c7-574053441bdc",
   "metadata": {
    "execution": {
     "parties": "[\"alice\",\"bob\"]",
     "shell.execute_reply.end": "2024-08-08T05:31:32.473557Z",
     "shell.execute_reply.started": "2024-08-08T05:31:32.463932Z",
     "to_execute": "2024-08-08T05:31:22.771Z"
    },
    "libroFormatter": "formatter-string"
   },
   "outputs": [],
   "source": [
    "# from secretflow.ml.boost.sgb_v import (\n",
    "#     get_classic_XGB_params,\n",
    "#     Sgb,\n",
    "# )\n",
    "from secretflow.ml.boost.ss_xgb_v import Xgb"
   ]
  },
  {
   "cell_type": "code",
   "execution_count": 11,
   "id": "a02eb6d9-dc62-4a60-a151-443be82d2643",
   "metadata": {
    "execution": {
     "parties": "[\"alice\",\"bob\"]",
     "shell.execute_reply.end": "2024-08-08T05:32:32.582256Z",
     "shell.execute_reply.started": "2024-08-08T05:31:32.471397Z",
     "to_execute": "2024-08-08T05:31:22.771Z"
    },
    "libroFormatter": "formatter-string"
   },
   "outputs": [
    {
     "data": {
      "text/html": [
       "<h4>bob's Output:</h4>"
      ]
     },
     "metadata": {},
     "output_type": "display_data"
    },
    {
     "name": "stderr",
     "output_type": "stream",
     "text": [
      "2024-08-08 05:31:33.215 INFO proxy.py:180 [bob] -- [Anonymous_job] Create proxy actor <class 'secretflow.ml.boost.ss_xgb_v.core.tree_worker.XgbTreeWorker'> with party alice.\n",
      "2024-08-08 05:31:33.216 INFO proxy.py:180 [bob] -- [Anonymous_job] Create proxy actor <class 'secretflow.ml.boost.ss_xgb_v.core.tree_worker.XgbTreeWorker'> with party bob.\n",
      "2024-08-08 05:31:33.242 INFO booster.py:167 [bob] -- [Anonymous_job] fragment_count 1\n",
      "2024-08-08 05:31:33.307 INFO booster.py:185 [bob] -- [Anonymous_job] prepare time 0.8302707672119141s\n",
      "2024-08-08 05:31:34.283 INFO booster.py:198 [bob] -- [Anonymous_job] global_setup time 0.9754617214202881s\n",
      "2024-08-08 05:31:34.721 INFO booster.py:217 [bob] -- [Anonymous_job] build & infeed bucket_map fragments [0, 0]\n",
      "2024-08-08 05:31:34.722 INFO booster.py:220 [bob] -- [Anonymous_job] build & infeed bucket_map time 0.4381988048553467s\n",
      "2024-08-08 05:31:34.756 INFO booster.py:233 [bob] -- [Anonymous_job] init_pred time 0.03279685974121094s\n",
      "2024-08-08 05:31:34.855 INFO booster.py:375 [bob] -- [Anonymous_job] epoch 0 tree_setup time 0.09793663024902344s\n",
      "2024-08-08 05:31:35.241 INFO booster.py:426 [bob] -- [Anonymous_job] fragment[0, 0] gradient sum time 0.38489651679992676s\n",
      "2024-08-08 05:31:35.510 INFO booster.py:486 [bob] -- [Anonymous_job] level 0 time 0.6537356376647949s\n",
      "2024-08-08 05:31:36.066 INFO booster.py:426 [bob] -- [Anonymous_job] fragment[0, 0] gradient sum time 0.5546150207519531s\n",
      "2024-08-08 05:31:36.304 INFO booster.py:486 [bob] -- [Anonymous_job] level 1 time 0.7932136058807373s\n",
      "2024-08-08 05:31:37.358 INFO booster.py:426 [bob] -- [Anonymous_job] fragment[0, 0] gradient sum time 1.053623914718628s\n",
      "2024-08-08 05:31:37.677 INFO booster.py:486 [bob] -- [Anonymous_job] level 2 time 1.3717460632324219s\n",
      "2024-08-08 05:31:39.772 INFO booster.py:426 [bob] -- [Anonymous_job] fragment[0, 0] gradient sum time 2.094686508178711s\n",
      "2024-08-08 05:31:40.150 INFO booster.py:486 [bob] -- [Anonymous_job] level 3 time 2.472998857498169s\n",
      "2024-08-08 05:31:44.348 INFO booster.py:426 [bob] -- [Anonymous_job] fragment[0, 0] gradient sum time 4.196908950805664s\n",
      "2024-08-08 05:31:44.808 INFO booster.py:486 [bob] -- [Anonymous_job] level 4 time 4.657014846801758s\n",
      "2024-08-08 05:31:44.924 INFO xla_bridge.py:863 [bob] -- [Anonymous_job] Unable to initialize backend 'cuda': \n",
      "2024-08-08 05:31:44.925 INFO xla_bridge.py:863 [bob] -- [Anonymous_job] Unable to initialize backend 'rocm': module 'jaxlib.xla_extension' has no attribute 'GpuAllocatorConfig'\n",
      "2024-08-08 05:31:44.927 INFO xla_bridge.py:863 [bob] -- [Anonymous_job] Unable to initialize backend 'tpu': INTERNAL: Failed to open libtpu.so: libtpu.so: cannot open shared object file: No such file or directory\n",
      "2024-08-08 05:31:44.946 WARNING callback.py:455 [bob] -- [Anonymous_job] no effective dump_function provided.\n",
      "2024-08-08 05:31:45.284 INFO booster.py:392 [bob] -- [Anonymous_job] epoch 0 time 10.429031133651733s\n",
      "2024-08-08 05:31:45.654 INFO booster.py:375 [bob] -- [Anonymous_job] epoch 1 tree_setup time 0.368715763092041s\n",
      "2024-08-08 05:31:46.208 INFO booster.py:426 [bob] -- [Anonymous_job] fragment[0, 0] gradient sum time 0.5521531105041504s\n",
      "2024-08-08 05:31:46.438 INFO booster.py:486 [bob] -- [Anonymous_job] level 0 time 0.7829713821411133s\n",
      "2024-08-08 05:31:47.044 INFO booster.py:426 [bob] -- [Anonymous_job] fragment[0, 0] gradient sum time 0.6049191951751709s\n",
      "2024-08-08 05:31:47.295 INFO booster.py:486 [bob] -- [Anonymous_job] level 1 time 0.8554325103759766s\n",
      "2024-08-08 05:31:48.515 INFO booster.py:426 [bob] -- [Anonymous_job] fragment[0, 0] gradient sum time 1.2197885513305664s\n",
      "2024-08-08 05:31:48.853 INFO booster.py:486 [bob] -- [Anonymous_job] level 2 time 1.5573577880859375s\n",
      "2024-08-08 05:31:51.178 INFO booster.py:426 [bob] -- [Anonymous_job] fragment[0, 0] gradient sum time 2.323911666870117s\n",
      "2024-08-08 05:31:51.592 INFO booster.py:486 [bob] -- [Anonymous_job] level 3 time 2.738801956176758s\n",
      "2024-08-08 05:31:56.189 INFO booster.py:426 [bob] -- [Anonymous_job] fragment[0, 0] gradient sum time 4.595849990844727s\n",
      "2024-08-08 05:31:56.715 INFO booster.py:486 [bob] -- [Anonymous_job] level 4 time 5.121032476425171s\n",
      "2024-08-08 05:31:56.901 WARNING callback.py:455 [bob] -- [Anonymous_job] no effective dump_function provided.\n",
      "2024-08-08 05:31:57.244 INFO booster.py:392 [bob] -- [Anonymous_job] epoch 1 time 11.590179920196533s\n",
      "2024-08-08 05:31:57.641 INFO booster.py:375 [bob] -- [Anonymous_job] epoch 2 tree_setup time 0.396165132522583s\n",
      "2024-08-08 05:31:58.243 INFO booster.py:426 [bob] -- [Anonymous_job] fragment[0, 0] gradient sum time 0.599933385848999s\n",
      "2024-08-08 05:31:58.499 INFO booster.py:486 [bob] -- [Anonymous_job] level 0 time 0.855799674987793s\n",
      "2024-08-08 05:31:59.114 INFO booster.py:426 [bob] -- [Anonymous_job] fragment[0, 0] gradient sum time 0.6138646602630615s\n",
      "2024-08-08 05:31:59.362 INFO booster.py:486 [bob] -- [Anonymous_job] level 1 time 0.8618998527526855s\n",
      "2024-08-08 05:32:00.510 INFO booster.py:426 [bob] -- [Anonymous_job] fragment[0, 0] gradient sum time 1.1477065086364746s\n",
      "2024-08-08 05:32:00.784 INFO booster.py:486 [bob] -- [Anonymous_job] level 2 time 1.4215879440307617s\n",
      "2024-08-08 05:32:03.078 INFO booster.py:426 [bob] -- [Anonymous_job] fragment[0, 0] gradient sum time 2.2932326793670654s\n",
      "2024-08-08 05:32:03.426 INFO booster.py:486 [bob] -- [Anonymous_job] level 3 time 2.640528678894043s\n",
      "2024-08-08 05:32:08.152 INFO booster.py:426 [bob] -- [Anonymous_job] fragment[0, 0] gradient sum time 4.725056409835815s\n",
      "2024-08-08 05:32:08.645 INFO booster.py:486 [bob] -- [Anonymous_job] level 4 time 5.2185750007629395s\n",
      "2024-08-08 05:32:08.818 WARNING callback.py:455 [bob] -- [Anonymous_job] no effective dump_function provided.\n",
      "2024-08-08 05:32:09.167 INFO booster.py:392 [bob] -- [Anonymous_job] epoch 2 time 11.525235414505005s\n",
      "2024-08-08 05:32:09.582 INFO booster.py:375 [bob] -- [Anonymous_job] epoch 3 tree_setup time 0.413987398147583s\n",
      "2024-08-08 05:32:10.197 INFO booster.py:426 [bob] -- [Anonymous_job] fragment[0, 0] gradient sum time 0.613532304763794s\n",
      "2024-08-08 05:32:10.429 INFO booster.py:486 [bob] -- [Anonymous_job] level 0 time 0.8452060222625732s\n",
      "2024-08-08 05:32:11.022 INFO booster.py:426 [bob] -- [Anonymous_job] fragment[0, 0] gradient sum time 0.5924859046936035s\n",
      "2024-08-08 05:32:11.285 INFO booster.py:486 [bob] -- [Anonymous_job] level 1 time 0.8549153804779053s\n",
      "2024-08-08 05:32:12.452 INFO booster.py:426 [bob] -- [Anonymous_job] fragment[0, 0] gradient sum time 1.1656904220581055s\n",
      "2024-08-08 05:32:12.732 INFO booster.py:486 [bob] -- [Anonymous_job] level 2 time 1.4463679790496826s\n",
      "2024-08-08 05:32:15.003 INFO booster.py:426 [bob] -- [Anonymous_job] fragment[0, 0] gradient sum time 2.269559144973755s\n",
      "2024-08-08 05:32:15.379 INFO booster.py:486 [bob] -- [Anonymous_job] level 3 time 2.646371603012085s\n",
      "2024-08-08 05:32:20.089 INFO booster.py:426 [bob] -- [Anonymous_job] fragment[0, 0] gradient sum time 4.708207845687866s\n",
      "2024-08-08 05:32:20.612 INFO booster.py:486 [bob] -- [Anonymous_job] level 4 time 5.231576204299927s\n",
      "2024-08-08 05:32:20.780 WARNING callback.py:455 [bob] -- [Anonymous_job] no effective dump_function provided.\n",
      "2024-08-08 05:32:21.119 INFO booster.py:392 [bob] -- [Anonymous_job] epoch 3 time 11.53650188446045s\n",
      "2024-08-08 05:32:21.515 INFO booster.py:375 [bob] -- [Anonymous_job] epoch 4 tree_setup time 0.39481449127197266s\n",
      "2024-08-08 05:32:22.061 INFO booster.py:426 [bob] -- [Anonymous_job] fragment[0, 0] gradient sum time 0.5442702770233154s\n",
      "2024-08-08 05:32:22.310 INFO booster.py:486 [bob] -- [Anonymous_job] level 0 time 0.7931795120239258s\n",
      "2024-08-08 05:32:22.961 INFO booster.py:426 [bob] -- [Anonymous_job] fragment[0, 0] gradient sum time 0.6503469944000244s\n",
      "2024-08-08 05:32:23.217 INFO booster.py:486 [bob] -- [Anonymous_job] level 1 time 0.9059224128723145s\n",
      "2024-08-08 05:32:24.400 INFO booster.py:426 [bob] -- [Anonymous_job] fragment[0, 0] gradient sum time 1.18184494972229s\n",
      "2024-08-08 05:32:24.687 INFO booster.py:486 [bob] -- [Anonymous_job] level 2 time 1.4694085121154785s\n",
      "2024-08-08 05:32:26.950 INFO booster.py:426 [bob] -- [Anonymous_job] fragment[0, 0] gradient sum time 2.2624471187591553s\n",
      "2024-08-08 05:32:27.316 INFO booster.py:486 [bob] -- [Anonymous_job] level 3 time 2.627761125564575s\n",
      "2024-08-08 05:32:31.749 INFO booster.py:426 [bob] -- [Anonymous_job] fragment[0, 0] gradient sum time 4.431873798370361s\n",
      "2024-08-08 05:32:32.328 INFO booster.py:486 [bob] -- [Anonymous_job] level 4 time 5.011181831359863s\n",
      "2024-08-08 05:32:32.511 WARNING callback.py:455 [bob] -- [Anonymous_job] no effective dump_function provided.\n",
      "2024-08-08 05:32:32.576 INFO booster.py:392 [bob] -- [Anonymous_job] epoch 4 time 11.060901403427124s\n"
     ]
    },
    {
     "data": {
      "text/html": [
       "<h4>alice's Output:</h4>"
      ]
     },
     "metadata": {},
     "output_type": "display_data"
    },
    {
     "name": "stderr",
     "output_type": "stream",
     "text": [
      "2024-08-08 05:31:33.214 INFO proxy.py:180 [alice] -- [Anonymous_job] Create proxy actor <class 'secretflow.ml.boost.ss_xgb_v.core.tree_worker.XgbTreeWorker'> with party alice.\n",
      "2024-08-08 05:31:33.240 INFO proxy.py:180 [alice] -- [Anonymous_job] Create proxy actor <class 'secretflow.ml.boost.ss_xgb_v.core.tree_worker.XgbTreeWorker'> with party bob.\n",
      "2024-08-08 05:31:33.241 INFO booster.py:167 [alice] -- [Anonymous_job] fragment_count 1\n",
      "2024-08-08 05:31:33.310 INFO booster.py:185 [alice] -- [Anonymous_job] prepare time 0.8378827571868896s\n",
      "2024-08-08 05:31:34.283 INFO booster.py:198 [alice] -- [Anonymous_job] global_setup time 0.9708831310272217s\n",
      "2024-08-08 05:31:34.724 INFO booster.py:217 [alice] -- [Anonymous_job] build & infeed bucket_map fragments [0, 0]\n",
      "2024-08-08 05:31:34.724 INFO booster.py:220 [alice] -- [Anonymous_job] build & infeed bucket_map time 0.4411287307739258s\n",
      "2024-08-08 05:31:34.758 INFO booster.py:233 [alice] -- [Anonymous_job] init_pred time 0.033274173736572266s\n",
      "2024-08-08 05:31:34.857 INFO booster.py:375 [alice] -- [Anonymous_job] epoch 0 tree_setup time 0.09712386131286621s\n",
      "2024-08-08 05:31:35.245 INFO booster.py:426 [alice] -- [Anonymous_job] fragment[0, 0] gradient sum time 0.38342952728271484s\n",
      "2024-08-08 05:31:35.513 INFO booster.py:486 [alice] -- [Anonymous_job] level 0 time 0.6516423225402832s\n",
      "2024-08-08 05:31:36.069 INFO booster.py:426 [alice] -- [Anonymous_job] fragment[0, 0] gradient sum time 0.5552067756652832s\n",
      "2024-08-08 05:31:36.306 INFO booster.py:486 [alice] -- [Anonymous_job] level 1 time 0.7930121421813965s\n",
      "2024-08-08 05:31:37.361 INFO booster.py:426 [alice] -- [Anonymous_job] fragment[0, 0] gradient sum time 1.0541691780090332s\n",
      "2024-08-08 05:31:37.679 INFO booster.py:486 [alice] -- [Anonymous_job] level 2 time 1.3719298839569092s\n",
      "2024-08-08 05:31:39.776 INFO booster.py:426 [alice] -- [Anonymous_job] fragment[0, 0] gradient sum time 2.095853090286255s\n",
      "2024-08-08 05:31:40.152 INFO booster.py:486 [alice] -- [Anonymous_job] level 3 time 2.4727509021759033s\n",
      "2024-08-08 05:31:44.351 INFO booster.py:426 [alice] -- [Anonymous_job] fragment[0, 0] gradient sum time 4.197945594787598s\n",
      "2024-08-08 05:31:44.811 INFO booster.py:486 [alice] -- [Anonymous_job] level 4 time 4.657940626144409s\n",
      "2024-08-08 05:31:44.926 INFO xla_bridge.py:863 [alice] -- [Anonymous_job] Unable to initialize backend 'cuda': \n",
      "2024-08-08 05:31:44.927 INFO xla_bridge.py:863 [alice] -- [Anonymous_job] Unable to initialize backend 'rocm': module 'jaxlib.xla_extension' has no attribute 'GpuAllocatorConfig'\n",
      "2024-08-08 05:31:44.929 INFO xla_bridge.py:863 [alice] -- [Anonymous_job] Unable to initialize backend 'tpu': INTERNAL: Failed to open libtpu.so: libtpu.so: cannot open shared object file: No such file or directory\n",
      "2024-08-08 05:31:44.949 WARNING callback.py:455 [alice] -- [Anonymous_job] no effective dump_function provided.\n",
      "2024-08-08 05:31:45.286 INFO booster.py:392 [alice] -- [Anonymous_job] epoch 0 time 10.428872108459473s\n",
      "2024-08-08 05:31:45.656 INFO booster.py:375 [alice] -- [Anonymous_job] epoch 1 tree_setup time 0.3686392307281494s\n",
      "2024-08-08 05:31:46.212 INFO booster.py:426 [alice] -- [Anonymous_job] fragment[0, 0] gradient sum time 0.5519106388092041s\n",
      "2024-08-08 05:31:46.441 INFO booster.py:486 [alice] -- [Anonymous_job] level 0 time 0.7809104919433594s\n",
      "2024-08-08 05:31:47.047 INFO booster.py:426 [alice] -- [Anonymous_job] fragment[0, 0] gradient sum time 0.6052150726318359s\n",
      "2024-08-08 05:31:47.298 INFO booster.py:486 [alice] -- [Anonymous_job] level 1 time 0.8557891845703125s\n",
      "2024-08-08 05:31:48.519 INFO booster.py:426 [alice] -- [Anonymous_job] fragment[0, 0] gradient sum time 1.2203052043914795s\n",
      "2024-08-08 05:31:48.856 INFO booster.py:486 [alice] -- [Anonymous_job] level 2 time 1.557469367980957s\n",
      "2024-08-08 05:31:51.181 INFO booster.py:426 [alice] -- [Anonymous_job] fragment[0, 0] gradient sum time 2.3239376544952393s\n",
      "2024-08-08 05:31:51.596 INFO booster.py:486 [alice] -- [Anonymous_job] level 3 time 2.73958158493042s\n",
      "2024-08-08 05:31:56.193 INFO booster.py:426 [alice] -- [Anonymous_job] fragment[0, 0] gradient sum time 4.595391273498535s\n",
      "2024-08-08 05:31:56.718 INFO booster.py:486 [alice] -- [Anonymous_job] level 4 time 5.12062931060791s\n",
      "2024-08-08 05:31:56.905 WARNING callback.py:455 [alice] -- [Anonymous_job] no effective dump_function provided.\n",
      "2024-08-08 05:31:57.247 INFO booster.py:392 [alice] -- [Anonymous_job] epoch 1 time 11.590062379837036s\n",
      "2024-08-08 05:31:57.644 INFO booster.py:375 [alice] -- [Anonymous_job] epoch 2 tree_setup time 0.3959367275238037s\n",
      "2024-08-08 05:31:58.246 INFO booster.py:426 [alice] -- [Anonymous_job] fragment[0, 0] gradient sum time 0.5984981060028076s\n",
      "2024-08-08 05:31:58.502 INFO booster.py:486 [alice] -- [Anonymous_job] level 0 time 0.8542611598968506s\n",
      "2024-08-08 05:31:59.117 INFO booster.py:426 [alice] -- [Anonymous_job] fragment[0, 0] gradient sum time 0.6144373416900635s\n",
      "2024-08-08 05:31:59.364 INFO booster.py:486 [alice] -- [Anonymous_job] level 1 time 0.8617210388183594s\n",
      "2024-08-08 05:32:00.513 INFO booster.py:426 [alice] -- [Anonymous_job] fragment[0, 0] gradient sum time 1.1479458808898926s\n",
      "2024-08-08 05:32:00.787 INFO booster.py:486 [alice] -- [Anonymous_job] level 2 time 1.4216797351837158s\n",
      "2024-08-08 05:32:03.082 INFO booster.py:426 [alice] -- [Anonymous_job] fragment[0, 0] gradient sum time 2.2941038608551025s\n",
      "2024-08-08 05:32:03.428 INFO booster.py:486 [alice] -- [Anonymous_job] level 3 time 2.640641927719116s\n",
      "2024-08-08 05:32:08.155 INFO booster.py:426 [alice] -- [Anonymous_job] fragment[0, 0] gradient sum time 4.72596287727356s\n",
      "2024-08-08 05:32:08.648 INFO booster.py:486 [alice] -- [Anonymous_job] level 4 time 5.218623638153076s\n",
      "2024-08-08 05:32:08.823 WARNING callback.py:455 [alice] -- [Anonymous_job] no effective dump_function provided.\n",
      "2024-08-08 05:32:09.170 INFO booster.py:392 [alice] -- [Anonymous_job] epoch 2 time 11.525871753692627s\n",
      "2024-08-08 05:32:09.584 INFO booster.py:375 [alice] -- [Anonymous_job] epoch 3 tree_setup time 0.4130890369415283s\n",
      "2024-08-08 05:32:10.201 INFO booster.py:426 [alice] -- [Anonymous_job] fragment[0, 0] gradient sum time 0.613201379776001s\n",
      "2024-08-08 05:32:10.432 INFO booster.py:486 [alice] -- [Anonymous_job] level 0 time 0.8440353870391846s\n",
      "2024-08-08 05:32:11.026 INFO booster.py:426 [alice] -- [Anonymous_job] fragment[0, 0] gradient sum time 0.5923130512237549s\n",
      "2024-08-08 05:32:11.288 INFO booster.py:486 [alice] -- [Anonymous_job] level 1 time 0.8541898727416992s\n",
      "2024-08-08 05:32:12.454 INFO booster.py:426 [alice] -- [Anonymous_job] fragment[0, 0] gradient sum time 1.166104793548584s\n",
      "2024-08-08 05:32:12.735 INFO booster.py:486 [alice] -- [Anonymous_job] level 2 time 1.4464986324310303s\n",
      "2024-08-08 05:32:15.005 INFO booster.py:426 [alice] -- [Anonymous_job] fragment[0, 0] gradient sum time 2.269695520401001s\n",
      "2024-08-08 05:32:15.382 INFO booster.py:486 [alice] -- [Anonymous_job] level 3 time 2.6467905044555664s\n",
      "2024-08-08 05:32:20.092 INFO booster.py:426 [alice] -- [Anonymous_job] fragment[0, 0] gradient sum time 4.70814323425293s\n",
      "2024-08-08 05:32:20.615 INFO booster.py:486 [alice] -- [Anonymous_job] level 4 time 5.2317116260528564s\n",
      "2024-08-08 05:32:20.785 WARNING callback.py:455 [alice] -- [Anonymous_job] no effective dump_function provided.\n",
      "2024-08-08 05:32:21.121 INFO booster.py:392 [alice] -- [Anonymous_job] epoch 3 time 11.536596536636353s\n",
      "2024-08-08 05:32:21.517 INFO booster.py:375 [alice] -- [Anonymous_job] epoch 4 tree_setup time 0.39461755752563477s\n",
      "2024-08-08 05:32:22.065 INFO booster.py:426 [alice] -- [Anonymous_job] fragment[0, 0] gradient sum time 0.5439214706420898s\n",
      "2024-08-08 05:32:22.312 INFO booster.py:486 [alice] -- [Anonymous_job] level 0 time 0.7911553382873535s\n",
      "2024-08-08 05:32:22.964 INFO booster.py:426 [alice] -- [Anonymous_job] fragment[0, 0] gradient sum time 0.6510336399078369s\n",
      "2024-08-08 05:32:23.220 INFO booster.py:486 [alice] -- [Anonymous_job] level 1 time 0.906843900680542s\n",
      "2024-08-08 05:32:24.402 INFO booster.py:426 [alice] -- [Anonymous_job] fragment[0, 0] gradient sum time 1.1815423965454102s\n",
      "2024-08-08 05:32:24.691 INFO booster.py:486 [alice] -- [Anonymous_job] level 2 time 1.4696018695831299s\n",
      "2024-08-08 05:32:26.954 INFO booster.py:426 [alice] -- [Anonymous_job] fragment[0, 0] gradient sum time 2.262643337249756s\n",
      "2024-08-08 05:32:27.318 INFO booster.py:486 [alice] -- [Anonymous_job] level 3 time 2.626477003097534s\n",
      "2024-08-08 05:32:31.753 INFO booster.py:426 [alice] -- [Anonymous_job] fragment[0, 0] gradient sum time 4.434388637542725s\n",
      "2024-08-08 05:32:32.332 INFO booster.py:486 [alice] -- [Anonymous_job] level 4 time 5.013033866882324s\n",
      "2024-08-08 05:32:32.516 WARNING callback.py:455 [alice] -- [Anonymous_job] no effective dump_function provided.\n",
      "2024-08-08 05:32:32.579 INFO booster.py:392 [alice] -- [Anonymous_job] epoch 4 time 11.06065845489502s\n"
     ]
    }
   ],
   "source": [
    "xgb=Xgb(spu_device)\n",
    "params = {\n",
    "    # for more detail, see Xgb API doc\n",
    "    'num_boost_round': 5,\n",
    "    'max_depth': 5,\n",
    "    'learning_rate': 0.1,\n",
    "    'sketch_eps': 0.08,\n",
    "    'objective': 'logistic',\n",
    "    'reg_lambda': 0.1,\n",
    "    'subsample': 1,\n",
    "    'colsample_by_tree': 1,\n",
    "    'base_score': 0.5,\n",
    "}\n",
    "model = xgb.train(params, X_train_fed, y_train_fed)"
   ]
  },
  {
   "cell_type": "code",
   "execution_count": 12,
   "id": "1df667b6-73c6-4d0a-b006-ecad1f6dc90c",
   "metadata": {
    "execution": {
     "parties": "[\"alice\",\"bob\"]",
     "shell.execute_reply.end": "2024-08-08T05:32:39.224569Z",
     "shell.execute_reply.started": "2024-08-08T05:32:32.582573Z",
     "to_execute": "2024-08-08T05:31:22.771Z"
    },
    "libroFormatter": "formatter-string"
   },
   "outputs": [
    {
     "data": {
      "text/html": [
       "<h4>alice's Output:</h4>"
      ]
     },
     "metadata": {},
     "output_type": "display_data"
    },
    {
     "name": "stderr",
     "output_type": "stream",
     "text": [
      "2024-08-08 05:32:32.615 INFO proxy.py:180 [alice] -- [Anonymous_job] Create proxy actor <class 'secretflow.ml.boost.ss_xgb_v.core.tree_worker.XgbTreeWorker'> with party alice.\n",
      "2024-08-08 05:32:32.656 INFO proxy.py:180 [alice] -- [Anonymous_job] Create proxy actor <class 'secretflow.ml.boost.ss_xgb_v.core.tree_worker.XgbTreeWorker'> with party bob.\n",
      "2024-08-08 05:32:37.381 INFO proxy.py:180 [alice] -- [Anonymous_job] Create proxy actor <class 'secretflow.ml.boost.ss_xgb_v.core.tree_worker.XgbTreeWorker'> with party alice.\n",
      "2024-08-08 05:32:37.412 INFO proxy.py:180 [alice] -- [Anonymous_job] Create proxy actor <class 'secretflow.ml.boost.ss_xgb_v.core.tree_worker.XgbTreeWorker'> with party bob.\n"
     ]
    },
    {
     "name": "stdout",
     "output_type": "stream",
     "text": [
      "train set AUC score:  0.9026768922703838 test set AUC score:  0.892436806298487\n"
     ]
    },
    {
     "data": {
      "text/html": [
       "<h4>bob's Output:</h4>"
      ]
     },
     "metadata": {},
     "output_type": "display_data"
    },
    {
     "name": "stderr",
     "output_type": "stream",
     "text": [
      "2024-08-08 05:32:32.611 INFO proxy.py:180 [bob] -- [Anonymous_job] Create proxy actor <class 'secretflow.ml.boost.ss_xgb_v.core.tree_worker.XgbTreeWorker'> with party alice.\n",
      "2024-08-08 05:32:32.613 INFO proxy.py:180 [bob] -- [Anonymous_job] Create proxy actor <class 'secretflow.ml.boost.ss_xgb_v.core.tree_worker.XgbTreeWorker'> with party bob.\n",
      "2024-08-08 05:32:37.379 INFO proxy.py:180 [bob] -- [Anonymous_job] Create proxy actor <class 'secretflow.ml.boost.ss_xgb_v.core.tree_worker.XgbTreeWorker'> with party alice.\n",
      "2024-08-08 05:32:37.380 INFO proxy.py:180 [bob] -- [Anonymous_job] Create proxy actor <class 'secretflow.ml.boost.ss_xgb_v.core.tree_worker.XgbTreeWorker'> with party bob.\n"
     ]
    },
    {
     "name": "stdout",
     "output_type": "stream",
     "text": [
      "train set AUC score:  0.9026768922703838 test set AUC score:  0.892436806298487\n"
     ]
    }
   ],
   "source": [
    "from secretflow.device.driver import reveal\n",
    "from sklearn.metrics import roc_auc_score\n",
    "\n",
    "# we reveal and look at the evaluation score in cleartext, but there are safer alternatives\n",
    "\n",
    "print(\n",
    "    \"train set AUC score: \",\n",
    "    roc_auc_score(reveal(y_train_fed.partitions[alice].data), reveal(model.predict(X_train_fed))),\n",
    "    \"test set AUC score: \",\n",
    "    roc_auc_score(reveal(y_test_fed.partitions[alice].data), reveal(model.predict(X_test_fed))),\n",
    ")"
   ]
  },
  {
   "cell_type": "code",
   "execution_count": 13,
   "id": "fbcaecb4-f299-43ce-90da-d7dad8aea2a4",
   "metadata": {
    "execution": {
     "parties": "[\"alice\",\"bob\"]",
     "shell.execute_reply.end": "2024-08-08T05:32:39.231155Z",
     "shell.execute_reply.started": "2024-08-08T05:32:39.222851Z",
     "to_execute": "2024-08-08T05:31:22.771Z"
    },
    "libroFormatter": "formatter-string"
   },
   "outputs": [
    {
     "data": {
      "text/html": [
       "<h4>bob's Output:</h4>"
      ]
     },
     "metadata": {},
     "output_type": "display_data"
    },
    {
     "data": {
      "text/plain": [
       "71.79309329799435"
      ]
     },
     "execution_count": 13,
     "metadata": {},
     "output_type": "execute_result"
    },
    {
     "data": {
      "text/html": [
       "<h4>alice's Output:</h4>"
      ]
     },
     "metadata": {},
     "output_type": "display_data"
    },
    {
     "data": {
      "text/plain": [
       "72.33220342900313"
      ]
     },
     "execution_count": 13,
     "metadata": {},
     "output_type": "execute_result"
    }
   ],
   "source": [
    "time_elapse = time.perf_counter() - start\n",
    "time_elapse"
   ]
  },
  {
   "cell_type": "markdown",
   "id": "c3a7831f-74a0-4122-a6d0-e73d6a2c014c",
   "metadata": {
    "libroCellType": "markdown",
    "libroFormatter": "formatter-string"
   },
   "source": [
    "# 更改特征分布，alice有15个，bob只有1个"
   ]
  },
  {
   "cell_type": "code",
   "execution_count": 14,
   "id": "c6bf9831-02af-4579-a70f-aec3553088d3",
   "metadata": {
    "execution": {
     "parties": "[\"alice\",\"bob\"]",
     "shell.execute_reply.end": "2024-08-08T05:33:44.844976Z",
     "shell.execute_reply.started": "2024-08-08T05:32:39.231426Z",
     "to_execute": "2024-08-08T05:31:22.771Z"
    },
    "libroFormatter": "formatter-string"
   },
   "outputs": [
    {
     "data": {
      "text/html": [
       "<h4>bob's Output:</h4>"
      ]
     },
     "metadata": {},
     "output_type": "display_data"
    },
    {
     "name": "stderr",
     "output_type": "stream",
     "text": [
      "2024-08-08 05:32:39.235 INFO proxy.py:180 [bob] -- [Anonymous_job] Create proxy actor <class 'secretflow.data.core.agent.PartitionAgent'> with party alice.\n",
      "2024-08-08 05:32:39.237 INFO proxy.py:180 [bob] -- [Anonymous_job] Create proxy actor <class 'secretflow.data.core.agent.PartitionAgent'> with party bob.\n",
      "2024-08-08 05:32:40.671 WARNING partition.py:53 [bob] -- [Anonymous_job] To create a Partitoin, we suggest to use function source.\n",
      "2024-08-08 05:32:40.672 INFO proxy.py:180 [bob] -- [Anonymous_job] Create proxy actor <class 'secretflow.data.core.agent.PartitionAgent'> with party alice.\n",
      "2024-08-08 05:32:42.053 INFO proxy.py:180 [bob] -- [Anonymous_job] Create proxy actor <class 'secretflow.ml.boost.ss_xgb_v.core.tree_worker.XgbTreeWorker'> with party alice.\n",
      "2024-08-08 05:32:42.054 INFO proxy.py:180 [bob] -- [Anonymous_job] Create proxy actor <class 'secretflow.ml.boost.ss_xgb_v.core.tree_worker.XgbTreeWorker'> with party bob.\n",
      "2024-08-08 05:32:42.084 INFO booster.py:167 [bob] -- [Anonymous_job] fragment_count 1\n",
      "2024-08-08 05:32:42.148 INFO booster.py:185 [bob] -- [Anonymous_job] prepare time 0.133591890335083s\n",
      "2024-08-08 05:32:43.536 INFO booster.py:198 [bob] -- [Anonymous_job] global_setup time 1.3877015113830566s\n",
      "2024-08-08 05:32:44.147 INFO booster.py:217 [bob] -- [Anonymous_job] build & infeed bucket_map fragments [0, 0]\n",
      "2024-08-08 05:32:44.147 INFO booster.py:220 [bob] -- [Anonymous_job] build & infeed bucket_map time 0.6099488735198975s\n",
      "2024-08-08 05:32:44.180 INFO booster.py:233 [bob] -- [Anonymous_job] init_pred time 0.03196978569030762s\n",
      "2024-08-08 05:32:44.273 INFO booster.py:375 [bob] -- [Anonymous_job] epoch 0 tree_setup time 0.09230446815490723s\n",
      "2024-08-08 05:32:44.648 INFO booster.py:426 [bob] -- [Anonymous_job] fragment[0, 0] gradient sum time 0.3726234436035156s\n",
      "2024-08-08 05:32:44.964 INFO booster.py:486 [bob] -- [Anonymous_job] level 0 time 0.6891200542449951s\n",
      "2024-08-08 05:32:45.603 INFO booster.py:426 [bob] -- [Anonymous_job] fragment[0, 0] gradient sum time 0.6378946304321289s\n",
      "2024-08-08 05:32:45.889 INFO booster.py:486 [bob] -- [Anonymous_job] level 1 time 0.9242022037506104s\n",
      "2024-08-08 05:32:47.097 INFO booster.py:426 [bob] -- [Anonymous_job] fragment[0, 0] gradient sum time 1.2072105407714844s\n",
      "2024-08-08 05:32:47.454 INFO booster.py:486 [bob] -- [Anonymous_job] level 2 time 1.5646250247955322s\n",
      "2024-08-08 05:32:50.044 INFO booster.py:426 [bob] -- [Anonymous_job] fragment[0, 0] gradient sum time 2.588568687438965s\n",
      "2024-08-08 05:32:50.617 INFO booster.py:486 [bob] -- [Anonymous_job] level 3 time 3.1612932682037354s\n",
      "2024-08-08 05:32:55.362 INFO booster.py:426 [bob] -- [Anonymous_job] fragment[0, 0] gradient sum time 4.7444000244140625s\n",
      "2024-08-08 05:32:55.916 INFO booster.py:486 [bob] -- [Anonymous_job] level 4 time 5.2983787059783936s\n",
      "2024-08-08 05:32:56.065 WARNING callback.py:455 [bob] -- [Anonymous_job] no effective dump_function provided.\n",
      "2024-08-08 05:32:56.495 INFO booster.py:392 [bob] -- [Anonymous_job] epoch 0 time 12.221033573150635s\n",
      "2024-08-08 05:32:56.911 INFO booster.py:375 [bob] -- [Anonymous_job] epoch 1 tree_setup time 0.4150846004486084s\n",
      "2024-08-08 05:32:57.551 INFO booster.py:426 [bob] -- [Anonymous_job] fragment[0, 0] gradient sum time 0.6385273933410645s\n",
      "2024-08-08 05:32:57.835 INFO booster.py:486 [bob] -- [Anonymous_job] level 0 time 0.9225871562957764s\n",
      "2024-08-08 05:32:58.453 INFO booster.py:426 [bob] -- [Anonymous_job] fragment[0, 0] gradient sum time 0.6170423030853271s\n",
      "2024-08-08 05:32:58.730 INFO booster.py:486 [bob] -- [Anonymous_job] level 1 time 0.8940529823303223s\n",
      "2024-08-08 05:32:59.921 INFO booster.py:426 [bob] -- [Anonymous_job] fragment[0, 0] gradient sum time 1.1903572082519531s\n",
      "2024-08-08 05:33:00.240 INFO booster.py:486 [bob] -- [Anonymous_job] level 2 time 1.5094075202941895s\n",
      "2024-08-08 05:33:02.651 INFO booster.py:426 [bob] -- [Anonymous_job] fragment[0, 0] gradient sum time 2.410207509994507s\n",
      "2024-08-08 05:33:03.065 INFO booster.py:486 [bob] -- [Anonymous_job] level 3 time 2.824235677719116s\n",
      "2024-08-08 05:33:07.713 INFO booster.py:426 [bob] -- [Anonymous_job] fragment[0, 0] gradient sum time 4.647206783294678s\n",
      "2024-08-08 05:33:08.245 INFO booster.py:486 [bob] -- [Anonymous_job] level 4 time 5.178945779800415s\n",
      "2024-08-08 05:33:08.414 WARNING callback.py:455 [bob] -- [Anonymous_job] no effective dump_function provided.\n",
      "2024-08-08 05:33:08.795 INFO booster.py:392 [bob] -- [Anonymous_job] epoch 1 time 11.883273601531982s\n",
      "2024-08-08 05:33:09.171 INFO booster.py:375 [bob] -- [Anonymous_job] epoch 2 tree_setup time 0.3756251335144043s\n",
      "2024-08-08 05:33:09.801 INFO booster.py:426 [bob] -- [Anonymous_job] fragment[0, 0] gradient sum time 0.6281023025512695s\n",
      "2024-08-08 05:33:10.046 INFO booster.py:486 [bob] -- [Anonymous_job] level 0 time 0.872694730758667s\n",
      "2024-08-08 05:33:10.650 INFO booster.py:426 [bob] -- [Anonymous_job] fragment[0, 0] gradient sum time 0.6030585765838623s\n",
      "2024-08-08 05:33:10.948 INFO booster.py:486 [bob] -- [Anonymous_job] level 1 time 0.9009304046630859s\n",
      "2024-08-08 05:33:12.203 INFO booster.py:426 [bob] -- [Anonymous_job] fragment[0, 0] gradient sum time 1.25455904006958s\n",
      "2024-08-08 05:33:12.544 INFO booster.py:486 [bob] -- [Anonymous_job] level 2 time 1.5958290100097656s\n",
      "2024-08-08 05:33:14.865 INFO booster.py:426 [bob] -- [Anonymous_job] fragment[0, 0] gradient sum time 2.3203952312469482s\n",
      "2024-08-08 05:33:15.279 INFO booster.py:486 [bob] -- [Anonymous_job] level 3 time 2.734410285949707s\n",
      "2024-08-08 05:33:19.834 INFO booster.py:426 [bob] -- [Anonymous_job] fragment[0, 0] gradient sum time 4.554096937179565s\n",
      "2024-08-08 05:33:20.441 INFO booster.py:486 [bob] -- [Anonymous_job] level 4 time 5.16070556640625s\n",
      "2024-08-08 05:33:20.640 WARNING callback.py:455 [bob] -- [Anonymous_job] no effective dump_function provided.\n",
      "2024-08-08 05:33:21.008 INFO booster.py:392 [bob] -- [Anonymous_job] epoch 2 time 11.836097240447998s\n",
      "2024-08-08 05:33:21.484 INFO booster.py:375 [bob] -- [Anonymous_job] epoch 3 tree_setup time 0.4753153324127197s\n",
      "2024-08-08 05:33:22.161 INFO booster.py:426 [bob] -- [Anonymous_job] fragment[0, 0] gradient sum time 0.6749143600463867s\n",
      "2024-08-08 05:33:22.403 INFO booster.py:486 [bob] -- [Anonymous_job] level 0 time 0.9168555736541748s\n",
      "2024-08-08 05:33:22.986 INFO booster.py:426 [bob] -- [Anonymous_job] fragment[0, 0] gradient sum time 0.5822439193725586s\n",
      "2024-08-08 05:33:23.269 INFO booster.py:486 [bob] -- [Anonymous_job] level 1 time 0.8655374050140381s\n",
      "2024-08-08 05:33:24.473 INFO booster.py:426 [bob] -- [Anonymous_job] fragment[0, 0] gradient sum time 1.2026488780975342s\n",
      "2024-08-08 05:33:24.769 INFO booster.py:486 [bob] -- [Anonymous_job] level 2 time 1.4988954067230225s\n",
      "2024-08-08 05:33:27.059 INFO booster.py:426 [bob] -- [Anonymous_job] fragment[0, 0] gradient sum time 2.2893853187561035s\n",
      "2024-08-08 05:33:27.445 INFO booster.py:486 [bob] -- [Anonymous_job] level 3 time 2.675642490386963s\n",
      "2024-08-08 05:33:32.064 INFO booster.py:426 [bob] -- [Anonymous_job] fragment[0, 0] gradient sum time 4.617794036865234s\n",
      "2024-08-08 05:33:32.586 INFO booster.py:486 [bob] -- [Anonymous_job] level 4 time 5.139568567276001s\n",
      "2024-08-08 05:33:32.765 WARNING callback.py:455 [bob] -- [Anonymous_job] no effective dump_function provided.\n",
      "2024-08-08 05:33:33.114 INFO booster.py:392 [bob] -- [Anonymous_job] epoch 3 time 11.629157066345215s\n",
      "2024-08-08 05:33:33.506 INFO booster.py:375 [bob] -- [Anonymous_job] epoch 4 tree_setup time 0.3912546634674072s\n",
      "2024-08-08 05:33:34.089 INFO booster.py:426 [bob] -- [Anonymous_job] fragment[0, 0] gradient sum time 0.5813038349151611s\n",
      "2024-08-08 05:33:34.352 INFO booster.py:486 [bob] -- [Anonymous_job] level 0 time 0.8440868854522705s\n",
      "2024-08-08 05:33:34.943 INFO booster.py:426 [bob] -- [Anonymous_job] fragment[0, 0] gradient sum time 0.5903472900390625s\n",
      "2024-08-08 05:33:35.197 INFO booster.py:486 [bob] -- [Anonymous_job] level 1 time 0.8439133167266846s\n",
      "2024-08-08 05:33:36.408 INFO booster.py:426 [bob] -- [Anonymous_job] fragment[0, 0] gradient sum time 1.2101998329162598s\n",
      "2024-08-08 05:33:36.711 INFO booster.py:486 [bob] -- [Anonymous_job] level 2 time 1.5134694576263428s\n",
      "2024-08-08 05:33:39.007 INFO booster.py:426 [bob] -- [Anonymous_job] fragment[0, 0] gradient sum time 2.294879198074341s\n",
      "2024-08-08 05:33:39.397 INFO booster.py:486 [bob] -- [Anonymous_job] level 3 time 2.6852529048919678s\n",
      "2024-08-08 05:33:44.093 INFO booster.py:426 [bob] -- [Anonymous_job] fragment[0, 0] gradient sum time 4.694962501525879s\n",
      "2024-08-08 05:33:44.604 INFO booster.py:486 [bob] -- [Anonymous_job] level 4 time 5.205840587615967s\n",
      "2024-08-08 05:33:44.788 WARNING callback.py:455 [bob] -- [Anonymous_job] no effective dump_function provided.\n",
      "2024-08-08 05:33:44.839 INFO booster.py:392 [bob] -- [Anonymous_job] epoch 4 time 11.332241296768188s\n"
     ]
    },
    {
     "data": {
      "text/html": [
       "<h4>alice's Output:</h4>"
      ]
     },
     "metadata": {},
     "output_type": "display_data"
    },
    {
     "name": "stderr",
     "output_type": "stream",
     "text": [
      "2024-08-08 05:32:39.239 INFO proxy.py:180 [alice] -- [Anonymous_job] Create proxy actor <class 'secretflow.data.core.agent.PartitionAgent'> with party alice.\n",
      "2024-08-08 05:32:39.331 INFO proxy.py:180 [alice] -- [Anonymous_job] Create proxy actor <class 'secretflow.data.core.agent.PartitionAgent'> with party bob.\n",
      "2024-08-08 05:32:40.678 WARNING partition.py:53 [alice] -- [Anonymous_job] To create a Partitoin, we suggest to use function source.\n",
      "2024-08-08 05:32:40.678 INFO proxy.py:180 [alice] -- [Anonymous_job] Create proxy actor <class 'secretflow.data.core.agent.PartitionAgent'> with party alice.\n",
      "2024-08-08 05:32:42.051 INFO proxy.py:180 [alice] -- [Anonymous_job] Create proxy actor <class 'secretflow.ml.boost.ss_xgb_v.core.tree_worker.XgbTreeWorker'> with party alice.\n",
      "2024-08-08 05:32:42.083 INFO proxy.py:180 [alice] -- [Anonymous_job] Create proxy actor <class 'secretflow.ml.boost.ss_xgb_v.core.tree_worker.XgbTreeWorker'> with party bob.\n",
      "2024-08-08 05:32:42.084 INFO booster.py:167 [alice] -- [Anonymous_job] fragment_count 1\n",
      "2024-08-08 05:32:42.151 INFO booster.py:185 [alice] -- [Anonymous_job] prepare time 0.14186620712280273s\n",
      "2024-08-08 05:32:43.534 INFO booster.py:198 [alice] -- [Anonymous_job] global_setup time 1.3809692859649658s\n",
      "2024-08-08 05:32:44.149 INFO booster.py:217 [alice] -- [Anonymous_job] build & infeed bucket_map fragments [0, 0]\n",
      "2024-08-08 05:32:44.150 INFO booster.py:220 [alice] -- [Anonymous_job] build & infeed bucket_map time 0.6154787540435791s\n",
      "2024-08-08 05:32:44.182 INFO booster.py:233 [alice] -- [Anonymous_job] init_pred time 0.0316472053527832s\n",
      "2024-08-08 05:32:44.276 INFO booster.py:375 [alice] -- [Anonymous_job] epoch 0 tree_setup time 0.09259796142578125s\n",
      "2024-08-08 05:32:44.651 INFO booster.py:426 [alice] -- [Anonymous_job] fragment[0, 0] gradient sum time 0.37076306343078613s\n",
      "2024-08-08 05:32:44.967 INFO booster.py:486 [alice] -- [Anonymous_job] level 0 time 0.6865372657775879s\n",
      "2024-08-08 05:32:45.606 INFO booster.py:426 [alice] -- [Anonymous_job] fragment[0, 0] gradient sum time 0.6387491226196289s\n",
      "2024-08-08 05:32:45.892 INFO booster.py:486 [alice] -- [Anonymous_job] level 1 time 0.9246559143066406s\n",
      "2024-08-08 05:32:47.101 INFO booster.py:426 [alice] -- [Anonymous_job] fragment[0, 0] gradient sum time 1.2083349227905273s\n",
      "2024-08-08 05:32:47.458 INFO booster.py:486 [alice] -- [Anonymous_job] level 2 time 1.5656933784484863s\n",
      "2024-08-08 05:32:50.049 INFO booster.py:426 [alice] -- [Anonymous_job] fragment[0, 0] gradient sum time 2.5892531871795654s\n",
      "2024-08-08 05:32:50.621 INFO booster.py:486 [alice] -- [Anonymous_job] level 3 time 3.1613500118255615s\n",
      "2024-08-08 05:32:55.366 INFO booster.py:426 [alice] -- [Anonymous_job] fragment[0, 0] gradient sum time 4.744351863861084s\n",
      "2024-08-08 05:32:55.924 INFO booster.py:486 [alice] -- [Anonymous_job] level 4 time 5.3027918338775635s\n",
      "2024-08-08 05:32:56.069 WARNING callback.py:455 [alice] -- [Anonymous_job] no effective dump_function provided.\n",
      "2024-08-08 05:32:56.498 INFO booster.py:392 [alice] -- [Anonymous_job] epoch 0 time 12.22110652923584s\n",
      "2024-08-08 05:32:56.913 INFO booster.py:375 [alice] -- [Anonymous_job] epoch 1 tree_setup time 0.4144260883331299s\n",
      "2024-08-08 05:32:57.555 INFO booster.py:426 [alice] -- [Anonymous_job] fragment[0, 0] gradient sum time 0.6369259357452393s\n",
      "2024-08-08 05:32:57.838 INFO booster.py:486 [alice] -- [Anonymous_job] level 0 time 0.9203512668609619s\n",
      "2024-08-08 05:32:58.457 INFO booster.py:426 [alice] -- [Anonymous_job] fragment[0, 0] gradient sum time 0.6182637214660645s\n",
      "2024-08-08 05:32:58.734 INFO booster.py:486 [alice] -- [Anonymous_job] level 1 time 0.8955631256103516s\n",
      "2024-08-08 05:32:59.924 INFO booster.py:426 [alice] -- [Anonymous_job] fragment[0, 0] gradient sum time 1.1890461444854736s\n",
      "2024-08-08 05:33:00.243 INFO booster.py:486 [alice] -- [Anonymous_job] level 2 time 1.5078182220458984s\n",
      "2024-08-08 05:33:02.654 INFO booster.py:426 [alice] -- [Anonymous_job] fragment[0, 0] gradient sum time 2.410337448120117s\n",
      "2024-08-08 05:33:03.068 INFO booster.py:486 [alice] -- [Anonymous_job] level 3 time 2.824230909347534s\n",
      "2024-08-08 05:33:07.717 INFO booster.py:426 [alice] -- [Anonymous_job] fragment[0, 0] gradient sum time 4.647904396057129s\n",
      "2024-08-08 05:33:08.247 INFO booster.py:486 [alice] -- [Anonymous_job] level 4 time 5.178570032119751s\n",
      "2024-08-08 05:33:08.419 WARNING callback.py:455 [alice] -- [Anonymous_job] no effective dump_function provided.\n",
      "2024-08-08 05:33:08.797 INFO booster.py:392 [alice] -- [Anonymous_job] epoch 1 time 11.883203744888306s\n",
      "2024-08-08 05:33:09.173 INFO booster.py:375 [alice] -- [Anonymous_job] epoch 2 tree_setup time 0.37496113777160645s\n",
      "2024-08-08 05:33:09.804 INFO booster.py:426 [alice] -- [Anonymous_job] fragment[0, 0] gradient sum time 0.6257436275482178s\n",
      "2024-08-08 05:33:10.049 INFO booster.py:486 [alice] -- [Anonymous_job] level 0 time 0.8705344200134277s\n",
      "2024-08-08 05:33:10.654 INFO booster.py:426 [alice] -- [Anonymous_job] fragment[0, 0] gradient sum time 0.6046123504638672s\n",
      "2024-08-08 05:33:10.950 INFO booster.py:486 [alice] -- [Anonymous_job] level 1 time 0.9008700847625732s\n",
      "2024-08-08 05:33:12.206 INFO booster.py:426 [alice] -- [Anonymous_job] fragment[0, 0] gradient sum time 1.2552299499511719s\n",
      "2024-08-08 05:33:12.548 INFO booster.py:486 [alice] -- [Anonymous_job] level 2 time 1.5966150760650635s\n",
      "2024-08-08 05:33:14.870 INFO booster.py:426 [alice] -- [Anonymous_job] fragment[0, 0] gradient sum time 2.3217828273773193s\n",
      "2024-08-08 05:33:15.282 INFO booster.py:486 [alice] -- [Anonymous_job] level 3 time 2.7335317134857178s\n",
      "2024-08-08 05:33:19.838 INFO booster.py:426 [alice] -- [Anonymous_job] fragment[0, 0] gradient sum time 4.554819583892822s\n",
      "2024-08-08 05:33:20.445 INFO booster.py:486 [alice] -- [Anonymous_job] level 4 time 5.161431550979614s\n",
      "2024-08-08 05:33:20.645 WARNING callback.py:455 [alice] -- [Anonymous_job] no effective dump_function provided.\n",
      "2024-08-08 05:33:21.011 INFO booster.py:392 [alice] -- [Anonymous_job] epoch 2 time 11.83651065826416s\n",
      "2024-08-08 05:33:21.487 INFO booster.py:375 [alice] -- [Anonymous_job] epoch 3 tree_setup time 0.47564172744750977s\n",
      "2024-08-08 05:33:22.164 INFO booster.py:426 [alice] -- [Anonymous_job] fragment[0, 0] gradient sum time 0.6723103523254395s\n",
      "2024-08-08 05:33:22.406 INFO booster.py:486 [alice] -- [Anonymous_job] level 0 time 0.9138176441192627s\n",
      "2024-08-08 05:33:22.989 INFO booster.py:426 [alice] -- [Anonymous_job] fragment[0, 0] gradient sum time 0.5828917026519775s\n",
      "2024-08-08 05:33:23.272 INFO booster.py:486 [alice] -- [Anonymous_job] level 1 time 0.8656249046325684s\n",
      "2024-08-08 05:33:24.476 INFO booster.py:426 [alice] -- [Anonymous_job] fragment[0, 0] gradient sum time 1.2028899192810059s\n",
      "2024-08-08 05:33:24.772 INFO booster.py:486 [alice] -- [Anonymous_job] level 2 time 1.4991037845611572s\n",
      "2024-08-08 05:33:27.063 INFO booster.py:426 [alice] -- [Anonymous_job] fragment[0, 0] gradient sum time 2.290233850479126s\n",
      "2024-08-08 05:33:27.448 INFO booster.py:486 [alice] -- [Anonymous_job] level 3 time 2.6749978065490723s\n",
      "2024-08-08 05:33:32.067 INFO booster.py:426 [alice] -- [Anonymous_job] fragment[0, 0] gradient sum time 4.618237495422363s\n",
      "2024-08-08 05:33:32.589 INFO booster.py:486 [alice] -- [Anonymous_job] level 4 time 5.140665292739868s\n",
      "2024-08-08 05:33:32.769 WARNING callback.py:455 [alice] -- [Anonymous_job] no effective dump_function provided.\n",
      "2024-08-08 05:33:33.118 INFO booster.py:392 [alice] -- [Anonymous_job] epoch 3 time 11.629794597625732s\n",
      "2024-08-08 05:33:33.508 INFO booster.py:375 [alice] -- [Anonymous_job] epoch 4 tree_setup time 0.389509916305542s\n",
      "2024-08-08 05:33:34.092 INFO booster.py:426 [alice] -- [Anonymous_job] fragment[0, 0] gradient sum time 0.5793519020080566s\n",
      "2024-08-08 05:33:34.355 INFO booster.py:486 [alice] -- [Anonymous_job] level 0 time 0.8427605628967285s\n",
      "2024-08-08 05:33:34.947 INFO booster.py:426 [alice] -- [Anonymous_job] fragment[0, 0] gradient sum time 0.5906507968902588s\n",
      "2024-08-08 05:33:35.200 INFO booster.py:486 [alice] -- [Anonymous_job] level 1 time 0.8441548347473145s\n",
      "2024-08-08 05:33:36.411 INFO booster.py:426 [alice] -- [Anonymous_job] fragment[0, 0] gradient sum time 1.2097525596618652s\n",
      "2024-08-08 05:33:36.714 INFO booster.py:486 [alice] -- [Anonymous_job] level 2 time 1.5127012729644775s\n",
      "2024-08-08 05:33:39.011 INFO booster.py:426 [alice] -- [Anonymous_job] fragment[0, 0] gradient sum time 2.296095848083496s\n",
      "2024-08-08 05:33:39.401 INFO booster.py:486 [alice] -- [Anonymous_job] level 3 time 2.6860227584838867s\n",
      "2024-08-08 05:33:44.096 INFO booster.py:426 [alice] -- [Anonymous_job] fragment[0, 0] gradient sum time 4.694307804107666s\n",
      "2024-08-08 05:33:44.608 INFO booster.py:486 [alice] -- [Anonymous_job] level 4 time 5.206100702285767s\n",
      "2024-08-08 05:33:44.793 WARNING callback.py:455 [alice] -- [Anonymous_job] no effective dump_function provided.\n",
      "2024-08-08 05:33:44.842 INFO booster.py:392 [alice] -- [Anonymous_job] epoch 4 time 11.332815647125244s\n"
     ]
    }
   ],
   "source": [
    "start=time.perf_counter()\n",
    "current_dir = os.getcwd()\n",
    "# load alice and bob data as a single vdataframe\n",
    "data = v_read_csv(\n",
    "    {alice: f\"{current_dir}/my_bank_0_15.csv\", bob: f\"{current_dir}/my_bank_16.csv\"},\n",
    "    keys=\"id\",\n",
    "    drop_keys=\"id\",\n",
    ")\n",
    "# load alice's label data\n",
    "alice_y_pyu_object = alice(lambda path: pd.read_csv(path, index_col = 0))(f\"{current_dir}/bank_y.csv\") \n",
    "label = VDataFrame(partitions={alice: partition(alice_y_pyu_object)})\n",
    "\n",
    "encoder = LabelEncoder()\n",
    "data['job'] = encoder.fit_transform(data['job'])\n",
    "data['marital'] = encoder.fit_transform(data['marital'])\n",
    "data['education'] = encoder.fit_transform(data['education'])\n",
    "data['default'] = encoder.fit_transform(data['default'])\n",
    "data['housing'] = encoder.fit_transform(data['housing'])\n",
    "data['loan'] = encoder.fit_transform(data['loan'])\n",
    "data['contact'] = encoder.fit_transform(data['contact'])\n",
    "data['poutcome'] = encoder.fit_transform(data['poutcome'])\n",
    "data['month'] = encoder.fit_transform(data['month'])\n",
    "label = encoder.fit_transform(label)\n",
    "\n",
    "X_train_fed, X_test_fed = train_test_split_fed(data, test_size=0.2, random_state=94)\n",
    "y_train_fed, y_test_fed = train_test_split_fed(label, test_size=0.2, random_state=94)\n",
    "\n",
    "xgb=Xgb(spu_device)\n",
    "params = {\n",
    "    # for more detail, see Xgb API doc\n",
    "    'num_boost_round': 5,\n",
    "    'max_depth': 5,\n",
    "    'learning_rate': 0.1,\n",
    "    'sketch_eps': 0.08,\n",
    "    'objective': 'logistic',\n",
    "    'reg_lambda': 0.1,\n",
    "    'subsample': 1,\n",
    "    'colsample_by_tree': 1,\n",
    "    'base_score': 0.5,\n",
    "}\n",
    "new_model = xgb.train(params, X_train_fed, y_train_fed)"
   ]
  },
  {
   "cell_type": "code",
   "execution_count": 15,
   "id": "0d15249d-272c-4d66-8daf-5ca61d8df10b",
   "metadata": {
    "execution": {
     "parties": "[\"alice\",\"bob\"]",
     "shell.execute_reply.end": "2024-08-08T05:33:49.586104Z",
     "shell.execute_reply.started": "2024-08-08T05:33:44.844942Z",
     "to_execute": "2024-08-08T05:31:22.771Z"
    },
    "libroFormatter": "formatter-string"
   },
   "outputs": [
    {
     "data": {
      "text/html": [
       "<h4>bob's Output:</h4>"
      ]
     },
     "metadata": {},
     "output_type": "display_data"
    },
    {
     "name": "stderr",
     "output_type": "stream",
     "text": [
      "2024-08-08 05:33:44.871 INFO proxy.py:180 [bob] -- [Anonymous_job] Create proxy actor <class 'secretflow.ml.boost.ss_xgb_v.core.tree_worker.XgbTreeWorker'> with party alice.\n",
      "2024-08-08 05:33:44.872 INFO proxy.py:180 [bob] -- [Anonymous_job] Create proxy actor <class 'secretflow.ml.boost.ss_xgb_v.core.tree_worker.XgbTreeWorker'> with party bob.\n",
      "2024-08-08 05:33:47.875 INFO proxy.py:180 [bob] -- [Anonymous_job] Create proxy actor <class 'secretflow.ml.boost.ss_xgb_v.core.tree_worker.XgbTreeWorker'> with party alice.\n",
      "2024-08-08 05:33:47.876 INFO proxy.py:180 [bob] -- [Anonymous_job] Create proxy actor <class 'secretflow.ml.boost.ss_xgb_v.core.tree_worker.XgbTreeWorker'> with party bob.\n"
     ]
    },
    {
     "name": "stdout",
     "output_type": "stream",
     "text": [
      "train set AUC score:  0.9026830677692621 test set AUC score:  0.8923910162748845\n"
     ]
    },
    {
     "data": {
      "text/plain": [
       "70.34834145300556"
      ]
     },
     "execution_count": 15,
     "metadata": {},
     "output_type": "execute_result"
    },
    {
     "data": {
      "text/html": [
       "<h4>alice's Output:</h4>"
      ]
     },
     "metadata": {},
     "output_type": "display_data"
    },
    {
     "name": "stderr",
     "output_type": "stream",
     "text": [
      "2024-08-08 05:33:44.875 INFO proxy.py:180 [alice] -- [Anonymous_job] Create proxy actor <class 'secretflow.ml.boost.ss_xgb_v.core.tree_worker.XgbTreeWorker'> with party alice.\n",
      "2024-08-08 05:33:44.903 INFO proxy.py:180 [alice] -- [Anonymous_job] Create proxy actor <class 'secretflow.ml.boost.ss_xgb_v.core.tree_worker.XgbTreeWorker'> with party bob.\n",
      "2024-08-08 05:33:47.877 INFO proxy.py:180 [alice] -- [Anonymous_job] Create proxy actor <class 'secretflow.ml.boost.ss_xgb_v.core.tree_worker.XgbTreeWorker'> with party alice.\n",
      "2024-08-08 05:33:47.903 INFO proxy.py:180 [alice] -- [Anonymous_job] Create proxy actor <class 'secretflow.ml.boost.ss_xgb_v.core.tree_worker.XgbTreeWorker'> with party bob.\n"
     ]
    },
    {
     "name": "stdout",
     "output_type": "stream",
     "text": [
      "train set AUC score:  0.9026830677692621 test set AUC score:  0.8923910162748845\n"
     ]
    },
    {
     "data": {
      "text/plain": [
       "70.34707892101142"
      ]
     },
     "execution_count": 15,
     "metadata": {},
     "output_type": "execute_result"
    }
   ],
   "source": [
    "print(\n",
    "    \"train set AUC score: \",\n",
    "    roc_auc_score(reveal(y_train_fed.partitions[alice].data), reveal(new_model.predict(X_train_fed))),\n",
    "    \"test set AUC score: \",\n",
    "    roc_auc_score(reveal(y_test_fed.partitions[alice].data), reveal(new_model.predict(X_test_fed))),\n",
    ")\n",
    "time_elapse = time.perf_counter() - start\n",
    "time_elapse"
   ]
  },
  {
   "cell_type": "markdown",
   "id": "8dacd5cc-832a-4242-9805-2323d926b955",
   "metadata": {
    "libroFormatter": "formatter-string"
   },
   "source": [
    "Questions:\n",
    "\n",
    "1\\. Produce this task using ss-XGB ?\n",
    "\n",
    "2\\. How much gain does ss-XGB achieve?\n",
    "\n",
    "3\\. What about if Alice has 15 features while Bob has 1 feature? Can SGB and ss-XGB outperform alice's single party XGB's model?"
   ]
  },
  {
   "cell_type": "markdown",
   "id": "b439b4f3-1737-4011-b2a4-83d9272c8c72",
   "metadata": {
    "execution": {},
    "libroCellType": "markdown",
    "libroFormatter": "formatter-string"
   },
   "source": [
    "Ans:\n",
    "\n",
    "1\\. done\n",
    "\n",
    "2. \n",
    "\n",
    "```\n",
    "train:0.9027049742255001\n",
    "\n",
    "test:0.8924150097847268\n",
    "```\n",
    "\n",
    "3\\. alice's single party XGB's model performs better\n",
    "\n",
    "(1) ss_xgb time consuming: more than 76s\n",
    "\n",
    "train set AUC score:0.9026768922703838 test set AUC score: 0.892436806298487\n",
    "\n",
    "(2) sgb time consuming: 37.186125394000555 (given by file \"SGB 练习——联合建模有数据价值吗？.ipynb\" )\n",
    "\n",
    "train set AUC score:  0.9015009566774648 test set AUC score:  0.8932670395547175\n",
    "\n",
    "(3) single party xgb: total time: 0.3238701200025389(given by file \"SGB alice own game.ipynb\" )\n",
    "\n",
    "train set AUC score: 0.9281303699212398 test set AUC score: 0.9116829545018299 num_trees: 20"
   ]
  }
 ],
 "metadata": {},
 "nbformat": 4,
 "nbformat_minor": 5
}
